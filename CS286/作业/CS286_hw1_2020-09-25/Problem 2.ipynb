{
 "cells": [
  {
   "cell_type": "markdown",
   "metadata": {},
   "source": [
    "## Problem 2. Regression and Random Forest (25 points)\n",
    "### 2.1 Linear Regression (10 points)\n",
    "#### Let predict target as $\\hat{y}$, input as $x$, real target as $y$, the weight of input $x$ as $w$, the bias as $b$.\n",
    "(1) Write the form of optimization problem of linear regression (2 points).   \n",
    "(2) Write the form of loss function $L$ for linear regression and   computate $\\frac{\\partial L}{\\partial w},\\frac{\\partial L}{\\partial b}$ (3 points).  \n",
    "**Answer**:  \n",
    "(1) Find the best $w$ to minimize the loss function $L$  \n",
    "$\\arg\\min_w\\frac{1}{m} \\sum_{i=1}^{m}\\left(w^{T} x^{(i)}-y^{(i)}\\right)^{2}$  \n",
    "(2) $L(w)=\\frac{1}{m} \\sum_{i=1}^{m}\\left(w^{T} x^{(i)}-y^{(i)}\\right)^{2}$  \n",
    "    $\\frac{\\partial}{\\partial w_{j}} L\\left(w\\right)=\\frac{2}{m} \\sum_{i=1}^{m}\\left(w^{T} x^{(i)}-y^{(i)}\\right) x_{j}^{(i)}$  \n",
    "    $\\because$ $w_0=b$  \n",
    "    $\\therefore$ $\\frac{\\partial L}{\\partial b}=\\frac{2}{m} \\sum_{i=1}^{m}\\left(w^{T} x^{(i)}-y^{(i)}\\right) x_{0}^{(i)}$"
   ]
  },
  {
   "cell_type": "code",
   "execution_count": 1,
   "metadata": {},
   "outputs": [],
   "source": [
    "from sklearn.preprocessing import PolynomialFeatures\n",
    "from sklearn.linear_model import LinearRegression\n",
    "from sklearn.pipeline import Pipeline\n",
    "import numpy as np\n",
    "from matplotlib import pyplot as plt\n",
    "%matplotlib inline\n",
    "x = np.linspace(0,1,20)\n",
    "y = x+ 2*x**2+3*x**3+np.sin(2*np.pi*x)\n",
    "y=y+np.random.normal(0,0.5,y.shape)\n",
    "# different degree\n",
    "M=[1,5,10]\n"
   ]
  },
  {
   "cell_type": "markdown",
   "metadata": {},
   "source": [
    "(3) please use polynomial regression to complete this code and compare the performance of different degree (given as M) to fit data. (5 points)   \n",
    "requirement: show the figure of data points and the curve fitted by your model on the condition of different degree. \n",
    "**Hint**: you can use scikit-learn api function. "
   ]
  },
  {
   "cell_type": "code",
   "execution_count": 10,
   "metadata": {},
   "outputs": [
    {
     "data": {
      "image/png": "[encoded data removed]",
      "text/plain": [
       "<Figure size 432x288 with 1 Axes>"
      ]
     },
     "metadata": {
      "needs_background": "light"
     },
     "output_type": "display_data"
    }
   ],
   "source": [
    "# put your code here \n",
    "##########################################################\n",
    "from sklearn.preprocessing import PolynomialFeatures\n",
    "from sklearn.linear_model import LinearRegression\n",
    "from sklearn.pipeline import Pipeline\n",
    "import numpy as np\n",
    "from matplotlib import pyplot as plt\n",
    "%matplotlib inline\n",
    "x = np.linspace(0,1,20)\n",
    "y = x+ 2*x**2+3*x**3+np.sin(2*np.pi*x)\n",
    "y=y+np.random.normal(0,0.5,y.shape)\n",
    "# different degree\n",
    "M=[1,5,10]\n",
    "\n",
    "\n",
    "x1=x.reshape(-1,1)\n",
    "\n",
    "# poly = PolynomialFeatures(degree=1)\n",
    "# x2=poly.fit_transform(x1)\n",
    "\n",
    "\n",
    "def mypipeline(degree,x1,y):\n",
    "    poly_reg = Pipeline([\n",
    "        ('poly',PolynomialFeatures(degree=degree)),\n",
    "        ('lin_reg',LinearRegression())\n",
    "    ])\n",
    "    poly_reg.fit(x1,y)\n",
    "    y_predict = poly_reg.predict(x1)\n",
    "    return y_predict\n",
    "\n",
    "y1=mypipeline(M[0],x1,y)\n",
    "y2=mypipeline(M[1],x1,y)\n",
    "y3=mypipeline(M[2],x1,y)\n",
    "plt.scatter(x, y)\n",
    "# plt.plot(np.sort(x),y_predict[np.argsort(x)],color='r')\n",
    "plt.plot(x1,y1,color='r')\n",
    "plt.plot(x1,y2,color='g')\n",
    "plt.plot(x1,y3,color='b')\n",
    "plt.show()\n",
    "##########################################################"
   ]
  },
  {
   "cell_type": "markdown",
   "metadata": {},
   "source": [
    "### 2.2 Random Forest (15 points)\n",
    "(1) please write the computational formula of Gini Impurity (5 points).   \n",
    "**Answer:**  \n",
    "(1)$G=\\sum_{i=1}^{C} p(i) *(1-p(i))$"
   ]
  },
  {
   "cell_type": "code",
   "execution_count": 3,
   "metadata": {},
   "outputs": [],
   "source": [
    "from sklearn.datasets import load_iris\n",
    "from sklearn.tree import plot_tree\n",
    "from sklearn.ensemble import RandomForestClassifier\n",
    "import numpy as np\n",
    "import random\n",
    "\n",
    "iris = load_iris()\n",
    "index=list(range(iris.data.shape[0]))\n",
    "random.shuffle(index)\n",
    "train_x,train_y=iris.data[index[:120]], iris.target[index[:120]]\n",
    "test_x,test_y=iris.data[index[120:]], iris.target[index[120:]]\n",
    "N=[3,10,20]"
   ]
  },
  {
   "cell_type": "markdown",
   "metadata": {},
   "source": [
    "(2) In this section you should use the random forest method to predict the class of iris on different numbers (given as N) of decision trees and compute the L1 loss for each status.(Hint: When you compute the loss, for each N you should run 50 times and take the average), the result of loss should be printed or visualized. (7 points)"
   ]
  },
  {
   "cell_type": "code",
   "execution_count": 5,
   "metadata": {},
   "outputs": [
    {
     "name": "stdout",
     "output_type": "stream",
     "text": [
      "0.035555555555555556\n",
      "0.021111111111111112\n",
      "0.013333333333333332\n",
      "<class 'numpy.float64'>\n"
     ]
    }
   ],
   "source": [
    "# put your code here \n",
    "##########################################################\n",
    "from sklearn.datasets import load_iris\n",
    "from sklearn.tree import plot_tree\n",
    "from sklearn.ensemble import RandomForestClassifier\n",
    "import numpy as np\n",
    "import random\n",
    "\n",
    "iris = load_iris()\n",
    "index=list(range(iris.data.shape[0]))\n",
    "random.shuffle(index)\n",
    "train_x,train_y=iris.data[index[:120]], iris.target[index[:120]]\n",
    "test_x,test_y=iris.data[index[120:]], iris.target[index[120:]]\n",
    "N=[3,10,20]     \n",
    "\n",
    "L1sum_0=0\n",
    "forest0=RandomForestClassifier(n_estimators=N[0])\n",
    "for i in range(50):\n",
    "    forest0.fit(train_x,train_y)\n",
    "    pre_x=forest0.predict(test_x)\n",
    "    L1=np.sum(np.abs(test_y-pre_x))/np.shape(test_y)[0]\n",
    "    L1sum_0+=L1\n",
    "#     print(L1)\n",
    "L1_average_0=L1sum_0/np.shape(test_y)[0]\n",
    "\n",
    "\n",
    "L1sum_1=0\n",
    "forest1=RandomForestClassifier(n_estimators=N[1])\n",
    "for i in range(50):\n",
    "    forest1.fit(train_x,train_y)\n",
    "    pre_x=forest1.predict(test_x)\n",
    "    L1=np.sum(np.abs(test_y-pre_x))/np.shape(test_y)[0]\n",
    "    L1sum_1+=L1\n",
    "#     print(L1)\n",
    "L1_average_1=L1sum_1/np.shape(test_y)[0]\n",
    "\n",
    "\n",
    "L1sum_2=0\n",
    "forest2=RandomForestClassifier(n_estimators=N[2])\n",
    "for i in range(50):\n",
    "    forest2.fit(train_x,train_y)\n",
    "    pre_x=forest2.predict(test_x)\n",
    "    L1=np.sum(np.abs(test_y-pre_x))/np.shape(test_y)[0]\n",
    "    L1sum_2+=L1\n",
    "#     print(L1)\n",
    "L1_average_2=L1sum_2/np.shape(test_y)[0]\n",
    "print(L1_average_0)\n",
    "print(L1_average_1)\n",
    "print(L1_average_2)\n",
    "    \n",
    "    \n",
    "##########################################################"
   ]
  },
  {
   "cell_type": "markdown",
   "metadata": {},
   "source": [
    "(3) In this section you should use export_graphviz() function and package graphviz to visualize the single decision tree based on your constructed random forest. (3 points)"
   ]
  },
  {
   "cell_type": "code",
   "execution_count": 82,
   "metadata": {},
   "outputs": [
    {
     "data": {
      "text/plain": [
       "[Text(133.92000000000002, 190.26, 'X[2] <= 2.35\\ngini = 0.66\\nsamples = 72\\nvalue = [37, 48, 35]'),\n",
       " Text(66.96000000000001, 135.9, 'gini = 0.0\\nsamples = 27\\nvalue = [37, 0, 0]'),\n",
       " Text(200.88000000000002, 135.9, 'X[2] <= 5.2\\ngini = 0.488\\nsamples = 45\\nvalue = [0, 48, 35]'),\n",
       " Text(133.92000000000002, 81.53999999999999, 'X[3] <= 1.75\\ngini = 0.077\\nsamples = 26\\nvalue = [0, 48, 2]'),\n",
       " Text(66.96000000000001, 27.180000000000007, 'gini = 0.0\\nsamples = 24\\nvalue = [0, 48, 0]'),\n",
       " Text(200.88000000000002, 27.180000000000007, 'gini = 0.0\\nsamples = 2\\nvalue = [0, 0, 2]'),\n",
       " Text(267.84000000000003, 81.53999999999999, 'gini = 0.0\\nsamples = 19\\nvalue = [0, 0, 33]')]"
      ]
     },
     "execution_count": 82,
     "metadata": {},
     "output_type": "execute_result"
    },
    {
     "data": {
      "image/png": "[encoded data removed]",
      "text/plain": [
       "<Figure size 432x288 with 1 Axes>"
      ]
     },
     "metadata": {
      "needs_background": "light"
     },
     "output_type": "display_data"
    }
   ],
   "source": [
    "# visualize single tree\n",
    "# put your code here\n",
    "##########################################################\n",
    "estimator = forest1.estimators_[9]\n",
    "plot_tree(estimator)\n",
    "        \n",
    "        \n",
    "        \n",
    "##########################################################"
   ]
  },
  {
   "cell_type": "markdown",
   "metadata": {},
   "source": []
  }
 ],
 "metadata": {
  "kernelspec": {
   "display_name": "Python 3",
   "language": "python",
   "name": "python3"
  },
  "language_info": {
   "codemirror_mode": {
    "name": "ipython",
    "version": 3
   },
   "file_extension": ".py",
   "mimetype": "text/x-python",
   "name": "python",
   "nbconvert_exporter": "python",
   "pygments_lexer": "ipython3",
   "version": "3.6.2"
  }
 },
 "nbformat": 4,
 "nbformat_minor": 2
}
