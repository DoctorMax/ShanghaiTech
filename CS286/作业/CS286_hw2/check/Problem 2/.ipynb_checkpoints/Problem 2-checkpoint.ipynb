{
 "cells": [
  {
   "cell_type": "markdown",
   "metadata": {},
   "source": [
    "## Problem 2. scRNA-seq data and Autoencoders (20 points)"
   ]
  },
  {
   "cell_type": "markdown",
   "metadata": {},
   "source": [
    "**Background:** Single-cell RNA-seq (scRNA-seq) data are often noisy and sparse, e.g. only a fraction of transcribed RNAs are captured in the sequencing due to the difficulty of amplifying a small signal from a single cell. While there are many genes expressed in a cell at any given time, two entirely different RNA-seq profiles could come from cells with similar expression levels. In this assignment, you will explore how to utilize autoencoders to identify clusters of scRNA-seq profiles. These clusters could represent varying expression profiles from cells of the same cell type, such as the profiles that you might see in different phases of the cell cycle. \n",
    "\n",
    "**Dataset:** Facing these challenges, simulation is important for conducting repeatable experiments with ground truth to test the performance of methods. Splatter is a software package for generating such simulated scRNA-seq count data, which can be used for evaluation. The data are provided in the form of normalized log counts across 1000 genes in 5000 cells. The gene expression matrix is provided as ./counts.npy, and the label file is ./labels.txt."
   ]
  },
  {
   "cell_type": "markdown",
   "metadata": {},
   "source": [
    "\n",
    "Given the skeleton code below, you should fill out the 'TBD' parts: \n",
    "\n",
    "**1. [12 points]** Train an Autoencoder to learn the distribution of scRNA-seq counts (refer to **'Implementation Notes'** to get more details of network).\n",
    "\n",
    "(a) [8 points] Finish the **Autoencoder** code (from 'define model' to 'obtain latent vectors'). Use latent embedding sizes (i.e. the size of the output of the encoder, and the input to the decoder) of 5, 10, 50, and 100.\n",
    "\n",
    "(b) [4 points] Report and compare their reconstruction Mean Squared Errors (MSEs). How does the size of the latent space affect the reconstruction MSE? (Please draw the loss function of MSE over epochs in the training and describe your observation).\n",
    "\n",
    "\n",
    "**2. [8 points]** Analyze the learned encodings. We have provided code to produce a PCA plot and a t-SNE plot of the raw RNA-seq data.\n",
    "\n",
    "(a) [3 points] Adapt the provided code to make PCA and t-SNE plots of the data reconstructed by the 4 autoencoders.\n",
    "\n",
    "(b) [3 points] Take the trained Encoders and make PCA and t-SNE plots of the latent vectors. Remember to draw plots for all the 4 autoencoders.\n",
    "\n",
    "(c) [1 points] Report the plots of the original data with those of the reconstructed data. How are the PCA and t-SNE plots of the reconstructed data qualitatively different from those of the original data? \n",
    "\n",
    "(d) [1 points] Report the plots of the original data with the plots of the latent vectors. How do the various embedding sizes change the quality of clustering?"
   ]
  },
  {
   "cell_type": "code",
   "execution_count": 1,
   "metadata": {},
   "outputs": [],
   "source": [
    "import os\n",
    "import sys\n",
    "import numpy as np\n",
    "import pandas as pd\n",
    "\n",
    "import matplotlib.pyplot as plt\n",
    "from sklearn.manifold import TSNE\n",
    "from sklearn.decomposition import PCA\n",
    "\n",
    "import torch\n",
    "from torch import optim\n",
    "from torch import nn\n",
    "from torch.utils.data import DataLoader\n",
    "\n",
    "# import tensorflow as tf\n",
    "# from tensorflow import keras\n",
    "%matplotlib inline\n",
    "\n",
    "\n",
    "# Terminology Note: Latent vector = Latent Representation = Encoding = Output of Encoder"
   ]
  },
  {
   "cell_type": "markdown",
   "metadata": {},
   "source": [
    "### Parameters, loading data and helper function"
   ]
  },
  {
   "cell_type": "code",
   "execution_count": 2,
   "metadata": {},
   "outputs": [
    {
     "name": "stdout",
     "output_type": "stream",
     "text": [
      "labels shape:  (5000,)\n",
      "dataset shape:  (5000, 1000)\n"
     ]
    },
    {
     "data": {
      "text/html": [
       "<div>\n",
       "<style scoped>\n",
       "    .dataframe tbody tr th:only-of-type {\n",
       "        vertical-align: middle;\n",
       "    }\n",
       "\n",
       "    .dataframe tbody tr th {\n",
       "        vertical-align: top;\n",
       "    }\n",
       "\n",
       "    .dataframe thead th {\n",
       "        text-align: right;\n",
       "    }\n",
       "</style>\n",
       "<table border=\"1\" class=\"dataframe\">\n",
       "  <thead>\n",
       "    <tr style=\"text-align: right;\">\n",
       "      <th></th>\n",
       "      <th>0</th>\n",
       "      <th>1</th>\n",
       "      <th>2</th>\n",
       "      <th>3</th>\n",
       "      <th>4</th>\n",
       "      <th>5</th>\n",
       "      <th>6</th>\n",
       "      <th>7</th>\n",
       "      <th>8</th>\n",
       "      <th>9</th>\n",
       "      <th>...</th>\n",
       "      <th>990</th>\n",
       "      <th>991</th>\n",
       "      <th>992</th>\n",
       "      <th>993</th>\n",
       "      <th>994</th>\n",
       "      <th>995</th>\n",
       "      <th>996</th>\n",
       "      <th>997</th>\n",
       "      <th>998</th>\n",
       "      <th>999</th>\n",
       "    </tr>\n",
       "  </thead>\n",
       "  <tbody>\n",
       "    <tr>\n",
       "      <th>0</th>\n",
       "      <td>4.818027</td>\n",
       "      <td>0.000000</td>\n",
       "      <td>0.000000</td>\n",
       "      <td>0.000000</td>\n",
       "      <td>0.000000</td>\n",
       "      <td>0.0</td>\n",
       "      <td>0.000000</td>\n",
       "      <td>0.00000</td>\n",
       "      <td>3.595109</td>\n",
       "      <td>0.0</td>\n",
       "      <td>...</td>\n",
       "      <td>0.000000</td>\n",
       "      <td>7.875205</td>\n",
       "      <td>0.000000</td>\n",
       "      <td>5.403121</td>\n",
       "      <td>6.033264</td>\n",
       "      <td>4.332443</td>\n",
       "      <td>0.0</td>\n",
       "      <td>5.625551</td>\n",
       "      <td>9.738974</td>\n",
       "      <td>4.711081</td>\n",
       "    </tr>\n",
       "    <tr>\n",
       "      <th>1</th>\n",
       "      <td>4.949290</td>\n",
       "      <td>5.332359</td>\n",
       "      <td>4.106732</td>\n",
       "      <td>4.176539</td>\n",
       "      <td>0.000000</td>\n",
       "      <td>0.0</td>\n",
       "      <td>0.000000</td>\n",
       "      <td>0.00000</td>\n",
       "      <td>5.100612</td>\n",
       "      <td>0.0</td>\n",
       "      <td>...</td>\n",
       "      <td>3.695760</td>\n",
       "      <td>5.863619</td>\n",
       "      <td>3.956085</td>\n",
       "      <td>5.170709</td>\n",
       "      <td>5.609743</td>\n",
       "      <td>5.820660</td>\n",
       "      <td>0.0</td>\n",
       "      <td>5.477707</td>\n",
       "      <td>10.617377</td>\n",
       "      <td>3.377886</td>\n",
       "    </tr>\n",
       "    <tr>\n",
       "      <th>2</th>\n",
       "      <td>4.590253</td>\n",
       "      <td>4.791590</td>\n",
       "      <td>0.000000</td>\n",
       "      <td>4.137063</td>\n",
       "      <td>4.791590</td>\n",
       "      <td>0.0</td>\n",
       "      <td>0.000000</td>\n",
       "      <td>0.00000</td>\n",
       "      <td>3.563473</td>\n",
       "      <td>0.0</td>\n",
       "      <td>...</td>\n",
       "      <td>0.000000</td>\n",
       "      <td>8.038405</td>\n",
       "      <td>3.563473</td>\n",
       "      <td>5.001115</td>\n",
       "      <td>5.445224</td>\n",
       "      <td>5.294245</td>\n",
       "      <td>0.0</td>\n",
       "      <td>6.289117</td>\n",
       "      <td>9.903455</td>\n",
       "      <td>4.013606</td>\n",
       "    </tr>\n",
       "    <tr>\n",
       "      <th>3</th>\n",
       "      <td>5.599136</td>\n",
       "      <td>0.000000</td>\n",
       "      <td>0.000000</td>\n",
       "      <td>3.516551</td>\n",
       "      <td>0.000000</td>\n",
       "      <td>0.0</td>\n",
       "      <td>0.000000</td>\n",
       "      <td>3.25479</td>\n",
       "      <td>4.735300</td>\n",
       "      <td>0.0</td>\n",
       "      <td>...</td>\n",
       "      <td>4.513363</td>\n",
       "      <td>8.495263</td>\n",
       "      <td>4.388123</td>\n",
       "      <td>5.284629</td>\n",
       "      <td>5.481427</td>\n",
       "      <td>4.881876</td>\n",
       "      <td>0.0</td>\n",
       "      <td>6.055585</td>\n",
       "      <td>10.006094</td>\n",
       "      <td>3.837205</td>\n",
       "    </tr>\n",
       "    <tr>\n",
       "      <th>4</th>\n",
       "      <td>3.184195</td>\n",
       "      <td>5.290426</td>\n",
       "      <td>0.000000</td>\n",
       "      <td>3.356862</td>\n",
       "      <td>3.650348</td>\n",
       "      <td>0.0</td>\n",
       "      <td>3.356862</td>\n",
       "      <td>0.00000</td>\n",
       "      <td>0.000000</td>\n",
       "      <td>0.0</td>\n",
       "      <td>...</td>\n",
       "      <td>0.000000</td>\n",
       "      <td>7.935692</td>\n",
       "      <td>0.000000</td>\n",
       "      <td>0.000000</td>\n",
       "      <td>4.591724</td>\n",
       "      <td>4.591724</td>\n",
       "      <td>0.0</td>\n",
       "      <td>5.877299</td>\n",
       "      <td>9.279790</td>\n",
       "      <td>4.284677</td>\n",
       "    </tr>\n",
       "  </tbody>\n",
       "</table>\n",
       "<p>5 rows × 1000 columns</p>\n",
       "</div>"
      ],
      "text/plain": [
       "        0         1         2         3         4    5         6        7    \\\n",
       "0  4.818027  0.000000  0.000000  0.000000  0.000000  0.0  0.000000  0.00000   \n",
       "1  4.949290  5.332359  4.106732  4.176539  0.000000  0.0  0.000000  0.00000   \n",
       "2  4.590253  4.791590  0.000000  4.137063  4.791590  0.0  0.000000  0.00000   \n",
       "3  5.599136  0.000000  0.000000  3.516551  0.000000  0.0  0.000000  3.25479   \n",
       "4  3.184195  5.290426  0.000000  3.356862  3.650348  0.0  3.356862  0.00000   \n",
       "\n",
       "        8    9    ...       990       991       992       993       994  \\\n",
       "0  3.595109  0.0  ...  0.000000  7.875205  0.000000  5.403121  6.033264   \n",
       "1  5.100612  0.0  ...  3.695760  5.863619  3.956085  5.170709  5.609743   \n",
       "2  3.563473  0.0  ...  0.000000  8.038405  3.563473  5.001115  5.445224   \n",
       "3  4.735300  0.0  ...  4.513363  8.495263  4.388123  5.284629  5.481427   \n",
       "4  0.000000  0.0  ...  0.000000  7.935692  0.000000  0.000000  4.591724   \n",
       "\n",
       "        995  996       997        998       999  \n",
       "0  4.332443  0.0  5.625551   9.738974  4.711081  \n",
       "1  5.820660  0.0  5.477707  10.617377  3.377886  \n",
       "2  5.294245  0.0  6.289117   9.903455  4.013606  \n",
       "3  4.881876  0.0  6.055585  10.006094  3.837205  \n",
       "4  4.591724  0.0  5.877299   9.279790  4.284677  \n",
       "\n",
       "[5 rows x 1000 columns]"
      ]
     },
     "execution_count": 2,
     "metadata": {},
     "output_type": "execute_result"
    }
   ],
   "source": [
    "num_epochs = 200\n",
    "batch_size = 128\n",
    "l_r = 1e-4\n",
    "latent_size = 50\n",
    "\n",
    "# Helper method as an example to return the output mask\n",
    "def return_out_mask(batch_data: np.array) -> np.array:\n",
    "    '''\n",
    "    Input: NxM np.array of counts data\n",
    "    Output: NxM np.array filled with 1 corresponding to non-zero inputs\n",
    "            and 0 corresponding to dropped inputs\n",
    "    '''\n",
    "    zero_indices = np.nonzero(batch_data == 0)\n",
    "    mask = np.ones_like(batch_data)\n",
    "    zeros = np.zeros_like(batch_data)\n",
    "    mask[zero_indices] = zeros[zero_indices] # Fills in 0's into appropriate indices\n",
    "    return mask\n",
    "\n",
    "\n",
    "# Load Data\n",
    "dataset = np.load('counts.npy')\n",
    "labels = np.loadtxt(\"labels.txt\")\n",
    "print('labels shape: ',labels.shape)\n",
    "print('dataset shape: ',dataset.shape)\n",
    "pd.DataFrame(dataset)[:5] # 5000 x 1000 (cell x gene)"
   ]
  },
  {
   "cell_type": "code",
   "execution_count": 12,
   "metadata": {},
   "outputs": [
    {
     "ename": "AttributeError",
     "evalue": "module 'torch' has no attribute 'to_numpy'",
     "output_type": "error",
     "traceback": [
      "\u001b[1;31m---------------------------------------------------------------------------\u001b[0m",
      "\u001b[1;31mAttributeError\u001b[0m                            Traceback (most recent call last)",
      "\u001b[1;32m<ipython-input-12-705ade8e42b8>\u001b[0m in \u001b[0;36m<module>\u001b[1;34m\u001b[0m\n\u001b[1;32m----> 1\u001b[1;33m \u001b[0mtorch\u001b[0m\u001b[1;33m.\u001b[0m\u001b[0mto_numpy\u001b[0m\u001b[1;33m(\u001b[0m\u001b[0ma\u001b[0m\u001b[1;33m)\u001b[0m\u001b[1;33m\u001b[0m\u001b[1;33m\u001b[0m\u001b[0m\n\u001b[0m",
      "\u001b[1;31mAttributeError\u001b[0m: module 'torch' has no attribute 'to_numpy'"
     ]
    }
   ],
   "source": [
    "def return_out_mask(batch_data):\n",
    "    '''\n",
    "    Input: NxM np.array of counts data\n",
    "    Output: NxM np.array filled with 1 corresponding to non-zero inputs\n",
    "            and 0 corresponding to dropped inputs\n",
    "    '''\n",
    "    batch_data_numpy = torch.numpy(batch_data)\n",
    "    zero_indices = np.nonzero(batch_data_numpy == 0)\n",
    "    mask = np.ones_like(batch_data_numpy)\n",
    "    zeros = np.zeros_like(batch_data_numpy)\n",
    "    mask[zero_indices] = zeros[zero_indices] # Fills in 0's into appropriate indices\n",
    "    mask_torch  = mask.from_numpy(mask)\n",
    "    return mask_torch"
   ]
  },
  {
   "cell_type": "code",
   "execution_count": 11,
   "metadata": {},
   "outputs": [
    {
     "name": "stderr",
     "output_type": "stream",
     "text": [
      "G:\\anaconda\\anaconda\\envs\\python37\\lib\\site-packages\\numpy\\core\\fromnumeric.py:61: UserWarning: This overload of nonzero is deprecated:\n",
      "\tnonzero()\n",
      "Consider using one of the following signatures instead:\n",
      "\tnonzero(*, bool as_tuple) (Triggered internally at  ..\\torch\\csrc\\utils\\python_arg_parser.cpp:766.)\n",
      "  return bound(*args, **kwds)\n"
     ]
    },
    {
     "ename": "IndexError",
     "evalue": "index 3 is out of bounds for axis 0 with size 2",
     "output_type": "error",
     "traceback": [
      "\u001b[1;31m---------------------------------------------------------------------------\u001b[0m",
      "\u001b[1;31mIndexError\u001b[0m                                Traceback (most recent call last)",
      "\u001b[1;32m<ipython-input-11-9135c8991e34>\u001b[0m in \u001b[0;36m<module>\u001b[1;34m\u001b[0m\n\u001b[1;32m----> 1\u001b[1;33m \u001b[0mreturn_out_mask\u001b[0m\u001b[1;33m(\u001b[0m\u001b[0ma\u001b[0m\u001b[1;33m)\u001b[0m\u001b[1;33m\u001b[0m\u001b[1;33m\u001b[0m\u001b[0m\n\u001b[0m",
      "\u001b[1;32m<ipython-input-2-3b78e7830b40>\u001b[0m in \u001b[0;36mreturn_out_mask\u001b[1;34m(batch_data)\u001b[0m\n\u001b[0;32m     14\u001b[0m     \u001b[0mmask\u001b[0m \u001b[1;33m=\u001b[0m \u001b[0mnp\u001b[0m\u001b[1;33m.\u001b[0m\u001b[0mones_like\u001b[0m\u001b[1;33m(\u001b[0m\u001b[0mbatch_data\u001b[0m\u001b[1;33m)\u001b[0m\u001b[1;33m\u001b[0m\u001b[1;33m\u001b[0m\u001b[0m\n\u001b[0;32m     15\u001b[0m     \u001b[0mzeros\u001b[0m \u001b[1;33m=\u001b[0m \u001b[0mnp\u001b[0m\u001b[1;33m.\u001b[0m\u001b[0mzeros_like\u001b[0m\u001b[1;33m(\u001b[0m\u001b[0mbatch_data\u001b[0m\u001b[1;33m)\u001b[0m\u001b[1;33m\u001b[0m\u001b[1;33m\u001b[0m\u001b[0m\n\u001b[1;32m---> 16\u001b[1;33m     \u001b[0mmask\u001b[0m\u001b[1;33m[\u001b[0m\u001b[0mzero_indices\u001b[0m\u001b[1;33m]\u001b[0m \u001b[1;33m=\u001b[0m \u001b[0mzeros\u001b[0m\u001b[1;33m[\u001b[0m\u001b[0mzero_indices\u001b[0m\u001b[1;33m]\u001b[0m \u001b[1;31m# Fills in 0's into appropriate indices\u001b[0m\u001b[1;33m\u001b[0m\u001b[1;33m\u001b[0m\u001b[0m\n\u001b[0m\u001b[0;32m     17\u001b[0m     \u001b[1;32mreturn\u001b[0m \u001b[0mmask\u001b[0m\u001b[1;33m\u001b[0m\u001b[1;33m\u001b[0m\u001b[0m\n\u001b[0;32m     18\u001b[0m \u001b[1;33m\u001b[0m\u001b[0m\n",
      "\u001b[1;31mIndexError\u001b[0m: index 3 is out of bounds for axis 0 with size 2"
     ]
    }
   ],
   "source": [
    "return_out_mask(a)"
   ]
  },
  {
   "cell_type": "markdown",
   "metadata": {},
   "source": [
    "**Implementation Notes:**  \n",
    "\n",
    "(1) Each Autoencoder should have 5 layers, with sizes 1000, 100, 10, 100 and 1000 from input to output, respectively.\n",
    "\n",
    "(2) Test your AEs with ~200 epochs.\n",
    "\n",
    "(3) Use a couple of dropout layers to help prevent overfitting on this small dataset. No validation set is necessary for this task.    \n",
    "\n",
    "(4) You need to mask the outputs of the autoencoder that correspond to 0's (dropped counts) in the input. The autoencoder learns best when it is not forced to also learn to reconstruct the zeros in the input. This technique is known as \n",
    "gradient masking, and is commonly used in situations like this to prevent a training signal to reconstruct unimportant data.\n",
    "To acheive this, the reconstruction output of the autoencoder must be multiplied by a mask that zeros the corresponding\n",
    "dropped counts of the inputs, which ensures the gradient from that particular output is zero. Use MSE loss, and only average over\n",
    "the number of non-zero elements in the batch. You have been provided with a helper method in order to do the masking, which you may adapt or use as is.\n",
    "\n",
    "Hint: Feel free to experiment with the size of the network and hyperparameters. "
   ]
  },
  {
   "cell_type": "markdown",
   "metadata": {},
   "source": [
    "### Autoencoder"
   ]
  },
  {
   "cell_type": "code",
   "execution_count": 4,
   "metadata": {},
   "outputs": [
    {
     "name": "stdout",
     "output_type": "stream",
     "text": [
      "<torch.utils.data.dataloader.DataLoader object at 0x0000023BC60B5FC8>\n"
     ]
    }
   ],
   "source": [
    "# Pytorch Dataloader\n",
    "dataloader = DataLoader(dataset, batch_size=batch_size, shuffle=True)\n",
    "print(dataloader)"
   ]
  },
  {
   "cell_type": "code",
   "execution_count": 4,
   "metadata": {},
   "outputs": [],
   "source": [
    "# Define Model, Optimizer, and Loss\n",
    "#####################################################\n",
    "class AutoEncoder(nn.Module):\n",
    "    def __init__(self):\n",
    "        super(AutoEncoder,self).__init__()\n",
    "        self.encoder  =  nn.Sequential(\n",
    "            nn.Linear(1000,100),\n",
    "            nn.Tanh(),\n",
    "            nn.Linear(100, 10),\n",
    "            nn.Tanh(),\n",
    "            nn.Linear(64, 32),\n",
    "            nn.Tanh(),\n",
    "            nn.Linear(32, 16),\n",
    "            nn.Tanh(),\n",
    "            nn.Linear(16, 3)\n",
    "        )\n",
    "        self.decoder = nn.Sequential(\n",
    "            nn.Linear(3,16),\n",
    "            nn.Tanh(),\n",
    "            nn.Linear(16, 32),\n",
    "            nn.Tanh(),\n",
    "            nn.Linear(32, 64),\n",
    "            nn.Tanh(),\n",
    "            nn.Linear(64, 128),\n",
    "            nn.Tanh(),\n",
    "            nn.Linear(128, 28*28),\n",
    "            nn.Sigmoid()\n",
    "\n",
    "        )\n",
    "    def forward(self, x):\n",
    "        encoded = self.encoder(x)\n",
    "        decoded = self.decoder(encoded)\n",
    "        return encoded, decoded\n",
    "#####################################################"
   ]
  },
  {
   "cell_type": "code",
   "execution_count": 1,
   "metadata": {
    "scrolled": true
   },
   "outputs": [
    {
     "data": {
      "text/plain": [
       "'\\nTBD\\n'"
      ]
     },
     "execution_count": 1,
     "metadata": {},
     "output_type": "execute_result"
    }
   ],
   "source": [
    "# Training Loop\n",
    "#####################################################\n",
    "TBD\n",
    "#####################################################\n",
    "\n",
    "# Save model weights (Optional)\n",
    "#####################################################\n",
    "TBD\n",
    "#####################################################\n",
    "\n",
    "# Obtain Encoded Representations & Reconstructions\n",
    "#   Run just the trained encoder across dataset to obtain latent vectors\n",
    "#####################################################\n",
    "TBD\n",
    "#####################################################"
   ]
  },
  {
   "cell_type": "markdown",
   "metadata": {},
   "source": [
    "### Visualization and analysis"
   ]
  },
  {
   "cell_type": "code",
   "execution_count": 9,
   "metadata": {},
   "outputs": [
    {
     "data": {
      "image/png": "[encoded data removed]",
      "text/plain": [
       "<Figure size 432x288 with 1 Axes>"
      ]
     },
     "metadata": {
      "needs_background": "light"
     },
     "output_type": "display_data"
    },
    {
     "data": {
      "image/png": "[encoded data removed]",
      "text/plain": [
       "<Figure size 432x288 with 1 Axes>"
      ]
     },
     "metadata": {
      "needs_background": "light"
     },
     "output_type": "display_data"
    }
   ],
   "source": [
    "# T-SNE & PCA Plot of Counts Data\n",
    "tsne_data = TSNE(n_components=2).fit_transform(dataset)\n",
    "plt.scatter(tsne_data[:,0],tsne_data[:,1],c=labels,s=3)\n",
    "plt.title('data_tsne')\n",
    "plt.show()\n",
    "\n",
    "pca = PCA(n_components=2)\n",
    "pca_data = pca.fit_transform(dataset)\n",
    "plt.scatter(pca_data[:,0],pca_data[:,1],c=labels,s=3)\n",
    "plt.title('data_pca')\n",
    "plt.show()"
   ]
  },
  {
   "cell_type": "code",
   "execution_count": null,
   "metadata": {},
   "outputs": [],
   "source": [
    "'''\n",
    "Fill the ? in the following parts, i.e., specify the 'ncoded_data'and 'econstructions'\n",
    "'''"
   ]
  },
  {
   "cell_type": "code",
   "execution_count": 2,
   "metadata": {},
   "outputs": [
    {
     "ename": "SyntaxError",
     "evalue": "invalid syntax (<ipython-input-2-de8e666a6dd7>, line 2)",
     "output_type": "error",
     "traceback": [
      "\u001b[0;36m  File \u001b[0;32m\"<ipython-input-2-de8e666a6dd7>\"\u001b[0;36m, line \u001b[0;32m2\u001b[0m\n\u001b[0;31m    encoded_data = ? # np.array\u001b[0m\n\u001b[0m                   ^\u001b[0m\n\u001b[0;31mSyntaxError\u001b[0m\u001b[0;31m:\u001b[0m invalid syntax\n"
     ]
    }
   ],
   "source": [
    "# T-SNE & PCA Plot of Encodings\n",
    "#####################################################\n",
    "encoded_data = ? # np.array\n",
    "#####################################################\n",
    "\n",
    "tsne_latent = TSNE(n_components=2).fit_transform(encoded_data)\n",
    "plt.scatter(tsne_latent[:,0],tsne_latent[:,1],c=labels,s=3)\n",
    "plt.title('encoded_tsne')\n",
    "plt.show()\n",
    "\n",
    "pca = PCA(n_components=2)\n",
    "pca_data = pca.fit_transform(encoded_data)\n",
    "plt.scatter(pca_data[:,0],pca_data[:,1],c=labels,s=3)\n",
    "plt.title('encoded_pca')\n",
    "plt.show()"
   ]
  },
  {
   "cell_type": "code",
   "execution_count": 1,
   "metadata": {},
   "outputs": [
    {
     "ename": "SyntaxError",
     "evalue": "invalid syntax (<ipython-input-1-6de71e610801>, line 2)",
     "output_type": "error",
     "traceback": [
      "\u001b[0;36m  File \u001b[0;32m\"<ipython-input-1-6de71e610801>\"\u001b[0;36m, line \u001b[0;32m2\u001b[0m\n\u001b[0;31m    reconstructions= ?\u001b[0m\n\u001b[0m                     ^\u001b[0m\n\u001b[0;31mSyntaxError\u001b[0m\u001b[0;31m:\u001b[0m invalid syntax\n"
     ]
    }
   ],
   "source": [
    "# T-SNE & PCA Plot of Reconstructions\n",
    "#####################################################\n",
    "reconstructions= ?\n",
    "#####################################################\n",
    "tsne_latent = TSNE(n_components=2).fit_transform(reconstructions)\n",
    "plt.scatter(tsne_latent[:,0],tsne_latent[:,1],c=labels,s=3)\n",
    "plt.title('reconstructed_tsne')\n",
    "plt.show()\n",
    "\n",
    "pca = PCA(n_components=2)\n",
    "pca_data = pca.fit_transform(reconstructions)\n",
    "plt.scatter(pca_data[:,0],pca_data[:,1],c=labels,s=3)\n",
    "plt.title('reconstructed_pca')\n",
    "plt.show()"
   ]
  }
 ],
 "metadata": {
  "kernelspec": {
   "display_name": "Python 3",
   "language": "python",
   "name": "python3"
  },
  "language_info": {
   "codemirror_mode": {
    "name": "ipython",
    "version": 3
   },
   "file_extension": ".py",
   "mimetype": "text/x-python",
   "name": "python",
   "nbconvert_exporter": "python",
   "pygments_lexer": "ipython3",
   "version": "3.7.8"
  }
 },
 "nbformat": 4,
 "nbformat_minor": 2
}
