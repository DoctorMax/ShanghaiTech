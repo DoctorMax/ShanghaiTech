{
 "cells": [
  {
   "cell_type": "markdown",
   "metadata": {},
   "source": [
    "# DRKG Relation Embedding Similarity Analysis\n",
    "This nodebook shows how to analyze the trained relation embeddings. \n",
    "\n",
    "In this example, we first load the trained embeddings and map them back into original relation names. And then apply three methodologies to analyze these embeddings:\n",
    " - Project the embeddings into low dimension space and visualize their distribution.\n",
    " - Use cosine distance to analyze the similarity between each relation.\n",
    " - Use frobenius distance to analyze the similarity between each relation."
   ]
  },
  {
   "cell_type": "code",
   "execution_count": 1,
   "metadata": {},
   "outputs": [],
   "source": [
    "import pandas as pd\n",
    "import numpy as np\n",
    "import os\n",
    "import csv"
   ]
  },
  {
   "cell_type": "markdown",
   "metadata": {},
   "source": [
    "## Loading Relation ID Mapping"
   ]
  },
  {
   "cell_type": "code",
   "execution_count": 2,
   "metadata": {},
   "outputs": [
    {
     "name": "stdout",
     "output_type": "stream",
     "text": [
      "Number of relations: 107\n"
     ]
    }
   ],
   "source": [
    "rel2id = {}\n",
    "id2rel = {}\n",
    "with open(\"./train/relations.tsv\", newline='', encoding='utf-8') as csvfile:\n",
    "    reader = csv.DictReader(csvfile, delimiter='\\t', fieldnames=['rel','id'])\n",
    "    for row_val in reader:\n",
    "        id = row_val['id']\n",
    "        relation = row_val['rel']\n",
    "\n",
    "        rel2id[relation] = int(id)\n",
    "        id2rel[int(id)] = relation\n",
    "\n",
    "print(\"Number of relations: {}\".format(len(rel2id)))"
   ]
  },
  {
   "cell_type": "markdown",
   "metadata": {},
   "source": [
    "## Loading Relation Embeddings"
   ]
  },
  {
   "cell_type": "code",
   "execution_count": 3,
   "metadata": {},
   "outputs": [
    {
     "name": "stdout",
     "output_type": "stream",
     "text": [
      "(107, 400)\n"
     ]
    }
   ],
   "source": [
    "rel_emb = np.load('./ckpts/TransE_l2_DRKG_0/DRKG_TransE_l2_relation.npy')\n",
    "print(rel_emb.shape)"
   ]
  },
  {
   "cell_type": "markdown",
   "metadata": {},
   "source": [
    "## General Relation Embedding Clustering\n",
    "Here we use t-SNE to convert relation embeddings into low dimension space and visualize their distribution."
   ]
  },
  {
   "cell_type": "code",
   "execution_count": 9,
   "metadata": {},
   "outputs": [
    {
     "name": "stderr",
     "output_type": "stream",
     "text": [
      "The PostScript backend does not support transparency; partially transparent artists will be rendered opaque.\n",
      "The PostScript backend does not support transparency; partially transparent artists will be rendered opaque.\n",
      "The PostScript backend does not support transparency; partially transparent artists will be rendered opaque.\n",
      "The PostScript backend does not support transparency; partially transparent artists will be rendered opaque.\n"
     ]
    },
    {
     "data": {
      "image/png": "[encoded data removed]",
      "text/plain": [
       "<Figure size 432x288 with 1 Axes>"
      ]
     },
     "metadata": {
      "needs_background": "light"
     },
     "output_type": "display_data"
    }
   ],
   "source": [
    "from matplotlib import cm\n",
    "import matplotlib.pyplot as plt\n",
    "from sklearn.utils import check_random_state\n",
    "from sklearn.manifold import TSNE\n",
    "\n",
    "dataset_id = {}\n",
    "for rel_name, i in rel2id.items():\n",
    "    rel_key = rel_name.split('::')[0]\n",
    "    if dataset_id.get(rel_key, None) is None:\n",
    "        dataset_id[rel_key] = []\n",
    "    dataset_id[rel_key].append(i)\n",
    "\n",
    "X_embedded = TSNE(n_components=2).fit_transform(rel_emb).T\n",
    "p = cm.rainbow(int(255/2 * 1))\n",
    "fig = plt.figure()\n",
    "ax = fig.add_subplot(111)\n",
    "for key, val in dataset_id.items():\n",
    "    val = np.asarray(val, dtype=np.long)\n",
    "\n",
    "    ax.plot(X_embedded[0][val], X_embedded[1][val], '.', label=key)\n",
    "\n",
    "lgd = ax.legend(bbox_to_anchor=(1.0, 1.0))\n",
    "plt.savefig('relation.eps', bbox_extra_artists=(lgd,), bbox_inches='tight', format='eps')"
   ]
  },
  {
   "cell_type": "markdown",
   "metadata": {},
   "source": [
    "## Pair-wise Relation Embedding Cosine Similarity\n",
    "We calculate the pair-wise embedding similarity using cosine distance and output the top10 most similar pairs."
   ]
  },
  {
   "cell_type": "code",
   "execution_count": 16,
   "metadata": {},
   "outputs": [
    {
     "data": {
      "text/plain": [
       "[('GNBR::E::Compound:Gene', 'GNBR::K::Compound:Gene', 0.98599356),\n",
       " ('GNBR::E::Compound:Gene', 'GNBR::E+::Compound:Gene', 0.98297095),\n",
       " ('GNBR::N::Compound:Gene', 'GNBR::E-::Compound:Gene', 0.96987224),\n",
       " ('GNBR::E::Compound:Gene', 'GNBR::E-::Compound:Gene', 0.96532124),\n",
       " ('GNBR::K::Compound:Gene', 'GNBR::E+::Compound:Gene', 0.9564862),\n",
       " ('GNBR::E+::Compound:Gene', 'GNBR::E-::Compound:Gene', 0.95019233),\n",
       " ('GNBR::L::Gene:Disease', 'GNBR::G::Gene:Disease', 0.9419448),\n",
       " ('GNBR::K::Compound:Gene', 'GNBR::E-::Compound:Gene', 0.94074607),\n",
       " ('GNBR::J::Gene:Disease', 'GNBR::Md::Gene:Disease', 0.9319676),\n",
       " ('GNBR::J::Gene:Disease', 'GNBR::Te::Gene:Disease', 0.93183714)]"
      ]
     },
     "execution_count": 16,
     "metadata": {},
     "output_type": "execute_result"
    }
   ],
   "source": [
    "from sklearn.metrics.pairwise import cosine_similarity\n",
    "\n",
    "similarity = cosine_similarity(rel_emb)\n",
    "idx = np.flip(np.argsort(similarity), axis=1)\n",
    "\n",
    "max_pairs = []\n",
    "for i in range(idx.shape[0]):\n",
    "    j = 1\n",
    "    while (similarity[i][idx[i][j]] > 0.9):\n",
    "        max_pairs.append((id2rel[idx[i][0]], id2rel[idx[i][j]], similarity[i][idx[i][j]]))\n",
    "        j += 1\n",
    "\n",
    "def sort_score(pair):\n",
    "    return pair[2]\n",
    "\n",
    "max_pairs.sort(reverse=True, key=sort_score)\n",
    "sim_pairs = []\n",
    "for i, pair in enumerate(max_pairs):\n",
    "    if i % 2 == 0:\n",
    "        sim_pairs.append(pair)\n",
    "\n",
    "sim_pairs[:10]"
   ]
  },
  {
   "cell_type": "markdown",
   "metadata": {},
   "source": [
    "Then we draw a histogram of how the pair-wise similarity score distributed."
   ]
  },
  {
   "cell_type": "code",
   "execution_count": 17,
   "metadata": {},
   "outputs": [
    {
     "name": "stdout",
     "output_type": "stream",
     "text": [
      "(11449,)\n"
     ]
    },
    {
     "data": {
      "image/png": "[encoded data removed]",
      "text/plain": [
       "<Figure size 432x288 with 1 Axes>"
      ]
     },
     "metadata": {
      "needs_background": "light"
     },
     "output_type": "display_data"
    }
   ],
   "source": [
    "similarity=similarity.flatten()\n",
    "print(similarity.shape)\n",
    "\n",
    "# cleanup self-compare and dup-compare\n",
    "s = similarity < 0.99\n",
    "s = np.unique(similarity[s])\n",
    "plt.xlabel('Cosine similarity')\n",
    "plt.ylabel('Number of relation pairs')\n",
    "plt.hist(s)\n",
    "plt.savefig('relation-sim.eps', format='eps')"
   ]
  },
  {
   "cell_type": "markdown",
   "metadata": {},
   "source": [
    "## Pair-wise Relation Embedding Frobenius Similarity\n",
    "We calculate the pair-wise embedding similarity using L2 distance and output the top10 most similar pairs."
   ]
  },
  {
   "cell_type": "code",
   "execution_count": 7,
   "metadata": {},
   "outputs": [
    {
     "data": {
      "text/plain": [
       "[('GNBR::E::Compound:Gene', 'GNBR::K::Compound:Gene', 1.6984596),\n",
       " ('GNBR::E::Compound:Gene', 'GNBR::E+::Compound:Gene', 1.8601348),\n",
       " ('GNBR::N::Compound:Gene', 'GNBR::E-::Compound:Gene', 2.3698092),\n",
       " ('GNBR::E::Compound:Gene', 'GNBR::E-::Compound:Gene', 2.606229),\n",
       " ('GNBR::K::Compound:Gene', 'GNBR::E+::Compound:Gene', 2.9946468),\n",
       " ('GNBR::E+::Compound:Gene', 'GNBR::E-::Compound:Gene', 3.1560013),\n",
       " ('GNBR::L::Gene:Disease', 'GNBR::G::Gene:Disease', 3.4119256),\n",
       " ('GNBR::K::Compound:Gene', 'GNBR::E-::Compound:Gene', 3.454293),\n",
       " ('GNBR::J::Gene:Disease', 'GNBR::Md::Gene:Disease', 3.6071572),\n",
       " ('GNBR::J::Gene:Disease', 'GNBR::Te::Gene:Disease', 3.624401)]"
      ]
     },
     "execution_count": 7,
     "metadata": {},
     "output_type": "execute_result"
    }
   ],
   "source": [
    "from sklearn.metrics.pairwise import euclidean_distances\n",
    "\n",
    "similarity = euclidean_distances(rel_emb)\n",
    "idx = np.argsort(similarity)\n",
    "\n",
    "min_pairs = []\n",
    "for i in range(idx.shape[0]):\n",
    "    j = 1\n",
    "    while (similarity[i][idx[i][j]] < 5):\n",
    "        min_pairs.append((id2rel[idx[i][0]], id2rel[idx[i][j]], similarity[i][idx[i][j]]))\n",
    "        j += 1\n",
    "\n",
    "def sort_score(pair):\n",
    "    return pair[2]\n",
    "\n",
    "min_pairs.sort(key=sort_score)\n",
    "sim_pairs = []\n",
    "for i, pair in enumerate(min_pairs):\n",
    "    if i % 2 == 0:\n",
    "        sim_pairs.append(pair)\n",
    "\n",
    "sim_pairs[:10]"
   ]
  },
  {
   "cell_type": "markdown",
   "metadata": {},
   "source": [
    "Then we draw a histogram of how the pair-wise distance score distributed."
   ]
  },
  {
   "cell_type": "code",
   "execution_count": 8,
   "metadata": {},
   "outputs": [
    {
     "name": "stdout",
     "output_type": "stream",
     "text": [
      "(11449,)\n"
     ]
    },
    {
     "data": {
      "image/png": "[encoded data removed]",
      "text/plain": [
       "<Figure size 432x288 with 1 Axes>"
      ]
     },
     "metadata": {
      "needs_background": "light"
     },
     "output_type": "display_data"
    }
   ],
   "source": [
    "similarity=similarity.flatten()\n",
    "print(similarity.shape)\n",
    "\n",
    "# cleanup self-compare and dup-compare\n",
    "s = similarity > 0\n",
    "s = np.unique(similarity[s])\n",
    "plt.xlabel('Frobenius Distance')\n",
    "plt.ylabel('Number of relation pairs')\n",
    "plt.hist(s)\n",
    "plt.show()"
   ]
  },
  {
   "cell_type": "code",
   "execution_count": null,
   "metadata": {},
   "outputs": [],
   "source": []
  }
 ],
 "metadata": {
  "kernelspec": {
   "display_name": "Python 3",
   "language": "python",
   "name": "python3"
  },
  "language_info": {
   "codemirror_mode": {
    "name": "ipython",
    "version": 3
   },
   "file_extension": ".py",
   "mimetype": "text/x-python",
   "name": "python",
   "nbconvert_exporter": "python",
   "pygments_lexer": "ipython3",
   "version": "3.7.6"
  }
 },
 "nbformat": 4,
 "nbformat_minor": 2
}
