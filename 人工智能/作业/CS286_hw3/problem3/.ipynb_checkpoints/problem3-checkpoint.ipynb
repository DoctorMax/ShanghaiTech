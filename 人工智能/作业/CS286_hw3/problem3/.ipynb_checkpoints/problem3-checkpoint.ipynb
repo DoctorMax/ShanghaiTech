{
 "cells": [
  {
   "cell_type": "markdown",
   "metadata": {},
   "source": [
    "## Problem 3. COVID-19 database  exploration (30 points)"
   ]
  },
  {
   "cell_type": "markdown",
   "metadata": {},
   "source": [
    "In this problem, you are expected to explore the DRKG (Drug Repurposing Knowledge Graph) databse, which includes the genes, diseases and drugs for COVID-19. Firstly, you need to build a graph attention neural network (GAT) to predict the weights of small molecules as a pre-trained model. Secondly, you should build the RotatE model to recommend drugs by the pre-trained embedding vectors.\n",
    "\n",
    "### Requirements:\n",
    "\n",
    "3.1 Preprocess the dataset for the weight prediction and explain your reasons (5 points).\n",
    "\n",
    "3.2 Build the GAT model to predict the weights of the small molecules. You should build a hidden layer between the GAT module and the final output layer. This hidden layer should extract and output the drug embedding vectors of the drugs. If you don't use a GAT module, you will get 0 point (15 points).\n",
    "\n",
    "3.3 Collect data from different sources, including the entity embeddings, gene embeddings, and relation embeddings (5 points).\n",
    "\n",
    "3.4 Output two gene-drug pairs with the lowest and highest scores respectively, by building the RotatE model to check clinical trial drugs for each gene (5 points).\n",
    "\n",
    "Note：You should write comments to explain what you have done for the important parts and why your code works for the above requirements. All the code and results should be shown in problem3.ipynb (this file).\n",
    "\n",
    "### References:\n",
    "\n",
    "The DRKG database: https://github.com/gnn4dr/DRKG.\n",
    "\n",
    "An example Jupyter notebook is: https://github.com/gnn4dr/DRKG/blob/master/drug_repurpose/COVID-19_drug_repurposing_via_genes.ipynb"
   ]
  },
  {
   "cell_type": "markdown",
   "metadata": {},
   "source": [
    "3.1 Preprocess the dataset for the weight prediction and explain your reasons"
   ]
  },
  {
   "cell_type": "code",
   "execution_count": 1,
   "metadata": {},
   "outputs": [],
   "source": [
    "# 读文件\n",
    "import numpy as np\n",
    "f1 = open('drugbank_smiles.txt')\n",
    "drugbank_smiles=f1.read()\n",
    "f2 = open('drugbank_weight.txt')\n",
    "drugbank_weight=f2.read()"
   ]
  },
  {
   "cell_type": "code",
   "execution_count": 2,
   "metadata": {},
   "outputs": [
    {
     "name": "stdout",
     "output_type": "stream",
     "text": [
      "8807\n"
     ]
    }
   ],
   "source": [
    "# 用换行符切分开然后把最后一个空的删掉\n",
    "drugbank_smiles_list = drugbank_smiles.split('\\n')\n",
    "drugbank_smiles_list2=[i.split('\\t') for i in drugbank_smiles_list][0:-1]\n",
    "print(len(drugbank_smiles_list2))"
   ]
  },
  {
   "cell_type": "code",
   "execution_count": 3,
   "metadata": {},
   "outputs": [
    {
     "name": "stdout",
     "output_type": "stream",
     "text": [
      "9705\n"
     ]
    }
   ],
   "source": [
    "# 先用换行符切分开，然后把第一行的label删掉\n",
    "drugbank_weight_list = drugbank_weight.split('\\n')\n",
    "drugbank_weight_list2=[i.split('\\t') for i in drugbank_weight_list]\n",
    "drugbank_weight_list3=drugbank_weight_list2[1:-1]\n",
    "print(len(drugbank_weight_list3))"
   ]
  },
  {
   "cell_type": "code",
   "execution_count": 4,
   "metadata": {},
   "outputs": [
    {
     "name": "stdout",
     "output_type": "stream",
     "text": [
      "8807\n",
      "8807\n"
     ]
    }
   ],
   "source": [
    "# 比对weight和没smiles的，只取有smiles的那些weight，观察weight数据本身也能看出值为-1的那些就是没smiles的，但是还是自己处理一下\n",
    "# 语法糖，写时一时爽，读时火葬场\n",
    "# 还是注释一下，i和j都是长度为2的list\n",
    "drugbank_smiles_list2_0=[j[0] for j in drugbank_smiles_list2]\n",
    "drugbank_smiles_list2_1=[j[1] for j in drugbank_smiles_list2]\n",
    "drugbank_smiles_list_end=drugbank_smiles_list2_1\n",
    "drugbank_weight_list_end=[i[1] for i in drugbank_weight_list3 if i[0] in drugbank_smiles_list2_0]\n",
    "print(len(drugbank_smiles_list_end))\n",
    "print(len(drugbank_weight_list_end))"
   ]
  },
  {
   "cell_type": "markdown",
   "metadata": {},
   "source": [
    "SOL3.1 这么处理数据的原因就是为了找到那些有smiles的小分子，并且找到他们对应的weight这样才能使用数据进行学习和预测，随后对关系图进行相同的匹配，删去无效项。"
   ]
  },
  {
   "cell_type": "markdown",
   "metadata": {},
   "source": [
    "3.2 Build the GAT model to predict the weights of the small molecules. You should build a hidden layer between the GAT module and the final output layer. This hidden layer should extract and output the drug embedding vectors of the drugs. If you don't use a GAT module, you will get 0 point (15 points)."
   ]
  },
  {
   "cell_type": "code",
   "execution_count": null,
   "metadata": {},
   "outputs": [],
   "source": []
  }
 ],
 "metadata": {
  "kernelspec": {
   "display_name": "Python 3",
   "language": "python",
   "name": "python3"
  },
  "language_info": {
   "codemirror_mode": {
    "name": "ipython",
    "version": 3
   },
   "file_extension": ".py",
   "mimetype": "text/x-python",
   "name": "python",
   "nbconvert_exporter": "python",
   "pygments_lexer": "ipython3",
   "version": "3.6.12"
  }
 },
 "nbformat": 4,
 "nbformat_minor": 4
}
