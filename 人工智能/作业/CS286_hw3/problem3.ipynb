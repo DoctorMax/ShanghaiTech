{
 "cells": [
  {
   "cell_type": "markdown",
   "metadata": {},
   "source": [
    "## Problem 3. COVID-19 database  exploration (30 points)"
   ]
  },
  {
   "cell_type": "markdown",
   "metadata": {},
   "source": [
    "In this problem, you are expected to explore the DRKG (Drug Repurposing Knowledge Graph) databse, which includes the genes, diseases and drugs for COVID-19. Firstly, you need to build a graph attention neural network (GAT) to predict the weights of small molecules as a pre-trained model. Secondly, you should build the RotatE model to recommend drugs by the pre-trained embedding vectors.\n",
    "\n",
    "### Requirements:\n",
    "\n",
    "3.1 Preprocess the dataset for the weight prediction and explain your reasons (5 points).\n",
    "\n",
    "3.2 Build the GAT model to predict the weights of the small molecules. You should build a hidden layer between the GAT module and the final output layer. This hidden layer should extract and output the drug embedding vectors of the drugs. If you don't use a GAT module, you will get 0 point (15 points).\n",
    "\n",
    "3.3 Collect data from different sources, including the entity embeddings, gene embeddings, and relation embeddings (5 points).\n",
    "\n",
    "3.4 Output two gene-drug pairs with the lowest and highest scores respectively, by building the RotatE model to check clinical trial drugs for each gene (5 points).\n",
    "\n",
    "Note：You should write comments to explain what you have done for the important parts and why your code works for the above requirements. All the code and results should be shown in problem3.ipynb (this file).\n",
    "\n",
    "### References:\n",
    "\n",
    "The DRKG database: https://github.com/gnn4dr/DRKG.\n",
    "\n",
    "An example Jupyter notebook is: https://github.com/gnn4dr/DRKG/blob/master/drug_repurpose/COVID-19_drug_repurposing_via_genes.ipynb"
   ]
  },
  {
   "cell_type": "code",
   "execution_count": null,
   "metadata": {},
   "outputs": [],
   "source": []
  }
 ],
 "metadata": {
  "kernelspec": {
   "display_name": "Python 3",
   "language": "python",
   "name": "python3"
  },
  "language_info": {
   "codemirror_mode": {
    "name": "ipython",
    "version": 3
   },
   "file_extension": ".py",
   "mimetype": "text/x-python",
   "name": "python",
   "nbconvert_exporter": "python",
   "pygments_lexer": "ipython3",
   "version": "3.6.8"
  }
 },
 "nbformat": 4,
 "nbformat_minor": 4
}