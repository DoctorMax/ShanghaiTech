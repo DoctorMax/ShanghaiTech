{
 "cells": [
  {
   "cell_type": "markdown",
   "metadata": {},
   "source": [
    "## Problem 1. Mathematical basics (20 points)\n",
    "Each of the following 5 questions carries 4 points."
   ]
  },
  {
   "cell_type": "markdown",
   "metadata": {},
   "source": [
    "### 1.1 Linear Algebra "
   ]
  },
  {
   "cell_type": "markdown",
   "metadata": {},
   "source": [
    "1. Suppose matrices $A,B,C$ satisfy $\\left(\\boldsymbol{E}-\\boldsymbol{C}^{-1} \\boldsymbol{B}\\right)^{\\mathrm{T}} \\boldsymbol{C}^{\\mathrm{T}} \\boldsymbol{A}=\\boldsymbol{E}$, compute $A$. We have known: \n",
    "\n",
    "<center>$\\boldsymbol{B}=\\left(\\begin{array}{cccc}\n",
    "1 & -1 & 0 & 0 \\\\\n",
    "0 & 1 & -1 & 0 \\\\\n",
    "0 & 0 & 1 & -1 \\\\\n",
    "0 & 0 & 0 & 1\n",
    "\\end{array}\\right), \\boldsymbol{C}=\\left(\\begin{array}{cccc}\n",
    "2 & 1 & 3 & 4 \\\\\n",
    "0 & 2 & 1 & 3 \\\\\n",
    "0 & 0 & 2 & 1 \\\\\n",
    "0 & 0 & 0 & 2\n",
    "\\end{array}\\right)$</center>"
   ]
  },
  {
   "cell_type": "markdown",
   "metadata": {},
   "source": [
    "#### 1. Solution:"
   ]
  },
  {
   "cell_type": "markdown",
   "metadata": {},
   "source": [
    "$\\boldsymbol{C}=\n",
    "\\left(\n",
    " \\begin{array}{cc|cc}\n",
    "    2 & 1 & 3 & 4 \\\\\n",
    "    0 & 2 & 1 & 3 \\\\ \\hline\n",
    "    0 & 0 & 2 & 1 \\\\\n",
    "    0 & 0 & 0 & 2\n",
    "  \\end{array} \n",
    "\\right)=\n",
    "\\left(\n",
    " \\begin{array}{c|c}\n",
    "    L  & M\\\\ \\hline\n",
    "    0 & N\\\\ \n",
    "  \\end{array} \n",
    "\\right)\n",
    "$\n",
    "\n",
    "Calculate the inverse of $\\boldsymbol{C}$ by calculate the inverse of three partitioned matrices.\n",
    "\n",
    "$\\therefore$ \n",
    "$\\boldsymbol{C}^{-1}=\n",
    "\\left(\n",
    " \\begin{array}{c|c}\n",
    "    L^{-1}  & -L^{-1}MN^{-1}\\\\ \\hline\n",
    "    0 & N^{-1}\\\\ \n",
    "  \\end{array} \n",
    "\\right)=\n",
    "\\left(\n",
    " \\begin{array}{cccc}\n",
    "    1/2 & -1/4 & -5/8 & -5/16 \\\\\n",
    "    0 & 1/2 & -1/4 & -5/8 \\\\\n",
    "    0 & 0 & 1/2 & -1/4 \\\\\n",
    "    0 & 0 & 0 & 1/2\n",
    "  \\end{array} \n",
    "\\right)\n",
    "$\n",
    "\n",
    "$\\therefore$ $\\left(\\boldsymbol{E}-\\boldsymbol{C}^{-1} \\boldsymbol{B}\\right)^{\\mathrm{T}} =\n",
    "\\left(\n",
    " \\begin{array}{cccc}\n",
    "     1/2 & 0 & 0 & 0 \\\\\n",
    "    3/4 & 1/2 & 0 & 0 \\\\ \n",
    "    3/8 & 3/4 & 1/2 & 0 \\\\\n",
    "    -5/16 & 3/8 & 3/4 & 1/2\n",
    "  \\end{array} \n",
    "\\right)\n",
    "$\n",
    "\n",
    "$\\therefore$ $\\boldsymbol{C}^{\\mathrm{T}} \\boldsymbol{A}=\\left(\\left(\\boldsymbol{E}-\\boldsymbol{C}^{-1} \\boldsymbol{B}\\right)^{\\mathrm{T}}\\right)^{-1}=\n",
    "\\left(\n",
    " \\begin{array}{cccc}\n",
    "     2 & 0 & 0 & 0 \\\\\n",
    "    -3 & 2 & 0 & 0 \\\\ \n",
    "    3 & -3 & 2 & 0 \\\\\n",
    "    -1 & 3 & -3 & 2\n",
    "  \\end{array} \n",
    "\\right)\n",
    "$\n",
    "\n",
    "$\\therefore$ $\\boldsymbol{A}=\\left(\\boldsymbol{C}^{\\mathrm{T}}\\right)^{-1}\\left(\\left(\\boldsymbol{E}-\\boldsymbol{C}^{-1} \\boldsymbol{B}\\right)^{\\mathrm{T}}\\right)^{-1}=\n",
    "\\left(\n",
    " \\begin{array}{cccc}\n",
    "     1 & 0 & 0 & 0 \\\\\n",
    "    -2 & 1 & 0 & 0 \\\\ \n",
    "    1 & -2 & 1 & 0 \\\\\n",
    "    0 & 1 & -2 & 1\n",
    "  \\end{array} \n",
    "\\right)\n",
    "$"
   ]
  },
  {
   "cell_type": "markdown",
   "metadata": {},
   "source": [
    "<font color=\"#dd0000\">correct</font><br />"
   ]
  },
  {
   "cell_type": "markdown",
   "metadata": {},
   "source": [
    "2. In order to make matrix $\\boldsymbol{A}=\\left[\\begin{array}{lll}\n",
    "0 & 0 & 1 \\\\\n",
    "x & 1 & y \\\\\n",
    "1 & 0 & 0\n",
    "\\end{array}\\right]$ have three linearly independent eigenvectors, what is the equation that x and y should satisfy?"
   ]
  },
  {
   "cell_type": "markdown",
   "metadata": {},
   "source": [
    "#### 2. Solution:"
   ]
  },
  {
   "cell_type": "markdown",
   "metadata": {},
   "source": [
    "solve$|\\lambda \\boldsymbol{E}-\\boldsymbol{A}|=\n",
    "\\left|\\begin{array}{ccc}\n",
    "\\lambda&0&1\\\\\n",
    "x&\\lambda-1&y\\\\\n",
    "1&0&\\lambda\\\\\n",
    "\\end{array}\\right|=0$\n",
    "\n",
    "$\\therefore$ $\\lambda_1=\\lambda_2=1,\\lambda_3=-1$\n",
    "\n",
    "$\\therefore$ solve$\\left[\\begin{array}{ccc}\n",
    "1&0&1\\\\\n",
    "x&0&y\\\\\n",
    "1&0&1\\\\\n",
    "\\end{array}\\right]\\alpha=0$\n",
    "\n",
    "$\\therefore$ $\\alpha_1=(0,1,0)^T,\\alpha_2=(1,0,1)^T$ and $x+y=0$"
   ]
  },
  {
   "cell_type": "markdown",
   "metadata": {},
   "source": [
    "<font color=\"#dd0000\">correct</font><br />"
   ]
  },
  {
   "cell_type": "markdown",
   "metadata": {},
   "source": [
    "### 1.2 Calculus "
   ]
  },
  {
   "cell_type": "markdown",
   "metadata": {},
   "source": [
    "3. Suppose a continuous random variable $X$ has the probability density function $p(x)$. We define $H(X)$ as follows:\n",
    "\n",
    "<center>$H(X)=-\\int p(x) \\ln p(x) d x$</center>\n",
    "\n",
    "Assume that $X$ follows a Gaussian distribution, i.e.\n",
    "\n",
    "<center>$p(x)=\\frac{1}{\\sqrt{2 \\pi} \\sigma} \\exp -\\frac{(x-\\mu)^{2}}{2 \\sigma^{2}}$</center>\n",
    "\n",
    "Please derive $H(X)$. (Hint: $H(X)$ is the entropy.) "
   ]
  },
  {
   "cell_type": "markdown",
   "metadata": {},
   "source": [
    "#### 3. Solution:"
   ]
  },
  {
   "cell_type": "markdown",
   "metadata": {},
   "source": [
    "$H(X)=-\\int^{+\\infty}_{-\\infty} p(x) \\ln p(x) d x$\n",
    "\n",
    "$=-\\int^{+\\infty}_{-\\infty}\n",
    "(\\frac{1}{\\sqrt{2 \\pi} \\sigma} \\exp -\\frac{(x-\\mu)^{2}}{2 \\sigma^{2}})\n",
    "\\ln (\\frac{1}{\\sqrt{2 \\pi} \\sigma} \\exp -\\frac{(x-\\mu)^{2}}{2 \\sigma^{2}})\n",
    "dx$\n",
    "\n",
    "$=-\\ln\\frac{1}{\\sqrt{2\\pi}\\sigma}\n",
    "+\\int^{+\\infty}_{-\\infty}\n",
    "\\frac{(x-\\mu)^{2}}{2 \\sigma^{2}}\n",
    "\\frac{1}{\\sqrt{2 \\pi} \\sigma} \\exp -\\frac{(x-\\mu)^{2}}{2 \\sigma^{2}}dx$\n",
    "\n",
    "$=-\\ln\\frac{1}{\\sqrt{2\\pi}\\sigma}\n",
    "+\\int^{+\\infty}_{-\\infty}\n",
    "t^{2}\n",
    "\\frac{1}{\\sqrt{2 \\pi} \\sigma} \\exp -t^{2}\\sqrt{2}\\sigma dt$\n",
    "\n",
    "$=-\\ln\\frac{1}{\\sqrt{2\\pi}\\sigma}\n",
    "+\\frac{1}{\\sqrt{2 \\pi} \\sigma}\\sqrt{2}\\sigma\\frac{\\sqrt{2}}{2}$\n",
    "\n",
    "$=-\\ln\\frac{1}{\\sqrt{2\\pi}\\sigma}\n",
    "+\\frac{1}{\\sqrt{2 \\pi}}$"
   ]
  },
  {
   "cell_type": "markdown",
   "metadata": {},
   "source": [
    "<font color=\"#dd0000\">-2, the result is incorrect</font><br />"
   ]
  },
  {
   "cell_type": "markdown",
   "metadata": {},
   "source": [
    "### 1.3 Probability and Statistics"
   ]
  },
  {
   "cell_type": "markdown",
   "metadata": {},
   "source": [
    "4. Assume the probability of a kind of infectious disease is 0.01. However, since the test device is not accurate enough, there might be a misdiagnosis. If a person is infected with the disease, the probability of testing positive is 0.95; if a person is not infected, the probability of testing positive is 0.05.\n",
    "\n",
    "(a) Calculate the probability that a person is tested positive.\n",
    "\n",
    "(b) If the test is positive, calculate the probability of that person being infected. (Hint: Use Bayes' Rule)"
   ]
  },
  {
   "cell_type": "markdown",
   "metadata": {},
   "source": [
    "#### 4. Solution:"
   ]
  },
  {
   "cell_type": "markdown",
   "metadata": {},
   "source": [
    "(a) $p(P)=p(P|T)p(T)+p(P|F)p(F)=0.95*0.01+0.05*0.95=0.056525$\n",
    "\n",
    "(b) $p(T|P)=\\frac{p(TP)}{p(P)}=\\frac{0.0095}{0.056525}=\\frac{20}{119}=0.1680672268907563$"
   ]
  },
  {
   "cell_type": "markdown",
   "metadata": {},
   "source": [
    "<font color=\"#dd0000\">-2, wrong answer</font><br />"
   ]
  },
  {
   "cell_type": "markdown",
   "metadata": {},
   "source": [
    "5. Recall what the teacher said in class about the advantage of the Decision Tree, interpretability. In a Decision Tree, each decision should maximize the information gain. The information gain algorithm is shown below. Here's a mini-training dataset about people's loans. Choose one feature （from Age, Has work, Has house, Credit） that can maximize the information gain in classifying the loans into \"yes\" or \"no\". Explain how you get the answer.    \n",
    "\n",
    "The **algorithm** to compute **information gain** as follow:   \n",
    "\n",
    "**Input**: Training dataset D and feature A    \n",
    "**Ouput**: The information gain g(D,A) of feature A towards dataset D.   \n",
    "\n",
    "(1) Compute the **empirical entropy** of the dataset D, H(D)    \n",
    "<center>$H(D)=-\\sum_{k=1}^{K} \\frac{\\left|C_{k}\\right|}{|D|} \\log _{2} \\frac{\\left|C_{k}\\right|}{|D|}$</center>   \n",
    "\n",
    "(2) Compute the **empirical conditional entropy** of feature A towards dataset D, H(D|A)    \n",
    "<center>$H(D \\mid A)=\\sum_{i=1}^{n} \\frac{\\left|D_{i}\\right|}{|D|} H\\left(D_{i}\\right)=-\\sum_{i=1}^{n} \\frac{\\left|D_{i}\\right|}{|D|} \\sum_{k=1}^{K} \\frac{\\left|D_{ik}\\right|}{\\left|D_{i}\\right|} \\log _{2} \\frac{\\left|D_{ik}\\right|}{\\left|D_{i}\\right|}$</center>    \n",
    "\n",
    "(3) Return the information gain   \n",
    "<center>$g(D, A)=H(D)-H(D \\mid A)$</center>\n"
   ]
  },
  {
   "cell_type": "markdown",
   "metadata": {},
   "source": [
    "| ID |  Age  | Has work | Has house | Credit | Class |\n",
    "|:--:|:-----:|:--------:|:---------:|:------:|:-----:|\n",
    "|  1 | young |    no    |     no    |   low  |   no  |\n",
    "|  2 | young |    no    |     no    |   mid  |   no  |\n",
    "|  3 | young |    yes   |     no    |   mid  |  yes  |\n",
    "|  4 | young |    yes   |    yes    |   low  |  yes  |\n",
    "|  5 | young |    no    |     no    |   low  |   no  |\n",
    "|  6 |  mid  |    no    |     no    |   low  |   no  |\n",
    "|  7 |  mid  |    no    |     no    |   mid  |   no  |\n",
    "|  8 |  mid  |    yes   |    yes    |   mid  |  yes  |\n",
    "|  9 |  mid  |    no    |    yes    |  high  |  yes  |\n",
    "| 10 |  mid  |    no    |    yes    |  high  |  yes  |\n",
    "| 11 |  old  |    no    |    yes    |  high  |  yes  |\n",
    "| 12 |  old  |    no    |    yes    |   mid  |  yes  |\n",
    "| 13 |  old  |    yes   |     no    |   mid  |  yes  |\n",
    "| 14 |  old  |    yes   |     no    |  high  |  yes  |\n",
    "| 15 |  old  |    no    |     no    |   low  |   no  |"
   ]
  },
  {
   "cell_type": "markdown",
   "metadata": {},
   "source": [
    "#### 5. Solution:"
   ]
  },
  {
   "cell_type": "markdown",
   "metadata": {},
   "source": [
    "$H(D)=-\\sum_{k=1}^{K} \\frac{\\left|C_{k}\\right|}{|D|} \\log _{2} \\frac{\\left|C_{k}\\right|}{|D|}\n",
    "=-\\frac{6}{15}log_2\\frac{6}{15}-\\frac{9}{15}log_2\\frac{9}{15}=\\frac{1103}{1136}$\n",
    "\n",
    "$H(D \\mid Age)=\\sum_{i=1}^{n} \\frac{\\left|D_{i}\\right|}{|D|} H\\left(D_{i}\\right)\n",
    "=-\\sum_{i=1}^{n} \\frac{\\left|D_{i}\\right|}{|D|} \\sum_{k=1}^{K} \\frac{\\left|D_{ik}\\right|}{\\left|D_{i}\\right|} \\log _{2} \\frac{\\left|D_{ik}\\right|}{\\left|D_{i}\\right|}\n",
    "=-\\frac{5}{15}(\\frac{3}{5}log_2\\frac{3}{5}+\\frac{2}{5}log_2\\frac{2}{5})-\\frac{5}{15}(\\frac{2}{5}log_2\\frac{2}{5}+\\frac{3}{5}log_2\\frac{3}{5})-\\frac{5}{15}(\\frac{1}{5}log_2\\frac{1}{5}+\\frac{4}{5}log_2\\frac{4}{5})\n",
    "\\approx 0.89$\n",
    "\n",
    "$H(D \\mid Has work)=-\\frac{10}{15}(\\frac{6}{10}log_2\\frac{6}{10}+\\frac{4}{10}log_2\\frac{4}{10})-\\frac{5}{15}(\\frac{5}{5}log_2\\frac{5}{5})\n",
    "\\approx 0.65$\n",
    "\n",
    "$H(D \\mid Has house)=-\\frac{9}{15}(\\frac{6}{9}log_2\\frac{6}{9}+\\frac{3}{9}log_2\\frac{3}{9})-\\frac{6}{15}(\\frac{6}{6}log_2\\frac{6}{6})\n",
    "\\approx 0.55$\n",
    "\n",
    "$H(D \\mid Credit)=-\\frac{5}{15}(\\frac{4}{5}log_2\\frac{4}{5}+\\frac{1}{5}log_2\\frac{1}{5})-\\frac{6}{15}(\\frac{2}{6}log_2\\frac{2}{6}+\\frac{4}{6}log_2\\frac{4}{6})-\\frac{4}{15}(\\frac{4}{4}log_2\\frac{4}{4})\n",
    "\\approx 0.61$\n",
    "\n",
    "$\\therefore$ $g(D,Has house)$ is biggest."
   ]
  },
  {
   "cell_type": "markdown",
   "metadata": {},
   "source": [
    "<font color=\"#dd0000\">correct</font><br />"
   ]
  },
  {
   "cell_type": "code",
   "execution_count": null,
   "metadata": {},
   "outputs": [],
   "source": []
  }
 ],
 "metadata": {
  "kernelspec": {
   "display_name": "Python 3",
   "language": "python",
   "name": "python3"
  },
  "language_info": {
   "codemirror_mode": {
    "name": "ipython",
    "version": 3
   },
   "file_extension": ".py",
   "mimetype": "text/x-python",
   "name": "python",
   "nbconvert_exporter": "python",
   "pygments_lexer": "ipython3",
   "version": "3.7.7"
  }
 },
 "nbformat": 4,
 "nbformat_minor": 2
}
