{
 "cells": [
  {
   "cell_type": "markdown",
   "metadata": {},
   "source": [
    "## Problem 3. BiLSTM-CRF (30 points)"
   ]
  },
  {
   "cell_type": "markdown",
   "metadata": {},
   "source": [
    "In this problem, you are expected to build a BiLSTM-CRF network model for named entity recognition (NER). \n",
    "The training, validation and testing datasets are English text, which have been provided below. The labels are tags of words in the text. \n",
    "\n",
    "The requirements are:\n",
    "\n",
    "1)\t[10 points] Build a BiLSTM-CRF model. If you use only the LSTM model, you will be given only half of the score. All code should be in the jupyter notebook. \n",
    "\n",
    "2)\t[5 points] The training module should include training and validation processes. The training and validation batch size should be 32. \n",
    "\n",
    "3)\t[5 points] Batches should have different max lengths. \n",
    "\n",
    "4)\t[5 points] Plot the training loss curve and validation loss curve based on each epoch. \n",
    "\n",
    "5)\t[5 points] Evaluate the test dataset by F1 score. \n",
    "\n",
    "Note：You should write comments to explain what you have done for the important parts and why your code works for the above requirements. The given code for data preprocessing should not be changed.\n",
    "\n",
    "#### Reference: \n",
    "A paper for more information about sequence tagging problem and BiLSTM-CRF: https://arxiv.org/pdf/1603.01360.pdf\n"
   ]
  },
  {
   "cell_type": "code",
   "execution_count": 1,
   "metadata": {},
   "outputs": [],
   "source": [
    "import pandas as pd\n",
    "import numpy as np"
   ]
  },
  {
   "cell_type": "markdown",
   "metadata": {},
   "source": [
    "We use an NER dataset for the training. Here is some preprocessing codes."
   ]
  },
  {
   "cell_type": "code",
   "execution_count": 2,
   "metadata": {},
   "outputs": [
    {
     "data": {
      "text/html": [
       "<div>\n",
       "<style scoped>\n",
       "    .dataframe tbody tr th:only-of-type {\n",
       "        vertical-align: middle;\n",
       "    }\n",
       "\n",
       "    .dataframe tbody tr th {\n",
       "        vertical-align: top;\n",
       "    }\n",
       "\n",
       "    .dataframe thead th {\n",
       "        text-align: right;\n",
       "    }\n",
       "</style>\n",
       "<table border=\"1\" class=\"dataframe\">\n",
       "  <thead>\n",
       "    <tr style=\"text-align: right;\">\n",
       "      <th></th>\n",
       "      <th>Sentence #</th>\n",
       "      <th>Word</th>\n",
       "      <th>Tag</th>\n",
       "    </tr>\n",
       "  </thead>\n",
       "  <tbody>\n",
       "    <tr>\n",
       "      <th>1048560</th>\n",
       "      <td>Sentence: 47958</td>\n",
       "      <td>of</td>\n",
       "      <td>O</td>\n",
       "    </tr>\n",
       "    <tr>\n",
       "      <th>1048561</th>\n",
       "      <td>Sentence: 47958</td>\n",
       "      <td>the</td>\n",
       "      <td>O</td>\n",
       "    </tr>\n",
       "    <tr>\n",
       "      <th>1048562</th>\n",
       "      <td>Sentence: 47958</td>\n",
       "      <td>rockets</td>\n",
       "      <td>O</td>\n",
       "    </tr>\n",
       "    <tr>\n",
       "      <th>1048563</th>\n",
       "      <td>Sentence: 47958</td>\n",
       "      <td>exploded</td>\n",
       "      <td>O</td>\n",
       "    </tr>\n",
       "    <tr>\n",
       "      <th>1048564</th>\n",
       "      <td>Sentence: 47958</td>\n",
       "      <td>upon</td>\n",
       "      <td>O</td>\n",
       "    </tr>\n",
       "    <tr>\n",
       "      <th>1048565</th>\n",
       "      <td>Sentence: 47958</td>\n",
       "      <td>impact</td>\n",
       "      <td>O</td>\n",
       "    </tr>\n",
       "    <tr>\n",
       "      <th>1048566</th>\n",
       "      <td>Sentence: 47958</td>\n",
       "      <td>.</td>\n",
       "      <td>O</td>\n",
       "    </tr>\n",
       "    <tr>\n",
       "      <th>1048567</th>\n",
       "      <td>Sentence: 47959</td>\n",
       "      <td>Indian</td>\n",
       "      <td>B-gpe</td>\n",
       "    </tr>\n",
       "    <tr>\n",
       "      <th>1048568</th>\n",
       "      <td>Sentence: 47959</td>\n",
       "      <td>forces</td>\n",
       "      <td>O</td>\n",
       "    </tr>\n",
       "    <tr>\n",
       "      <th>1048569</th>\n",
       "      <td>Sentence: 47959</td>\n",
       "      <td>said</td>\n",
       "      <td>O</td>\n",
       "    </tr>\n",
       "    <tr>\n",
       "      <th>1048570</th>\n",
       "      <td>Sentence: 47959</td>\n",
       "      <td>they</td>\n",
       "      <td>O</td>\n",
       "    </tr>\n",
       "    <tr>\n",
       "      <th>1048571</th>\n",
       "      <td>Sentence: 47959</td>\n",
       "      <td>responded</td>\n",
       "      <td>O</td>\n",
       "    </tr>\n",
       "    <tr>\n",
       "      <th>1048572</th>\n",
       "      <td>Sentence: 47959</td>\n",
       "      <td>to</td>\n",
       "      <td>O</td>\n",
       "    </tr>\n",
       "    <tr>\n",
       "      <th>1048573</th>\n",
       "      <td>Sentence: 47959</td>\n",
       "      <td>the</td>\n",
       "      <td>O</td>\n",
       "    </tr>\n",
       "    <tr>\n",
       "      <th>1048574</th>\n",
       "      <td>Sentence: 47959</td>\n",
       "      <td>attack</td>\n",
       "      <td>O</td>\n",
       "    </tr>\n",
       "  </tbody>\n",
       "</table>\n",
       "</div>"
      ],
      "text/plain": [
       "              Sentence #       Word    Tag\n",
       "1048560  Sentence: 47958         of      O\n",
       "1048561  Sentence: 47958        the      O\n",
       "1048562  Sentence: 47958    rockets      O\n",
       "1048563  Sentence: 47958   exploded      O\n",
       "1048564  Sentence: 47958       upon      O\n",
       "1048565  Sentence: 47958     impact      O\n",
       "1048566  Sentence: 47958          .      O\n",
       "1048567  Sentence: 47959     Indian  B-gpe\n",
       "1048568  Sentence: 47959     forces      O\n",
       "1048569  Sentence: 47959       said      O\n",
       "1048570  Sentence: 47959       they      O\n",
       "1048571  Sentence: 47959  responded      O\n",
       "1048572  Sentence: 47959         to      O\n",
       "1048573  Sentence: 47959        the      O\n",
       "1048574  Sentence: 47959     attack      O"
      ]
     },
     "execution_count": 2,
     "metadata": {},
     "output_type": "execute_result"
    }
   ],
   "source": [
    "data = pd.read_csv(\"ner_dataset.csv\", encoding=\"latin1\")\n",
    "data = data.drop(['POS'], axis =1)\n",
    "data = data.fillna(method=\"ffill\")\n",
    "data.tail(15)"
   ]
  },
  {
   "cell_type": "markdown",
   "metadata": {},
   "source": [
    "The dataset includes 35178 words and 17 different tags."
   ]
  },
  {
   "cell_type": "code",
   "execution_count": 3,
   "metadata": {},
   "outputs": [
    {
     "name": "stdout",
     "output_type": "stream",
     "text": [
      "35178\n"
     ]
    }
   ],
   "source": [
    "word_to_ix = {}\n",
    "words = set(list(data['Word'].values))\n",
    "for w in words:\n",
    "    word_to_ix[w]=len(word_to_ix)\n",
    "n_words = len(words)\n",
    "print(n_words)"
   ]
  },
  {
   "cell_type": "code",
   "execution_count": 4,
   "metadata": {},
   "outputs": [
    {
     "name": "stdout",
     "output_type": "stream",
     "text": [
      "17\n",
      "{'B-tim': 0, 'I-gpe': 1, 'I-geo': 2, 'B-eve': 3, 'I-per': 4, 'I-nat': 5, 'I-tim': 6, 'B-per': 7, 'B-nat': 8, 'O': 9, 'B-gpe': 10, 'B-geo': 11, 'B-org': 12, 'B-art': 13, 'I-art': 14, 'I-eve': 15, 'I-org': 16}\n"
     ]
    }
   ],
   "source": [
    "tag_dicts={}\n",
    "tags = set(list(data[\"Tag\"].values))\n",
    "for t in tags:\n",
    "    tag_dicts[t]=len(tag_dicts)\n",
    "n_tags = len(tags)\n",
    "print(n_tags)\n",
    "print(tag_dicts)"
   ]
  },
  {
   "cell_type": "code",
   "execution_count": 5,
   "metadata": {},
   "outputs": [
    {
     "name": "stdout",
     "output_type": "stream",
     "text": [
      "[('Israeli', 'B-gpe'), ('officials', 'O'), ('say', 'O'), ('Prime', 'B-per'), ('Minister', 'I-per'), ('Ariel', 'I-per'), ('Sharon', 'I-per'), ('will', 'O'), ('undergo', 'O'), ('a', 'O'), ('medical', 'O'), ('procedure', 'O'), ('Thursday', 'B-tim'), ('to', 'O'), ('close', 'O'), ('a', 'O'), ('tiny', 'O'), ('hole', 'O'), ('in', 'O'), ('his', 'O'), ('heart', 'O'), ('discovered', 'O'), ('during', 'O'), ('treatment', 'O'), ('for', 'O'), ('a', 'O'), ('minor', 'O'), ('stroke', 'O'), ('suffered', 'O'), ('last', 'O'), ('month', 'O'), ('.', 'O')]\n"
     ]
    }
   ],
   "source": [
    "agg_func = lambda s: [(w, t) for w, t in zip(s[\"Word\"].values.tolist(),s[\"Tag\"].values.tolist())]\n",
    "grouped = data.groupby(\"Sentence #\").apply(agg_func)\n",
    "sentences = [s for s in grouped]\n",
    "print(sentences[15])"
   ]
  },
  {
   "cell_type": "markdown",
   "metadata": {},
   "source": [
    "We should change the data into a sequence list and a tag list. Besides, we change the words and tags into dictionary indexes, which are easier to feed into the embeding layer."
   ]
  },
  {
   "cell_type": "code",
   "execution_count": 6,
   "metadata": {},
   "outputs": [
    {
     "name": "stdout",
     "output_type": "stream",
     "text": [
      "[6751, 23251, 31200, 7826, 17115, 557, 4265, 18740, 32770, 13523, 34546, 9392, 11850, 33090, 5725, 13523, 693, 33928, 31815, 13470, 32822, 6995, 28586, 24431, 6153, 13523, 16118, 32089, 27447, 29128, 9064, 1372]\n",
      "[10, 9, 9, 7, 4, 4, 4, 9, 9, 9, 9, 9, 0, 9, 9, 9, 9, 9, 9, 9, 9, 9, 9, 9, 9, 9, 9, 9, 9, 9, 9, 9]\n"
     ]
    }
   ],
   "source": [
    "max_len = 50\n",
    "X = [[w[0]for w in s] for s in sentences]\n",
    "Y = [[w[1]for w in s] for s in sentences]\n",
    "new_data = []\n",
    "new_tags=[]\n",
    "for seq,tag in zip(X,Y):\n",
    "    new_seq=[]\n",
    "    new_tag=[]\n",
    "    for i in range(max_len):\n",
    "        try:\n",
    "            new_seq.append(word_to_ix[seq[i]])\n",
    "            new_tag.append(tag_dicts[tag[i]])\n",
    "        except:\n",
    "            pass\n",
    "    new_data.append(new_seq)\n",
    "    new_tags.append(new_tag)\n",
    "print(new_data[15])\n",
    "print(new_tags[15])"
   ]
  },
  {
   "cell_type": "code",
   "execution_count": 7,
   "metadata": {},
   "outputs": [],
   "source": [
    "from sklearn.model_selection import train_test_split\n",
    "X_train, X_test, y_train, y_test = train_test_split(new_data, new_tags, test_size=0.3)\n",
    "X_train, X_valid, y_train, y_valid = train_test_split(X_train, y_train, test_size=0.3)"
   ]
  },
  {
   "cell_type": "markdown",
   "metadata": {},
   "source": [
    "### Step1. model building"
   ]
  },
  {
   "cell_type": "code",
   "execution_count": 8,
   "metadata": {},
   "outputs": [],
   "source": [
    "import torch\n",
    "import torch.autograd as autograd\n",
    "import torch.nn as nn\n",
    "import torch.optim as optim\n",
    "\n",
    "torch.manual_seed(1)#设置随机种子\n",
    "########################################################################################################################\n",
    "#定义一些工具函数\n",
    "def argmax(vec):\n",
    "    # return the argmax as a python int\n",
    "    _, idx = torch.max(vec, 1)\n",
    "    return idx.item()\n",
    "\n",
    "\n",
    "def prepare_sequence(seq, to_ix):\n",
    "    idxs = [to_ix[w] for w in seq]\n",
    "    return torch.tensor(idxs, dtype=torch.long)\n",
    "\n",
    "\n",
    "# Compute log sum exp in a numerically stable way for the forward algorithm\n",
    "def log_sum_exp(vec):\n",
    "    max_score = vec[0, argmax(vec)]\n",
    "    max_score_broadcast = max_score.view(1, -1).expand(1, vec.size()[1])\n",
    "    return max_score + \\\n",
    "        torch.log(torch.sum(torch.exp(vec - max_score_broadcast)))\n",
    "#########################################################################################################################\n",
    "#建立标准BiLSTM_CRF模型类\n",
    "class BiLSTM_CRF(nn.Module):\n",
    "\n",
    "    def __init__(self, vocab_size, tag_to_ix, embedding_dim, hidden_dim):#文本长度，tag的字典，嵌入向量的维度，lstm的隐层维度\n",
    "        super(BiLSTM_CRF, self).__init__()\n",
    "        self.embedding_dim = embedding_dim\n",
    "        self.hidden_dim = hidden_dim\n",
    "        self.vocab_size = vocab_size\n",
    "        self.tag_to_ix = tag_to_ix\n",
    "        self.tagset_size = len(tag_to_ix)\n",
    "        #输入为一个编号列表，输出为对应的符号嵌入向量列表（词典的大小尺寸，嵌入向量的维度，即用多少维来表示一个符号）\n",
    "        self.word_embeds = nn.Embedding(vocab_size, embedding_dim)\n",
    "        \n",
    "        self.lstm = nn.LSTM(embedding_dim, hidden_dim // 2,\n",
    "                            num_layers=1, bidirectional=True)\n",
    "\n",
    "        # Maps the output of the LSTM into tag space.\n",
    "        self.hidden2tag = nn.Linear(hidden_dim, self.tagset_size)\n",
    "\n",
    "        # Matrix of transition parameters.  Entry i,j is the score of\n",
    "        # transitioning *to* i *from* j.\n",
    "        self.transitions = nn.Parameter(\n",
    "            torch.randn(self.tagset_size, self.tagset_size))\n",
    "\n",
    "        # These two statements enforce the constraint that we never transfer\n",
    "        # to the start tag and we never transfer from the stop tag\n",
    "        self.transitions.data[tag_dicts[START_TAG], :] = -10000\n",
    "        self.transitions.data[:, tag_dicts[STOP_TAG]] = -10000\n",
    "\n",
    "        self.hidden = self.init_hidden()\n",
    "\n",
    "    def init_hidden(self):\n",
    "        return (torch.randn(2, 1, self.hidden_dim // 2),\n",
    "                torch.randn(2, 1, self.hidden_dim // 2))\n",
    "\n",
    "    #根据 随机的transitions ，前向传播算出的一个score，用到了动态规划的思想，但是因为用的是随机的转移矩阵，算出的值很大 score>20\n",
    "    def _forward_alg(self, feats):\n",
    "        # Do the forward algorithm to compute the partition function\n",
    "        init_alphas = torch.full((1, self.tagset_size), -10000.)#1*5 而且全是-10000\n",
    "        # START_TAG has all of the score.\n",
    "        #因为start tag是4，所以tensor([[-10000., -10000., -10000., 0., -10000.]])，将start的值为零，表示开始进行网络的传播\n",
    "        init_alphas[0][self.tag_to_ix[START_TAG]] = 0.\n",
    "\n",
    "        # Wrap in a variable so that we will get automatic backprop\n",
    "        forward_var = init_alphas#初始状态的forward_var，随着step t变化\n",
    "\n",
    "        # Iterate through the sentence会迭代feats的行数次\n",
    "        for feat in feats:#feat的维度是５ 依次把每一行取出来\n",
    "            alphas_t = []  # The forward tensors at this timestep\n",
    "            for next_tag in range(self.tagset_size):\n",
    "                # broadcast the emission score: it is the same regardless of\n",
    "                # the previous tag\n",
    "                emit_score = feat[next_tag].view(\n",
    "                    1, -1).expand(1, self.tagset_size)#维度是1*5，LSTM后的那个矩阵，就被当做是emit score（指真实标签对应的那个score）了\n",
    "                # the ith entry of trans_score is the score of transitioning to\n",
    "                # next_tag from i\n",
    "                trans_score = self.transitions[next_tag].view(1, -1)\n",
    "                # The ith entry of next_tag_var is the value for the\n",
    "                # edge (i -> next_tag) before we do log-sum-exp\n",
    "                next_tag_var = forward_var + trans_score + emit_score\n",
    "                # The forward variable for this tag is log-sum-exp of all the\n",
    "                # scores.\n",
    "                alphas_t.append(log_sum_exp(next_tag_var).view(1))\n",
    "            forward_var = torch.cat(alphas_t).view(1, -1)\n",
    "        terminal_var = forward_var + self.transitions[self.tag_to_ix[STOP_TAG]]\n",
    "        alpha = log_sum_exp(terminal_var)\n",
    "        return alpha\n",
    "\n",
    "    #函数里经过了embedding，lstm，linear层，是根据LSTM算出的一个矩阵。\n",
    "    #这里是11x5的一个tensor，而这个11x5的tensor，就是发射矩阵（emission matrix）\n",
    "    def _get_lstm_features(self, sentence):\n",
    "        self.hidden = self.init_hidden()\n",
    "        embeds = self.word_embeds(sentence).view(len(sentence), 1, -1)\n",
    "        lstm_out, self.hidden = self.lstm(embeds, self.hidden)\n",
    "        lstm_out = lstm_out.view(len(sentence), self.hidden_dim)\n",
    "        lstm_feats = self.hidden2tag(lstm_out)\n",
    "        return lstm_feats\n",
    "\n",
    "    #根据真实的标签算出的一个score\n",
    "    def _score_sentence(self, feats, tags):\n",
    "        # Gives the score of a provided tag sequence\n",
    "        score = torch.zeros(1)\n",
    "        tags = torch.cat([torch.tensor([self.tag_to_ix[START_TAG]], dtype=torch.long), tags])\n",
    "        for i, feat in enumerate(feats):\n",
    "            score = score + \\\n",
    "                self.transitions[tags[i + 1], tags[i]] + feat[tags[i + 1]]\n",
    "        score = score + self.transitions[self.tag_to_ix[STOP_TAG], tags[-1]]\n",
    "        return score\n",
    "\n",
    "    #维特比解码，实际上就是在预测的时候使用了，输出得分与路径值\n",
    "    def _viterbi_decode(self, feats):\n",
    "        backpointers = []\n",
    "\n",
    "        # Initialize the viterbi variables in log space\n",
    "        init_vvars = torch.full((1, self.tagset_size), -10000.)\n",
    "        init_vvars[0][self.tag_to_ix[START_TAG]] = 0\n",
    "\n",
    "        # forward_var at step i holds the viterbi variables for step i-1\n",
    "        forward_var = init_vvars\n",
    "        for feat in feats:\n",
    "            bptrs_t = []  # holds the backpointers for this step\n",
    "            viterbivars_t = []  # holds the viterbi variables for this step\n",
    "\n",
    "            for next_tag in range(self.tagset_size):\n",
    "                # next_tag_var[i] holds the viterbi variable for tag i at the\n",
    "                # previous step, plus the score of transitioning\n",
    "                # from tag i to next_tag.\n",
    "                # We don't include the emission scores here because the max\n",
    "                # does not depend on them (we add them in below)\n",
    "                next_tag_var = forward_var + self.transitions[next_tag]\n",
    "                best_tag_id = argmax(next_tag_var)\n",
    "                bptrs_t.append(best_tag_id)\n",
    "                viterbivars_t.append(next_tag_var[0][best_tag_id].view(1))\n",
    "            # Now add in the emission scores, and assign forward_var to the set\n",
    "            # of viterbi variables we just computed\n",
    "            forward_var = (torch.cat(viterbivars_t) + feat).view(1, -1)\n",
    "            backpointers.append(bptrs_t)\n",
    "\n",
    "        # Transition to STOP_TAG\n",
    "        terminal_var = forward_var + self.transitions[self.tag_to_ix[STOP_TAG]]\n",
    "        best_tag_id = argmax(terminal_var)\n",
    "        path_score = terminal_var[0][best_tag_id]\n",
    "\n",
    "        # Follow the back pointers to decode the best path.\n",
    "        best_path = [best_tag_id]\n",
    "        for bptrs_t in reversed(backpointers):\n",
    "            best_tag_id = bptrs_t[best_tag_id]\n",
    "            best_path.append(best_tag_id)\n",
    "        # Pop off the start tag (we dont want to return that to the caller)\n",
    "        start = best_path.pop()\n",
    "        assert start == self.tag_to_ix[START_TAG]  # Sanity check\n",
    "        best_path.reverse()\n",
    "        return path_score, best_path\n",
    "\n",
    "    def neg_log_likelihood(self, sentence, tags):\n",
    "        feats = self._get_lstm_features(sentence)#11*5 经过了LSTM+Linear矩阵后的输出，之后作为CRF的输入。\n",
    "        forward_score = self._forward_alg(feats)#0维的一个得分，20.*\n",
    "        gold_score = self._score_sentence(feats, tags)#tensor([ 4.5836])\n",
    "        return forward_score - gold_score#这是两者之间的差值，后来直接根据这个差值，反向传播。\n",
    "\n",
    "    def forward(self, sentence):  # dont confuse this with _forward_alg above.forward函数只是用来预测了，train的时候没用调用它\n",
    "        # Get the emission scores from the BiLSTM\n",
    "        lstm_feats = self._get_lstm_features(sentence)\n",
    "\n",
    "        # Find the best path, given the features.\n",
    "        score, tag_seq = self._viterbi_decode(lstm_feats)\n",
    "        return score, tag_seq"
   ]
  },
  {
   "cell_type": "markdown",
   "metadata": {},
   "source": [
    "### Step2. training module"
   ]
  },
  {
   "cell_type": "code",
   "execution_count": 9,
   "metadata": {},
   "outputs": [
    {
     "name": "stderr",
     "output_type": "stream",
     "text": [
      "\r",
      "  0%|                                                                                          | 0/735 [00:00<?, ?it/s]"
     ]
    },
    {
     "name": "stdout",
     "output_type": "stream",
     "text": [
      "(tensor(49.1958), [0, 5, 6, 1, 5, 6, 1, 5, 6, 1, 5, 6, 1, 5, 6, 1, 5, 6, 1, 5, 6, 1, 4, 11])\n"
     ]
    },
    {
     "name": "stderr",
     "output_type": "stream",
     "text": [
      "d:\\anaconda3\\envs\\cs286\\lib\\site-packages\\torch\\autograd\\__init__.py:132: UserWarning: CUDA initialization: Found no NVIDIA driver on your system. Please check that you have an NVIDIA GPU and installed a driver from http://www.nvidia.com/Download/index.aspx (Triggered internally at  ..\\c10\\cuda\\CUDAFunctions.cpp:100.)\n",
      "  allow_unreachable=True)  # allow_unreachable flag\n",
      "100%|████████████████████████████████████████████████████████████████████████████████| 735/735 [47:48<00:00,  3.90s/it]\n",
      "100%|████████████████████████████████████████████████████████████████████████████████| 315/315 [08:29<00:00,  1.62s/it]\n",
      "100%|████████████████████████████████████████████████████████████████████████████████| 735/735 [47:49<00:00,  3.90s/it]\n",
      "100%|████████████████████████████████████████████████████████████████████████████████| 315/315 [08:23<00:00,  1.60s/it]\n",
      "100%|████████████████████████████████████████████████████████████████████████████████| 735/735 [46:25<00:00,  3.79s/it]\n",
      "100%|████████████████████████████████████████████████████████████████████████████████| 315/315 [08:19<00:00,  1.59s/it]\n",
      "100%|████████████████████████████████████████████████████████████████████████████████| 735/735 [46:26<00:00,  3.79s/it]\n",
      "100%|████████████████████████████████████████████████████████████████████████████████| 315/315 [08:19<00:00,  1.59s/it]\n",
      "100%|████████████████████████████████████████████████████████████████████████████████| 735/735 [46:24<00:00,  3.79s/it]\n",
      "100%|████████████████████████████████████████████████████████████████████████████████| 315/315 [08:18<00:00,  1.58s/it]\n"
     ]
    },
    {
     "name": "stdout",
     "output_type": "stream",
     "text": [
      "(tensor(218.3005), [9, 9, 9, 9, 9, 9, 11, 9, 9, 9, 9, 9, 11, 9, 9, 9, 9, 9, 10, 9, 9, 9, 9, 9])\n"
     ]
    },
    {
     "data": {
      "image/png": "[encoded data removed]",
      "text/plain": [
       "<Figure size 720x720 with 1 Axes>"
      ]
     },
     "metadata": {
      "needs_background": "light"
     },
     "output_type": "display_data"
    }
   ],
   "source": [
    "from tqdm import tqdm\n",
    "import matplotlib.pyplot as plt\n",
    "START_TAG = \"<START>\"\n",
    "STOP_TAG = \"<STOP>\"\n",
    "EMBEDDING_DIM = 5\n",
    "HIDDEN_DIM = 4\n",
    "batch_size=32\n",
    "train_loss=[]\n",
    "valid_loss=[]\n",
    "train_loss_sum=[]\n",
    "valid_loss_sum=[]\n",
    "\n",
    "#生成每个batch\n",
    "def get_batch(dataset1,dataset2, batch_size):\n",
    "    lens = len(dataset1)\n",
    "    batch = lens//batch_size #看看能分成多个满足batchsize的整份,可能有余数\n",
    "    remain = lens%batch_size #看余数\n",
    "    result1=[]\n",
    "    result2=[]\n",
    "    for i in range(batch):\n",
    "        result1.append(dataset1[0 + (i*batch_size):batch_size + (i*batch_size)])\n",
    "        result2.append(dataset2[0 + (i*batch_size):batch_size + (i*batch_size)])\n",
    "    else:\n",
    "        result1.append(dataset1[-remain:])\n",
    "        result2.append(dataset2[-remain:]) #返回剩下的\n",
    "    return result1,result2\n",
    "\n",
    "\n",
    "#准备数据\n",
    "# X_train_b,y_train_b = get_batch(X_train[:100],y_train[:100], batch_size)#可在此处调整训练集大小\n",
    "X_train_b,y_train_b = get_batch(X_train,y_train, batch_size)#可在此处调整训练集大小\n",
    "X_valid_b,y_valid_b=get_batch(X_valid,y_valid,batch_size)\n",
    "tag_dicts[START_TAG]=17\n",
    "tag_dicts[STOP_TAG]=18\n",
    "\n",
    "\n",
    "\n",
    "\n",
    "#实例化模型和优化器\n",
    "model = BiLSTM_CRF(len(word_to_ix), tag_dicts, EMBEDDING_DIM, HIDDEN_DIM)\n",
    "optimizer = optim.SGD(model.parameters(), lr=0.01, weight_decay=1e-4)\n",
    "\n",
    "# Check predictions before training\n",
    "with torch.no_grad():\n",
    "    precheck_sent = prepare_sequence(X[0], word_to_ix)\n",
    "    precheck_tags = torch.tensor([tag_dicts[t] for t in Y[0]], dtype=torch.long)\n",
    "    print(model(precheck_sent))\n",
    "\n",
    "    \n",
    "#训练和验证\n",
    "for epoch in range(\n",
    "        5):  # again, normally you would NOT do 300 epochs, it is toy data\n",
    "    for i in tqdm(range(len(X_train_b))):#训练batch\n",
    "        train_loss=[]\n",
    "        train_data_b=X_train_b[i]\n",
    "        train_label_b=y_train_b[i]     \n",
    "        for (sentence, tags) in zip(train_data_b,train_label_b):\n",
    "            # Step 1. Remember that Pytorch accumulates gradients.\n",
    "            # We need to clear them out before each instance\n",
    "            model.zero_grad()\n",
    "            # Step 2. Get our inputs ready for the network, that is,\n",
    "            # turn them into Tensors of word indices.\n",
    "#             sentence_in = prepare_sequence(sentence, word_to_ix)\n",
    "            sentence_in=torch.tensor(sentence,dtype=torch.long)\n",
    "            targets = torch.tensor(tags, dtype=torch.long)\n",
    "            # Step 3. Run our forward pass.\n",
    "            loss = model.neg_log_likelihood(sentence_in, targets)#tensor([ 15.4958]) 最大的可能的值与根据随机转移矩阵计算的真实值的差\n",
    "            \n",
    "            # Step 4. Compute the loss, gradients, and update the parameters by\n",
    "            # calling optimizer.step()\n",
    "            loss.backward()#进行了反向传播，算了梯度值。debug中可以看到，transition的_grad 有了值 torch.Size([5, 5])\n",
    "            optimizer.step()        \n",
    "        loss=loss.float()\n",
    "#         print('loss.shape:',loss.shape)\n",
    "        train_loss.append(loss)\n",
    "    train_loss_sum.append(torch.mean(torch.tensor(train_loss)))\n",
    "    for i in tqdm(range(len(X_valid_b))):#验证batch\n",
    "        valid_loss=[]\n",
    "        valid_data_b=X_valid_b[i]\n",
    "        valid_label_b=y_valid_b[i]   \n",
    "        for (sen_v,tags_v) in zip(valid_data_b,valid_label_b):\n",
    "            sentence_in_v=torch.tensor(sen_v,dtype=torch.long)\n",
    "            targets_v = torch.tensor(tags_v, dtype=torch.long)\n",
    "            loss_v=model.neg_log_likelihood(sentence_in_v, targets_v)\n",
    "        loss_v=loss_v.float()\n",
    "        valid_loss.append(loss_v)\n",
    "    valid_loss_sum.append(torch.mean(torch.tensor(valid_loss)))\n",
    "\n",
    "# Check predictions after training\n",
    "with torch.no_grad():\n",
    "    precheck_sent = prepare_sequence(X[0], word_to_ix)\n",
    "    print(model(precheck_sent))\n",
    "    \n",
    "    \n",
    "\n",
    "torch.save(model,'BiLSTM_CRF.pkl')\n",
    "\n",
    "\n",
    "\n",
    "\n",
    "%matplotlib inline\n",
    "figure1=plt.figure(figsize=(10,10))\n",
    "plt.plot(train_loss_sum,'b',valid_loss_sum,'r')\n",
    "plt.show()\n",
    "    "
   ]
  },
  {
   "cell_type": "markdown",
   "metadata": {},
   "source": [
    "### Step3. test module"
   ]
  },
  {
   "cell_type": "code",
   "execution_count": 10,
   "metadata": {},
   "outputs": [
    {
     "name": "stderr",
     "output_type": "stream",
     "text": [
      "14388it [05:15, 45.66it/s]\n"
     ]
    },
    {
     "data": {
      "image/png": "[encoded data removed]",
      "text/plain": [
       "<Figure size 720x720 with 1 Axes>"
      ]
     },
     "metadata": {
      "needs_background": "light"
     },
     "output_type": "display_data"
    }
   ],
   "source": [
    "from sklearn.metrics import f1_score\n",
    "model=torch.load('BiLSTM_CRF.pkl')\n",
    "test_loss=[]\n",
    "f1=[]\n",
    "y_true=[]\n",
    "y_pred=[]\n",
    "# for (sen_t,tags_t) in tqdm(zip(X_test[:100],y_test[:100])):#此处修改测试数据大小\n",
    "for (sen_t,tags_t) in tqdm(zip(X_test,y_test)):#此处修改测试数据大小\n",
    "    sentence_in_t=torch.tensor(sen_t,dtype=torch.long)\n",
    "    targets_t = torch.tensor(tags_t, dtype=torch.long)\n",
    "    score,tag_seq=model.forward(sentence_in_t)\n",
    "    y_true+=targets_t\n",
    "    y_pred+=tag_seq\n",
    "    f1_micro = f1_score(targets_t,tag_seq,average='micro')\n",
    "    f1.append(f1_micro)\n",
    "figure1=plt.figure(figsize=(10,10))\n",
    "plt.scatter([i for i in range(len(f1))],f1,1)\n",
    "plt.show()\n",
    "F1=f1_score(y_true,y_pred,average='micro')\n",
    "print('F1_score:',F1)"
   ]
  }
 ],
 "metadata": {
  "kernelspec": {
   "display_name": "Python 3",
   "language": "python",
   "name": "python3"
  },
  "language_info": {
   "codemirror_mode": {
    "name": "ipython",
    "version": 3
   },
   "file_extension": ".py",
   "mimetype": "text/x-python",
   "name": "python",
   "nbconvert_exporter": "python",
   "pygments_lexer": "ipython3",
   "version": "3.6.2"
  }
 },
 "nbformat": 4,
 "nbformat_minor": 4
}
