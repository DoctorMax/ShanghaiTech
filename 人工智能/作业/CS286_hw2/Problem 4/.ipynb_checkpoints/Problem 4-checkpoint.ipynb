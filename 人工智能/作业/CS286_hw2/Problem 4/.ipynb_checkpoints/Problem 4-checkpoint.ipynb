{
 "cells": [
  {
   "cell_type": "markdown",
   "metadata": {},
   "source": [
    "## Problem 4. U-Net for Vessel Extraction (30 points)\n",
    "\n",
    "Retinal vessel segmentation and delineation of morphological attributes of retinal blood vessels, such as length, width, tortuosity, branching patterns and angles, are utilized for the diagnosis, screening, treatment, and evaluation of various cardiovascular and ophthalmologic diseases such as diabetes, hypertension, arteriosclerosis and chorodial neovascularization. Automatic detection and analysis of the vasculature have many biomedical applications, e.g. assisting in the implementation of screening programs for diabetic retinopathy, aiding research on the relationship between vessel tortuosity and hypertensive retinopathy, vessel diameter measurement in relation with diagnosis of hypertension, and computer-assisted laser surgery. Automatic generation of retinal maps and extraction of branch points have been used for temporal or multimodal image registration and retinal image mosaic synthesis. Moreover, the retinal vascular tree is found to be unique for each individual and can be used for biometric identification.\n",
    "#### Requirement：\n",
    "All the code and results should be shown in *Unet.ipynb* "
   ]
  },
  {
   "cell_type": "markdown",
   "metadata": {},
   "source": [
    "### 4.1 Data reading and preprocessing (6 points)\n",
    "1. Implement data normalization.\n",
    "2. Implement data augmentation. At least three augmentation methods should be implemented."
   ]
  },
  {
   "cell_type": "code",
   "execution_count": null,
   "metadata": {},
   "outputs": [],
   "source": []
  },
  {
   "cell_type": "markdown",
   "metadata": {},
   "source": [
    "### 4.2 Building  U-Net model (6 points)\n",
    "\n",
    "Construct a U-Net model to reproduce this paper: 'U-Net: Convolutional Networks for Biomedical Image Segmentation' (https://arxiv.org/pdf/1505.04597.pdf). \n",
    "\n",
    "1. Use Adam as optimizer, and binary cross-entropy as loss function.\n",
    "2. Use tensorboard to visualize the network structure and display the results in  *Unet.ipynb*."
   ]
  },
  {
   "cell_type": "code",
   "execution_count": null,
   "metadata": {},
   "outputs": [],
   "source": []
  },
  {
   "cell_type": "markdown",
   "metadata": {},
   "source": [
    "### 4.3 Model training (4 points)\n",
    "1. The loss should be displayed at the end of each epoch and should be less than 0.3 at the end of training.\n",
    "2. The trained model parameter file should be saved to  **./model/**"
   ]
  },
  {
   "cell_type": "code",
   "execution_count": null,
   "metadata": {},
   "outputs": [],
   "source": []
  },
  {
   "cell_type": "markdown",
   "metadata": {},
   "source": [
    "### 4.4 Model testing (6 points)\n",
    "1. Use Dice, IOU and ASD (Average Symmetric Surface Distance) to evaluate the segmentation results."
   ]
  },
  {
   "cell_type": "code",
   "execution_count": null,
   "metadata": {},
   "outputs": [],
   "source": []
  },
  {
   "cell_type": "markdown",
   "metadata": {},
   "source": [
    "### 4.5 Improving performance (8 points)\n",
    "1. Modify the above U-Net structure to improve the segmentation result, measured by Dice.\n",
    "\n",
    "#### References：\n",
    "\"UNet++: A Nested U-Net Architecture for Medical Image Segmentation\"(https://arxiv.org/pdf/1807.10165.pdf)  \n",
    "\"V-Net: Fully Convolutional Neural Networks for Volumetric Medical Image Segmentation\"(https://arxiv.org/pdf/1606.04797.pdf)  \n",
    "\"W-Net: A Deep Model for Fully Unsupervised Image Segmentation\"(https://arxiv.org/pdf/1711.08506.pdf)"
   ]
  },
  {
   "cell_type": "code",
   "execution_count": null,
   "metadata": {},
   "outputs": [],
   "source": []
  }
 ],
 "metadata": {
  "kernelspec": {
   "display_name": "Python 3",
   "language": "python",
   "name": "python3"
  },
  "language_info": {
   "codemirror_mode": {
    "name": "ipython",
    "version": 3
   },
   "file_extension": ".py",
   "mimetype": "text/x-python",
   "name": "python",
   "nbconvert_exporter": "python",
   "pygments_lexer": "ipython3",
   "version": "3.6.12"
  }
 },
 "nbformat": 4,
 "nbformat_minor": 2
}
