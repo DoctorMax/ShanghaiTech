{
 "cells": [
  {
   "cell_type": "code",
   "execution_count": 1,
   "metadata": {
    "ExecuteTime": {
     "end_time": "2021-05-23T14:11:02.723609Z",
     "start_time": "2021-05-23T14:11:02.717625Z"
    },
    "code_folding": []
   },
   "outputs": [],
   "source": [
    "# 时间：2021年5月22日14:22:22\n",
    "# 贡献者：刘\n",
    "# 前置文件：test8.ipynb\n",
    "# 文件内容：这是参考文献1的原始代码修改\n",
    "# 文件描述：功能没有太大变化，依然是数据处理然后逻辑回归\n",
    "# 实现内容：把代码修修漂亮，这是最终的提交版\n",
    "# TBD：NaN"
   ]
  },
  {
   "cell_type": "markdown",
   "metadata": {
    "heading_collapsed": true
   },
   "source": [
    "# 初始化"
   ]
  },
  {
   "cell_type": "code",
   "execution_count": 2,
   "metadata": {
    "ExecuteTime": {
     "end_time": "2021-05-23T14:11:30.873386Z",
     "start_time": "2021-05-23T14:11:02.724607Z"
    },
    "code_folding": [],
    "hidden": true
   },
   "outputs": [],
   "source": [
    "# 导入依赖包和一些初始化\n",
    "import re\n",
    "import csv\n",
    "import pandas as pd\n",
    "import matplotlib as mpl\n",
    "import matplotlib.pyplot as plt\n",
    "import numpy as np\n",
    "# 画图用的\n",
    "import seaborn as sns\n",
    "# 设置浮点数格式\n",
    "pd.options.display.float_format = '{:.4f}'.format\n",
    "import datetime as dt\n",
    "import matplotlib.dates as mdates\n",
    "# 画图不弹窗，直接内联显示\n",
    "%matplotlib inline\n",
    "plt.style.use('default')\n",
    "# 让代码忽略警告，继续运行\n",
    "import warnings\n",
    "warnings.filterwarnings(\"ignore\")\n",
    "import sklearn\n",
    "from sklearn.utils import resample\n",
    "from sklearn import datasets, linear_model\n",
    "from sklearn.metrics import mean_squared_error, r2_score\n",
    "from sklearn import decomposition\n",
    "from sklearn.preprocessing import StandardScaler\n",
    "from sklearn.decomposition import PCA\n",
    "# from sklearn.preprocessing import Imputer\n",
    "from sklearn.impute import SimpleImputer\n",
    "from sklearn.feature_selection import f_regression\n",
    "from sklearn.linear_model import LinearRegression\n",
    "import statsmodels.api as sm\n",
    "from scipy import stats\n",
    "from statsmodels.stats.outliers_influence import variance_inflation_factor\n",
    "from sklearn.model_selection import train_test_split\n",
    "from scipy import stats\n",
    "stats.chisqprob = lambda chisq, df: stats.chi2.sf(chisq, df)\n",
    "from sklearn import model_selection\n",
    "from sklearn.model_selection import cross_val_score\n",
    "from sklearn.linear_model import LogisticRegression\n",
    "from sklearn import metrics\n",
    "from sklearn.metrics import confusion_matrix\n",
    "import itertools\n",
    "from sklearn.metrics import roc_auc_score\n",
    "from sklearn.metrics import roc_curve\n",
    "from sklearn.feature_selection import SelectKBest\n",
    "from matplotlib import rcParams\n",
    "from sklearn.utils import resample\n",
    "# 画图的时候自适应布局\n",
    "rcParams.update({'figure.autolayout': True})\n",
    "\n",
    "# 一个数据分析的神仙库\n",
    "import pandas_profiling as pp"
   ]
  },
  {
   "cell_type": "markdown",
   "metadata": {
    "heading_collapsed": true
   },
   "source": [
    "# 读数据"
   ]
  },
  {
   "cell_type": "code",
   "execution_count": 3,
   "metadata": {
    "ExecuteTime": {
     "end_time": "2021-05-23T14:11:38.334431Z",
     "start_time": "2021-05-23T14:11:30.875377Z"
    },
    "code_folding": [],
    "hidden": true
   },
   "outputs": [],
   "source": [
    "# 加载数据，编码格式是mac_roman\n",
    "crunchbase = pd.read_csv(\"cb_objects.csv\",index_col=0, encoding='mac_roman')\n",
    "people = pd.read_csv(\"cb_people.csv\")\n",
    "ipoInfo=pd.read_csv(\"cb_ipos.csv\")\n",
    "acquisitionsInfo=pd.read_csv(\"cb_acquisitions.csv\")\n",
    "degreesInfo=pd.read_csv(\"cb_degrees.csv\")"
   ]
  },
  {
   "cell_type": "code",
   "execution_count": 4,
   "metadata": {
    "ExecuteTime": {
     "end_time": "2021-05-23T14:11:38.396266Z",
     "start_time": "2021-05-23T14:11:38.336427Z"
    },
    "code_folding": [],
    "hidden": true
   },
   "outputs": [
    {
     "data": {
      "text/html": [
       "<div>\n",
       "<style scoped>\n",
       "    .dataframe tbody tr th:only-of-type {\n",
       "        vertical-align: middle;\n",
       "    }\n",
       "\n",
       "    .dataframe tbody tr th {\n",
       "        vertical-align: top;\n",
       "    }\n",
       "\n",
       "    .dataframe thead th {\n",
       "        text-align: right;\n",
       "    }\n",
       "</style>\n",
       "<table border=\"1\" class=\"dataframe\">\n",
       "  <thead>\n",
       "    <tr style=\"text-align: right;\">\n",
       "      <th></th>\n",
       "      <th>entity_type</th>\n",
       "      <th>entity_id</th>\n",
       "      <th>parent_id</th>\n",
       "      <th>name</th>\n",
       "      <th>normalized_name</th>\n",
       "      <th>permalink</th>\n",
       "      <th>category_code</th>\n",
       "      <th>status</th>\n",
       "      <th>founded_at</th>\n",
       "      <th>closed_at</th>\n",
       "      <th>...</th>\n",
       "      <th>last_funding_at</th>\n",
       "      <th>funding_rounds</th>\n",
       "      <th>funding_total_usd</th>\n",
       "      <th>first_milestone_at</th>\n",
       "      <th>last_milestone_at</th>\n",
       "      <th>milestones</th>\n",
       "      <th>relationships</th>\n",
       "      <th>created_by</th>\n",
       "      <th>created_at</th>\n",
       "      <th>updated_at</th>\n",
       "    </tr>\n",
       "    <tr>\n",
       "      <th>id</th>\n",
       "      <th></th>\n",
       "      <th></th>\n",
       "      <th></th>\n",
       "      <th></th>\n",
       "      <th></th>\n",
       "      <th></th>\n",
       "      <th></th>\n",
       "      <th></th>\n",
       "      <th></th>\n",
       "      <th></th>\n",
       "      <th></th>\n",
       "      <th></th>\n",
       "      <th></th>\n",
       "      <th></th>\n",
       "      <th></th>\n",
       "      <th></th>\n",
       "      <th></th>\n",
       "      <th></th>\n",
       "      <th></th>\n",
       "      <th></th>\n",
       "      <th></th>\n",
       "    </tr>\n",
       "  </thead>\n",
       "  <tbody>\n",
       "    <tr>\n",
       "      <th>c:1</th>\n",
       "      <td>Company</td>\n",
       "      <td>1</td>\n",
       "      <td>NaN</td>\n",
       "      <td>Wetpaint</td>\n",
       "      <td>wetpaint</td>\n",
       "      <td>/company/wetpaint</td>\n",
       "      <td>web</td>\n",
       "      <td>operating</td>\n",
       "      <td>17/10/2005</td>\n",
       "      <td>NaN</td>\n",
       "      <td>...</td>\n",
       "      <td>19/5/2008</td>\n",
       "      <td>3.0000</td>\n",
       "      <td>39750000.0000</td>\n",
       "      <td>5/9/2010</td>\n",
       "      <td>18/9/2013</td>\n",
       "      <td>5.0000</td>\n",
       "      <td>17.0000</td>\n",
       "      <td>initial-importer</td>\n",
       "      <td>25/5/2007 06:51:27</td>\n",
       "      <td>13/4/2013 03:29:00</td>\n",
       "    </tr>\n",
       "    <tr>\n",
       "      <th>c:10</th>\n",
       "      <td>Company</td>\n",
       "      <td>10</td>\n",
       "      <td>NaN</td>\n",
       "      <td>Flektor</td>\n",
       "      <td>flektor</td>\n",
       "      <td>/company/flektor</td>\n",
       "      <td>games_video</td>\n",
       "      <td>acquired</td>\n",
       "      <td>NaN</td>\n",
       "      <td>NaN</td>\n",
       "      <td>...</td>\n",
       "      <td>NaN</td>\n",
       "      <td>nan</td>\n",
       "      <td>nan</td>\n",
       "      <td>NaN</td>\n",
       "      <td>NaN</td>\n",
       "      <td>nan</td>\n",
       "      <td>6.0000</td>\n",
       "      <td>initial-importer</td>\n",
       "      <td>31/5/2007 21:11:51</td>\n",
       "      <td>23/5/2008 23:23:14</td>\n",
       "    </tr>\n",
       "    <tr>\n",
       "      <th>c:100</th>\n",
       "      <td>Company</td>\n",
       "      <td>100</td>\n",
       "      <td>NaN</td>\n",
       "      <td>There</td>\n",
       "      <td>there</td>\n",
       "      <td>/company/there</td>\n",
       "      <td>games_video</td>\n",
       "      <td>acquired</td>\n",
       "      <td>NaN</td>\n",
       "      <td>NaN</td>\n",
       "      <td>...</td>\n",
       "      <td>NaN</td>\n",
       "      <td>nan</td>\n",
       "      <td>nan</td>\n",
       "      <td>1/2/2003</td>\n",
       "      <td>23/9/2011</td>\n",
       "      <td>4.0000</td>\n",
       "      <td>12.0000</td>\n",
       "      <td>initial-importer</td>\n",
       "      <td>6/8/2007 23:52:45</td>\n",
       "      <td>4/11/2013 02:09:48</td>\n",
       "    </tr>\n",
       "    <tr>\n",
       "      <th>c:10000</th>\n",
       "      <td>Company</td>\n",
       "      <td>10000</td>\n",
       "      <td>NaN</td>\n",
       "      <td>MYWEBBO</td>\n",
       "      <td>mywebbo</td>\n",
       "      <td>/company/mywebbo</td>\n",
       "      <td>network_hosting</td>\n",
       "      <td>operating</td>\n",
       "      <td>26/7/2008</td>\n",
       "      <td>NaN</td>\n",
       "      <td>...</td>\n",
       "      <td>NaN</td>\n",
       "      <td>nan</td>\n",
       "      <td>nan</td>\n",
       "      <td>NaN</td>\n",
       "      <td>NaN</td>\n",
       "      <td>nan</td>\n",
       "      <td>nan</td>\n",
       "      <td>NaN</td>\n",
       "      <td>24/8/2008 16:51:57</td>\n",
       "      <td>6/9/2008 14:19:18</td>\n",
       "    </tr>\n",
       "    <tr>\n",
       "      <th>c:10001</th>\n",
       "      <td>Company</td>\n",
       "      <td>10001</td>\n",
       "      <td>NaN</td>\n",
       "      <td>THE Movie Streamer</td>\n",
       "      <td>the movie streamer</td>\n",
       "      <td>/company/the-movie-streamer</td>\n",
       "      <td>games_video</td>\n",
       "      <td>operating</td>\n",
       "      <td>26/7/2008</td>\n",
       "      <td>NaN</td>\n",
       "      <td>...</td>\n",
       "      <td>NaN</td>\n",
       "      <td>nan</td>\n",
       "      <td>nan</td>\n",
       "      <td>NaN</td>\n",
       "      <td>NaN</td>\n",
       "      <td>nan</td>\n",
       "      <td>nan</td>\n",
       "      <td>NaN</td>\n",
       "      <td>24/8/2008 17:10:34</td>\n",
       "      <td>6/9/2008 14:19:18</td>\n",
       "    </tr>\n",
       "  </tbody>\n",
       "</table>\n",
       "<p>5 rows × 39 columns</p>\n",
       "</div>"
      ],
      "text/plain": [
       "        entity_type  entity_id parent_id                name  \\\n",
       "id                                                             \n",
       "c:1         Company          1       NaN            Wetpaint   \n",
       "c:10        Company         10       NaN             Flektor   \n",
       "c:100       Company        100       NaN               There   \n",
       "c:10000     Company      10000       NaN             MYWEBBO   \n",
       "c:10001     Company      10001       NaN  THE Movie Streamer   \n",
       "\n",
       "            normalized_name                    permalink    category_code  \\\n",
       "id                                                                          \n",
       "c:1                wetpaint            /company/wetpaint              web   \n",
       "c:10                flektor             /company/flektor      games_video   \n",
       "c:100                 there               /company/there      games_video   \n",
       "c:10000             mywebbo             /company/mywebbo  network_hosting   \n",
       "c:10001  the movie streamer  /company/the-movie-streamer      games_video   \n",
       "\n",
       "            status  founded_at closed_at  ... last_funding_at funding_rounds  \\\n",
       "id                                        ...                                  \n",
       "c:1      operating  17/10/2005       NaN  ...       19/5/2008         3.0000   \n",
       "c:10      acquired         NaN       NaN  ...             NaN            nan   \n",
       "c:100     acquired         NaN       NaN  ...             NaN            nan   \n",
       "c:10000  operating   26/7/2008       NaN  ...             NaN            nan   \n",
       "c:10001  operating   26/7/2008       NaN  ...             NaN            nan   \n",
       "\n",
       "        funding_total_usd first_milestone_at  last_milestone_at  milestones  \\\n",
       "id                                                                            \n",
       "c:1         39750000.0000           5/9/2010          18/9/2013      5.0000   \n",
       "c:10                  nan                NaN                NaN         nan   \n",
       "c:100                 nan           1/2/2003          23/9/2011      4.0000   \n",
       "c:10000               nan                NaN                NaN         nan   \n",
       "c:10001               nan                NaN                NaN         nan   \n",
       "\n",
       "        relationships        created_by          created_at  \\\n",
       "id                                                            \n",
       "c:1           17.0000  initial-importer  25/5/2007 06:51:27   \n",
       "c:10           6.0000  initial-importer  31/5/2007 21:11:51   \n",
       "c:100         12.0000  initial-importer   6/8/2007 23:52:45   \n",
       "c:10000           nan               NaN  24/8/2008 16:51:57   \n",
       "c:10001           nan               NaN  24/8/2008 17:10:34   \n",
       "\n",
       "                 updated_at  \n",
       "id                           \n",
       "c:1      13/4/2013 03:29:00  \n",
       "c:10     23/5/2008 23:23:14  \n",
       "c:100    4/11/2013 02:09:48  \n",
       "c:10000   6/9/2008 14:19:18  \n",
       "c:10001   6/9/2008 14:19:18  \n",
       "\n",
       "[5 rows x 39 columns]"
      ]
     },
     "execution_count": 4,
     "metadata": {},
     "output_type": "execute_result"
    }
   ],
   "source": [
    "# 看一眼前五行有啥\n",
    "crunchbase.head()\n",
    "# 企业名字，企业主页，企业所处市场类型，融资金额，经营状态（acquired收购，operating运营），所处国家，所处州，所处区域，所处城市，\n",
    "# 融资轮数，成立日期，成立月份，成立季度，成立年份，首次融资日期，最后融资日期"
   ]
  },
  {
   "cell_type": "code",
   "execution_count": 5,
   "metadata": {
    "ExecuteTime": {
     "end_time": "2021-05-23T14:11:38.412223Z",
     "start_time": "2021-05-23T14:11:38.397264Z"
    },
    "hidden": true
   },
   "outputs": [
    {
     "data": {
      "text/plain": [
       "(462651, 39)"
      ]
     },
     "execution_count": 5,
     "metadata": {},
     "output_type": "execute_result"
    }
   ],
   "source": [
    "crunchbase.shape"
   ]
  },
  {
   "cell_type": "code",
   "execution_count": 6,
   "metadata": {
    "ExecuteTime": {
     "end_time": "2021-05-23T14:11:38.428181Z",
     "start_time": "2021-05-23T14:11:38.414218Z"
    },
    "code_folding": [],
    "hidden": true
   },
   "outputs": [
    {
     "data": {
      "text/html": [
       "<div>\n",
       "<style scoped>\n",
       "    .dataframe tbody tr th:only-of-type {\n",
       "        vertical-align: middle;\n",
       "    }\n",
       "\n",
       "    .dataframe tbody tr th {\n",
       "        vertical-align: top;\n",
       "    }\n",
       "\n",
       "    .dataframe thead th {\n",
       "        text-align: right;\n",
       "    }\n",
       "</style>\n",
       "<table border=\"1\" class=\"dataframe\">\n",
       "  <thead>\n",
       "    <tr style=\"text-align: right;\">\n",
       "      <th></th>\n",
       "      <th>id</th>\n",
       "      <th>object_id</th>\n",
       "      <th>first_name</th>\n",
       "      <th>last_name</th>\n",
       "      <th>birthplace</th>\n",
       "      <th>affiliation_name</th>\n",
       "    </tr>\n",
       "  </thead>\n",
       "  <tbody>\n",
       "    <tr>\n",
       "      <th>0</th>\n",
       "      <td>1</td>\n",
       "      <td>p:2</td>\n",
       "      <td>Ben</td>\n",
       "      <td>Elowitz</td>\n",
       "      <td>NaN</td>\n",
       "      <td>Blue Nile</td>\n",
       "    </tr>\n",
       "    <tr>\n",
       "      <th>1</th>\n",
       "      <td>2</td>\n",
       "      <td>p:3</td>\n",
       "      <td>Kevin</td>\n",
       "      <td>Flaherty</td>\n",
       "      <td>NaN</td>\n",
       "      <td>Wetpaint</td>\n",
       "    </tr>\n",
       "    <tr>\n",
       "      <th>2</th>\n",
       "      <td>3</td>\n",
       "      <td>p:4</td>\n",
       "      <td>Raju</td>\n",
       "      <td>Vegesna</td>\n",
       "      <td>NaN</td>\n",
       "      <td>Zoho</td>\n",
       "    </tr>\n",
       "    <tr>\n",
       "      <th>3</th>\n",
       "      <td>4</td>\n",
       "      <td>p:5</td>\n",
       "      <td>Ian</td>\n",
       "      <td>Wenig</td>\n",
       "      <td>NaN</td>\n",
       "      <td>Zoho</td>\n",
       "    </tr>\n",
       "    <tr>\n",
       "      <th>4</th>\n",
       "      <td>5</td>\n",
       "      <td>p:6</td>\n",
       "      <td>Kevin</td>\n",
       "      <td>Rose</td>\n",
       "      <td>Redding, CA</td>\n",
       "      <td>i/o Ventures</td>\n",
       "    </tr>\n",
       "  </tbody>\n",
       "</table>\n",
       "</div>"
      ],
      "text/plain": [
       "   id object_id first_name last_name   birthplace affiliation_name\n",
       "0   1       p:2        Ben   Elowitz          NaN        Blue Nile\n",
       "1   2       p:3      Kevin  Flaherty          NaN         Wetpaint\n",
       "2   3       p:4       Raju   Vegesna          NaN             Zoho\n",
       "3   4       p:5        Ian     Wenig          NaN             Zoho\n",
       "4   5       p:6      Kevin      Rose  Redding, CA     i/o Ventures"
      ]
     },
     "execution_count": 6,
     "metadata": {},
     "output_type": "execute_result"
    }
   ],
   "source": [
    "# 看一眼创业者的数据有啥\n",
    "people.head()\n",
    "# 人的id，人的类型，名，姓，数据库中的链接，照片链接，facebook链接，推特链接，领英链接，所在城市，地区，国家，职称，所属组织（公司的母公司），链接"
   ]
  },
  {
   "cell_type": "code",
   "execution_count": 7,
   "metadata": {
    "ExecuteTime": {
     "end_time": "2021-05-23T14:11:38.443140Z",
     "start_time": "2021-05-23T14:11:38.429178Z"
    },
    "hidden": true
   },
   "outputs": [
    {
     "data": {
      "text/html": [
       "<div>\n",
       "<style scoped>\n",
       "    .dataframe tbody tr th:only-of-type {\n",
       "        vertical-align: middle;\n",
       "    }\n",
       "\n",
       "    .dataframe tbody tr th {\n",
       "        vertical-align: top;\n",
       "    }\n",
       "\n",
       "    .dataframe thead th {\n",
       "        text-align: right;\n",
       "    }\n",
       "</style>\n",
       "<table border=\"1\" class=\"dataframe\">\n",
       "  <thead>\n",
       "    <tr style=\"text-align: right;\">\n",
       "      <th></th>\n",
       "      <th>id</th>\n",
       "      <th>ipo_id</th>\n",
       "      <th>object_id</th>\n",
       "      <th>valuation_amount</th>\n",
       "      <th>valuation_currency_code</th>\n",
       "      <th>raised_amount</th>\n",
       "      <th>raised_currency_code</th>\n",
       "      <th>public_at</th>\n",
       "      <th>stock_symbol</th>\n",
       "      <th>source_url</th>\n",
       "      <th>source_description</th>\n",
       "      <th>created_at</th>\n",
       "      <th>updated_at</th>\n",
       "    </tr>\n",
       "  </thead>\n",
       "  <tbody>\n",
       "    <tr>\n",
       "      <th>0</th>\n",
       "      <td>1</td>\n",
       "      <td>1</td>\n",
       "      <td>c:1654</td>\n",
       "      <td>nan</td>\n",
       "      <td>USD</td>\n",
       "      <td>nan</td>\n",
       "      <td>USD</td>\n",
       "      <td>19/12/1980</td>\n",
       "      <td>NASDAQ:AAPL</td>\n",
       "      <td>NaN</td>\n",
       "      <td>NaN</td>\n",
       "      <td>9/2/2008 05:17:45</td>\n",
       "      <td>12/4/2012 04:02:59</td>\n",
       "    </tr>\n",
       "    <tr>\n",
       "      <th>1</th>\n",
       "      <td>2</td>\n",
       "      <td>2</td>\n",
       "      <td>c:1242</td>\n",
       "      <td>nan</td>\n",
       "      <td>USD</td>\n",
       "      <td>nan</td>\n",
       "      <td>NaN</td>\n",
       "      <td>13/3/1986</td>\n",
       "      <td>NASDAQ:MSFT</td>\n",
       "      <td>NaN</td>\n",
       "      <td>NaN</td>\n",
       "      <td>9/2/2008 05:25:18</td>\n",
       "      <td>11/12/2010 12:39:46</td>\n",
       "    </tr>\n",
       "    <tr>\n",
       "      <th>2</th>\n",
       "      <td>3</td>\n",
       "      <td>3</td>\n",
       "      <td>c:342</td>\n",
       "      <td>nan</td>\n",
       "      <td>USD</td>\n",
       "      <td>nan</td>\n",
       "      <td>NaN</td>\n",
       "      <td>9/6/1969</td>\n",
       "      <td>NYSE:DIS</td>\n",
       "      <td>NaN</td>\n",
       "      <td>NaN</td>\n",
       "      <td>9/2/2008 05:40:32</td>\n",
       "      <td>23/12/2010 08:58:16</td>\n",
       "    </tr>\n",
       "    <tr>\n",
       "      <th>3</th>\n",
       "      <td>4</td>\n",
       "      <td>4</td>\n",
       "      <td>c:59</td>\n",
       "      <td>nan</td>\n",
       "      <td>USD</td>\n",
       "      <td>nan</td>\n",
       "      <td>NaN</td>\n",
       "      <td>25/8/2004</td>\n",
       "      <td>NASDAQ:GOOG</td>\n",
       "      <td>NaN</td>\n",
       "      <td>NaN</td>\n",
       "      <td>10/2/2008 22:51:24</td>\n",
       "      <td>1/8/2011 20:47:08</td>\n",
       "    </tr>\n",
       "    <tr>\n",
       "      <th>4</th>\n",
       "      <td>5</td>\n",
       "      <td>5</td>\n",
       "      <td>c:317</td>\n",
       "      <td>100000000000.0000</td>\n",
       "      <td>USD</td>\n",
       "      <td>nan</td>\n",
       "      <td>NaN</td>\n",
       "      <td>1/5/1997</td>\n",
       "      <td>NASDAQ:AMZN</td>\n",
       "      <td>NaN</td>\n",
       "      <td>NaN</td>\n",
       "      <td>10/2/2008 23:28:09</td>\n",
       "      <td>1/8/2011 21:11:22</td>\n",
       "    </tr>\n",
       "  </tbody>\n",
       "</table>\n",
       "</div>"
      ],
      "text/plain": [
       "   id  ipo_id object_id  valuation_amount valuation_currency_code  \\\n",
       "0   1       1    c:1654               nan                     USD   \n",
       "1   2       2    c:1242               nan                     USD   \n",
       "2   3       3     c:342               nan                     USD   \n",
       "3   4       4      c:59               nan                     USD   \n",
       "4   5       5     c:317 100000000000.0000                     USD   \n",
       "\n",
       "   raised_amount raised_currency_code   public_at stock_symbol source_url  \\\n",
       "0            nan                  USD  19/12/1980  NASDAQ:AAPL        NaN   \n",
       "1            nan                  NaN   13/3/1986  NASDAQ:MSFT        NaN   \n",
       "2            nan                  NaN    9/6/1969     NYSE:DIS        NaN   \n",
       "3            nan                  NaN   25/8/2004  NASDAQ:GOOG        NaN   \n",
       "4            nan                  NaN    1/5/1997  NASDAQ:AMZN        NaN   \n",
       "\n",
       "  source_description          created_at           updated_at  \n",
       "0                NaN   9/2/2008 05:17:45   12/4/2012 04:02:59  \n",
       "1                NaN   9/2/2008 05:25:18  11/12/2010 12:39:46  \n",
       "2                NaN   9/2/2008 05:40:32  23/12/2010 08:58:16  \n",
       "3                NaN  10/2/2008 22:51:24    1/8/2011 20:47:08  \n",
       "4                NaN  10/2/2008 23:28:09    1/8/2011 21:11:22  "
      ]
     },
     "execution_count": 7,
     "metadata": {},
     "output_type": "execute_result"
    }
   ],
   "source": [
    "ipoInfo.head()"
   ]
  },
  {
   "cell_type": "code",
   "execution_count": 8,
   "metadata": {
    "ExecuteTime": {
     "end_time": "2021-05-23T14:11:38.459098Z",
     "start_time": "2021-05-23T14:11:38.446133Z"
    },
    "hidden": true
   },
   "outputs": [
    {
     "data": {
      "text/html": [
       "<div>\n",
       "<style scoped>\n",
       "    .dataframe tbody tr th:only-of-type {\n",
       "        vertical-align: middle;\n",
       "    }\n",
       "\n",
       "    .dataframe tbody tr th {\n",
       "        vertical-align: top;\n",
       "    }\n",
       "\n",
       "    .dataframe thead th {\n",
       "        text-align: right;\n",
       "    }\n",
       "</style>\n",
       "<table border=\"1\" class=\"dataframe\">\n",
       "  <thead>\n",
       "    <tr style=\"text-align: right;\">\n",
       "      <th></th>\n",
       "      <th>id</th>\n",
       "      <th>acquisition_id</th>\n",
       "      <th>acquiring_object_id</th>\n",
       "      <th>acquired_object_id</th>\n",
       "      <th>term_code</th>\n",
       "      <th>price_amount</th>\n",
       "      <th>price_currency_code</th>\n",
       "      <th>acquired_at</th>\n",
       "      <th>source_url</th>\n",
       "      <th>source_description</th>\n",
       "      <th>created_at</th>\n",
       "      <th>updated_at</th>\n",
       "    </tr>\n",
       "  </thead>\n",
       "  <tbody>\n",
       "    <tr>\n",
       "      <th>0</th>\n",
       "      <td>1</td>\n",
       "      <td>1</td>\n",
       "      <td>c:11</td>\n",
       "      <td>c:10</td>\n",
       "      <td>NaN</td>\n",
       "      <td>20000000.0000</td>\n",
       "      <td>USD</td>\n",
       "      <td>30/5/2007</td>\n",
       "      <td>http://venturebeat.com/2007/05/30/fox-interact...</td>\n",
       "      <td>Fox Interactive confirms purchase of Photobuck...</td>\n",
       "      <td>31/5/2007 22:19:54</td>\n",
       "      <td>21/5/2008 19:23:44</td>\n",
       "    </tr>\n",
       "    <tr>\n",
       "      <th>1</th>\n",
       "      <td>2</td>\n",
       "      <td>7</td>\n",
       "      <td>c:59</td>\n",
       "      <td>c:72</td>\n",
       "      <td>cash</td>\n",
       "      <td>60000000.0000</td>\n",
       "      <td>USD</td>\n",
       "      <td>1/7/2007</td>\n",
       "      <td>http://www.techcrunch.com/2007/07/02/deal-is-c...</td>\n",
       "      <td>Deal is Confirmed: Google Acquired GrandCentral</td>\n",
       "      <td>3/7/2007 08:14:50</td>\n",
       "      <td>6/5/2011 21:51:05</td>\n",
       "    </tr>\n",
       "    <tr>\n",
       "      <th>2</th>\n",
       "      <td>3</td>\n",
       "      <td>8</td>\n",
       "      <td>c:24</td>\n",
       "      <td>c:132</td>\n",
       "      <td>cash</td>\n",
       "      <td>280000000.0000</td>\n",
       "      <td>USD</td>\n",
       "      <td>1/5/2007</td>\n",
       "      <td>http://www.techcrunch.com/2007/05/30/cbs-acqui...</td>\n",
       "      <td>CBS Acquires Europe’s Last.fm for $280 million</td>\n",
       "      <td>12/7/2007 04:19:24</td>\n",
       "      <td>19/5/2008 04:48:50</td>\n",
       "    </tr>\n",
       "    <tr>\n",
       "      <th>3</th>\n",
       "      <td>4</td>\n",
       "      <td>9</td>\n",
       "      <td>c:59</td>\n",
       "      <td>c:155</td>\n",
       "      <td>cash</td>\n",
       "      <td>100000000.0000</td>\n",
       "      <td>USD</td>\n",
       "      <td>1/6/2007</td>\n",
       "      <td>http://techcrunch.com/2007/05/23/100-million-p...</td>\n",
       "      <td>$100 Million Payday For Feedburner ? This Deal...</td>\n",
       "      <td>13/7/2007 09:52:59</td>\n",
       "      <td>5/6/2012 03:22:17</td>\n",
       "    </tr>\n",
       "    <tr>\n",
       "      <th>4</th>\n",
       "      <td>5</td>\n",
       "      <td>10</td>\n",
       "      <td>c:212</td>\n",
       "      <td>c:215</td>\n",
       "      <td>cash</td>\n",
       "      <td>25000000.0000</td>\n",
       "      <td>USD</td>\n",
       "      <td>1/7/2007</td>\n",
       "      <td>http://blog.seattlepi.nwsource.com/venture/arc...</td>\n",
       "      <td>seatlepi.com</td>\n",
       "      <td>20/7/2007 05:29:07</td>\n",
       "      <td>25/2/2008 00:23:47</td>\n",
       "    </tr>\n",
       "  </tbody>\n",
       "</table>\n",
       "</div>"
      ],
      "text/plain": [
       "   id  acquisition_id acquiring_object_id acquired_object_id term_code  \\\n",
       "0   1               1                c:11               c:10       NaN   \n",
       "1   2               7                c:59               c:72      cash   \n",
       "2   3               8                c:24              c:132      cash   \n",
       "3   4               9                c:59              c:155      cash   \n",
       "4   5              10               c:212              c:215      cash   \n",
       "\n",
       "    price_amount price_currency_code acquired_at  \\\n",
       "0  20000000.0000                 USD   30/5/2007   \n",
       "1  60000000.0000                 USD    1/7/2007   \n",
       "2 280000000.0000                 USD    1/5/2007   \n",
       "3 100000000.0000                 USD    1/6/2007   \n",
       "4  25000000.0000                 USD    1/7/2007   \n",
       "\n",
       "                                          source_url  \\\n",
       "0  http://venturebeat.com/2007/05/30/fox-interact...   \n",
       "1  http://www.techcrunch.com/2007/07/02/deal-is-c...   \n",
       "2  http://www.techcrunch.com/2007/05/30/cbs-acqui...   \n",
       "3  http://techcrunch.com/2007/05/23/100-million-p...   \n",
       "4  http://blog.seattlepi.nwsource.com/venture/arc...   \n",
       "\n",
       "                                  source_description          created_at  \\\n",
       "0  Fox Interactive confirms purchase of Photobuck...  31/5/2007 22:19:54   \n",
       "1    Deal is Confirmed: Google Acquired GrandCentral   3/7/2007 08:14:50   \n",
       "2     CBS Acquires Europe’s Last.fm for $280 million  12/7/2007 04:19:24   \n",
       "3  $100 Million Payday For Feedburner ? This Deal...  13/7/2007 09:52:59   \n",
       "4                                       seatlepi.com  20/7/2007 05:29:07   \n",
       "\n",
       "           updated_at  \n",
       "0  21/5/2008 19:23:44  \n",
       "1   6/5/2011 21:51:05  \n",
       "2  19/5/2008 04:48:50  \n",
       "3   5/6/2012 03:22:17  \n",
       "4  25/2/2008 00:23:47  "
      ]
     },
     "execution_count": 8,
     "metadata": {},
     "output_type": "execute_result"
    }
   ],
   "source": [
    "acquisitionsInfo.head()"
   ]
  },
  {
   "cell_type": "code",
   "execution_count": 9,
   "metadata": {
    "ExecuteTime": {
     "end_time": "2021-05-23T14:11:38.474058Z",
     "start_time": "2021-05-23T14:11:38.460095Z"
    },
    "hidden": true
   },
   "outputs": [
    {
     "data": {
      "text/html": [
       "<div>\n",
       "<style scoped>\n",
       "    .dataframe tbody tr th:only-of-type {\n",
       "        vertical-align: middle;\n",
       "    }\n",
       "\n",
       "    .dataframe tbody tr th {\n",
       "        vertical-align: top;\n",
       "    }\n",
       "\n",
       "    .dataframe thead th {\n",
       "        text-align: right;\n",
       "    }\n",
       "</style>\n",
       "<table border=\"1\" class=\"dataframe\">\n",
       "  <thead>\n",
       "    <tr style=\"text-align: right;\">\n",
       "      <th></th>\n",
       "      <th>id</th>\n",
       "      <th>object_id</th>\n",
       "      <th>degree_type</th>\n",
       "      <th>subject</th>\n",
       "      <th>institution</th>\n",
       "      <th>graduated_at</th>\n",
       "      <th>created_at</th>\n",
       "      <th>updated_at</th>\n",
       "    </tr>\n",
       "  </thead>\n",
       "  <tbody>\n",
       "    <tr>\n",
       "      <th>0</th>\n",
       "      <td>1</td>\n",
       "      <td>p:6117</td>\n",
       "      <td>MBA</td>\n",
       "      <td>NaN</td>\n",
       "      <td>NaN</td>\n",
       "      <td>NaN</td>\n",
       "      <td>19/2/2008 03:17:36</td>\n",
       "      <td>19/2/2008 03:17:36</td>\n",
       "    </tr>\n",
       "    <tr>\n",
       "      <th>1</th>\n",
       "      <td>2</td>\n",
       "      <td>p:6136</td>\n",
       "      <td>BA</td>\n",
       "      <td>English, French</td>\n",
       "      <td>Washington University, St. Louis</td>\n",
       "      <td>1/1/1990</td>\n",
       "      <td>19/2/2008 17:58:31</td>\n",
       "      <td>25/2/2008 00:23:55</td>\n",
       "    </tr>\n",
       "    <tr>\n",
       "      <th>2</th>\n",
       "      <td>3</td>\n",
       "      <td>p:6136</td>\n",
       "      <td>MS</td>\n",
       "      <td>Mass Communication</td>\n",
       "      <td>Boston University</td>\n",
       "      <td>1/1/1992</td>\n",
       "      <td>19/2/2008 17:58:31</td>\n",
       "      <td>25/2/2008 00:23:55</td>\n",
       "    </tr>\n",
       "    <tr>\n",
       "      <th>3</th>\n",
       "      <td>4</td>\n",
       "      <td>p:6005</td>\n",
       "      <td>MS</td>\n",
       "      <td>Internet Technology</td>\n",
       "      <td>University of Greenwich</td>\n",
       "      <td>1/1/2006</td>\n",
       "      <td>19/2/2008 23:40:40</td>\n",
       "      <td>25/2/2008 00:23:55</td>\n",
       "    </tr>\n",
       "    <tr>\n",
       "      <th>4</th>\n",
       "      <td>5</td>\n",
       "      <td>p:5832</td>\n",
       "      <td>BCS</td>\n",
       "      <td>Computer Science, Psychology</td>\n",
       "      <td>Rice University</td>\n",
       "      <td>NaN</td>\n",
       "      <td>20/2/2008 05:28:09</td>\n",
       "      <td>20/2/2008 05:28:09</td>\n",
       "    </tr>\n",
       "  </tbody>\n",
       "</table>\n",
       "</div>"
      ],
      "text/plain": [
       "   id object_id degree_type                       subject  \\\n",
       "0   1    p:6117         MBA                           NaN   \n",
       "1   2    p:6136          BA               English, French   \n",
       "2   3    p:6136          MS            Mass Communication   \n",
       "3   4    p:6005          MS           Internet Technology   \n",
       "4   5    p:5832         BCS  Computer Science, Psychology   \n",
       "\n",
       "                        institution graduated_at          created_at  \\\n",
       "0                               NaN          NaN  19/2/2008 03:17:36   \n",
       "1  Washington University, St. Louis     1/1/1990  19/2/2008 17:58:31   \n",
       "2                 Boston University     1/1/1992  19/2/2008 17:58:31   \n",
       "3           University of Greenwich     1/1/2006  19/2/2008 23:40:40   \n",
       "4                   Rice University          NaN  20/2/2008 05:28:09   \n",
       "\n",
       "           updated_at  \n",
       "0  19/2/2008 03:17:36  \n",
       "1  25/2/2008 00:23:55  \n",
       "2  25/2/2008 00:23:55  \n",
       "3  25/2/2008 00:23:55  \n",
       "4  20/2/2008 05:28:09  "
      ]
     },
     "execution_count": 9,
     "metadata": {},
     "output_type": "execute_result"
    }
   ],
   "source": [
    "degreesInfo.head()"
   ]
  },
  {
   "cell_type": "markdown",
   "metadata": {
    "heading_collapsed": true
   },
   "source": [
    "# 数据处理"
   ]
  },
  {
   "cell_type": "markdown",
   "metadata": {
    "heading_collapsed": true,
    "hidden": true
   },
   "source": [
    "## 洗公司数据"
   ]
  },
  {
   "cell_type": "code",
   "execution_count": 10,
   "metadata": {
    "ExecuteTime": {
     "end_time": "2021-05-23T14:11:38.490015Z",
     "start_time": "2021-05-23T14:11:38.475066Z"
    },
    "code_folding": [],
    "hidden": true
   },
   "outputs": [],
   "source": [
    "# 重建一个索引\n",
    "crunchbase.reset_index(inplace=True)"
   ]
  },
  {
   "cell_type": "code",
   "execution_count": 11,
   "metadata": {
    "ExecuteTime": {
     "end_time": "2021-05-23T14:11:38.925850Z",
     "start_time": "2021-05-23T14:11:38.491013Z"
    },
    "code_folding": [],
    "hidden": true
   },
   "outputs": [],
   "source": [
    "# 挑选出我们可能用到的公司数据\n",
    "crunchbase=crunchbase.loc[crunchbase[\"entity_type\"]==\"Company\"]\n",
    "crunchbase=crunchbase.drop([\"entity_type\", \n",
    "                 \"entity_id\",\n",
    "                 \"parent_id\",\n",
    "                 \"normalized_name\",\n",
    "                 \"permalink\",\n",
    "                 \"closed_at\", \n",
    "                 \"domain\" ,\n",
    "                 \"homepage_url\",\n",
    "                 \"twitter_username\",\n",
    "                 \"logo_url\",\n",
    "                 \"logo_width\",\n",
    "                 \"logo_height\",\n",
    "                 \"short_description\",\n",
    "                 \"description\",\n",
    "                 \"overview\",\n",
    "                 \"tag_list\",\n",
    "                 \"state_code\",\n",
    "                 \"region\",\n",
    "                 \"first_investment_at\",\n",
    "                 \"last_investment_at\",\n",
    "                 \"investment_rounds\",\n",
    "                 \"invested_companies\",\n",
    "                 \"first_funding_at\",\n",
    "                 \"last_funding_at\", \n",
    "                 \"first_milestone_at\",\n",
    "                 \"last_milestone_at\", \n",
    "                 \"milestones\",\n",
    "                 \"created_by\",\n",
    "                 \"created_at\",\n",
    "                 \"updated_at\"], axis=1)"
   ]
  },
  {
   "cell_type": "code",
   "execution_count": 12,
   "metadata": {
    "ExecuteTime": {
     "end_time": "2021-05-23T14:11:38.941807Z",
     "start_time": "2021-05-23T14:11:38.926847Z"
    },
    "hidden": true
   },
   "outputs": [
    {
     "data": {
      "text/html": [
       "<div>\n",
       "<style scoped>\n",
       "    .dataframe tbody tr th:only-of-type {\n",
       "        vertical-align: middle;\n",
       "    }\n",
       "\n",
       "    .dataframe tbody tr th {\n",
       "        vertical-align: top;\n",
       "    }\n",
       "\n",
       "    .dataframe thead th {\n",
       "        text-align: right;\n",
       "    }\n",
       "</style>\n",
       "<table border=\"1\" class=\"dataframe\">\n",
       "  <thead>\n",
       "    <tr style=\"text-align: right;\">\n",
       "      <th></th>\n",
       "      <th>id</th>\n",
       "      <th>name</th>\n",
       "      <th>category_code</th>\n",
       "      <th>status</th>\n",
       "      <th>founded_at</th>\n",
       "      <th>country_code</th>\n",
       "      <th>city</th>\n",
       "      <th>funding_rounds</th>\n",
       "      <th>funding_total_usd</th>\n",
       "      <th>relationships</th>\n",
       "    </tr>\n",
       "  </thead>\n",
       "  <tbody>\n",
       "    <tr>\n",
       "      <th>0</th>\n",
       "      <td>c:1</td>\n",
       "      <td>Wetpaint</td>\n",
       "      <td>web</td>\n",
       "      <td>operating</td>\n",
       "      <td>17/10/2005</td>\n",
       "      <td>USA</td>\n",
       "      <td>Seattle</td>\n",
       "      <td>3.0000</td>\n",
       "      <td>39750000.0000</td>\n",
       "      <td>17.0000</td>\n",
       "    </tr>\n",
       "    <tr>\n",
       "      <th>1</th>\n",
       "      <td>c:10</td>\n",
       "      <td>Flektor</td>\n",
       "      <td>games_video</td>\n",
       "      <td>acquired</td>\n",
       "      <td>NaN</td>\n",
       "      <td>USA</td>\n",
       "      <td>Culver City</td>\n",
       "      <td>nan</td>\n",
       "      <td>nan</td>\n",
       "      <td>6.0000</td>\n",
       "    </tr>\n",
       "    <tr>\n",
       "      <th>2</th>\n",
       "      <td>c:100</td>\n",
       "      <td>There</td>\n",
       "      <td>games_video</td>\n",
       "      <td>acquired</td>\n",
       "      <td>NaN</td>\n",
       "      <td>USA</td>\n",
       "      <td>San Mateo</td>\n",
       "      <td>nan</td>\n",
       "      <td>nan</td>\n",
       "      <td>12.0000</td>\n",
       "    </tr>\n",
       "    <tr>\n",
       "      <th>3</th>\n",
       "      <td>c:10000</td>\n",
       "      <td>MYWEBBO</td>\n",
       "      <td>network_hosting</td>\n",
       "      <td>operating</td>\n",
       "      <td>26/7/2008</td>\n",
       "      <td>NaN</td>\n",
       "      <td>NaN</td>\n",
       "      <td>nan</td>\n",
       "      <td>nan</td>\n",
       "      <td>nan</td>\n",
       "    </tr>\n",
       "    <tr>\n",
       "      <th>4</th>\n",
       "      <td>c:10001</td>\n",
       "      <td>THE Movie Streamer</td>\n",
       "      <td>games_video</td>\n",
       "      <td>operating</td>\n",
       "      <td>26/7/2008</td>\n",
       "      <td>NaN</td>\n",
       "      <td>NaN</td>\n",
       "      <td>nan</td>\n",
       "      <td>nan</td>\n",
       "      <td>nan</td>\n",
       "    </tr>\n",
       "  </tbody>\n",
       "</table>\n",
       "</div>"
      ],
      "text/plain": [
       "        id                name    category_code     status  founded_at  \\\n",
       "0      c:1            Wetpaint              web  operating  17/10/2005   \n",
       "1     c:10             Flektor      games_video   acquired         NaN   \n",
       "2    c:100               There      games_video   acquired         NaN   \n",
       "3  c:10000             MYWEBBO  network_hosting  operating   26/7/2008   \n",
       "4  c:10001  THE Movie Streamer      games_video  operating   26/7/2008   \n",
       "\n",
       "  country_code         city  funding_rounds  funding_total_usd  relationships  \n",
       "0          USA      Seattle          3.0000      39750000.0000        17.0000  \n",
       "1          USA  Culver City             nan                nan         6.0000  \n",
       "2          USA    San Mateo             nan                nan        12.0000  \n",
       "3          NaN          NaN             nan                nan            nan  \n",
       "4          NaN          NaN             nan                nan            nan  "
      ]
     },
     "execution_count": 12,
     "metadata": {},
     "output_type": "execute_result"
    }
   ],
   "source": [
    "crunchbase.head()"
   ]
  },
  {
   "cell_type": "code",
   "execution_count": 13,
   "metadata": {
    "ExecuteTime": {
     "end_time": "2021-05-23T14:11:38.956768Z",
     "start_time": "2021-05-23T14:11:38.942804Z"
    },
    "code_folding": [],
    "hidden": true
   },
   "outputs": [
    {
     "data": {
      "text/plain": [
       "(196553, 10)"
      ]
     },
     "execution_count": 13,
     "metadata": {},
     "output_type": "execute_result"
    }
   ],
   "source": [
    "crunchbase.shape"
   ]
  },
  {
   "cell_type": "code",
   "execution_count": 14,
   "metadata": {
    "ExecuteTime": {
     "end_time": "2021-05-23T14:11:38.987684Z",
     "start_time": "2021-05-23T14:11:38.957764Z"
    },
    "code_folding": [],
    "hidden": true
   },
   "outputs": [],
   "source": [
    "# 针对代码进行一些列名替换\n",
    "crunchbase=crunchbase.rename(columns={'category_code':'market'})"
   ]
  },
  {
   "cell_type": "code",
   "execution_count": 15,
   "metadata": {
    "ExecuteTime": {
     "end_time": "2021-05-23T14:11:39.002644Z",
     "start_time": "2021-05-23T14:11:38.988681Z"
    },
    "code_folding": [],
    "hidden": true
   },
   "outputs": [],
   "source": [
    "# # 把轮数中非数字删掉，空值保留（如果没有非数字类型则会报错）\n",
    "# crunchbase.drop(crunchbase[~crunchbase.funding_rounds.str.match('^[0-9]+$',na=True)].index,inplace=True)"
   ]
  },
  {
   "cell_type": "code",
   "execution_count": 16,
   "metadata": {
    "ExecuteTime": {
     "end_time": "2021-05-23T14:11:39.017605Z",
     "start_time": "2021-05-23T14:11:39.003642Z"
    },
    "hidden": true
   },
   "outputs": [],
   "source": [
    "# # 把关系数中非数字删掉，空值保留\n",
    "# crunchbase.drop(crunchbase[~crunchbase.relationships.str.match('^[0-9]+$',na=True)].index,inplace=True)"
   ]
  },
  {
   "cell_type": "code",
   "execution_count": 17,
   "metadata": {
    "ExecuteTime": {
     "end_time": "2021-05-23T14:11:39.062484Z",
     "start_time": "2021-05-23T14:11:39.018602Z"
    },
    "code_folding": [],
    "hidden": true
   },
   "outputs": [],
   "source": [
    "# 把总资金中非数字删掉，空值赋0\n",
    "crunchbase['funding_total_usd']=crunchbase['funding_total_usd'].fillna('0')\n",
    "# crunchbase.drop(crunchbase[~crunchbase.funding_total_usd.str.match('^[0-9]+$')].index,inplace=True)\n",
    "crunchbase['funding_total_usd'] = crunchbase['funding_total_usd'].astype(float)"
   ]
  },
  {
   "cell_type": "code",
   "execution_count": 18,
   "metadata": {
    "ExecuteTime": {
     "end_time": "2021-05-23T14:11:39.252975Z",
     "start_time": "2021-05-23T14:11:39.063481Z"
    },
    "code_folding": [],
    "hidden": true
   },
   "outputs": [],
   "source": [
    "# 把日期中的其他东西删掉，空值赋0\n",
    "crunchbase['founded_at']=crunchbase['founded_at'].fillna('0/0/0')\n",
    "crunchbase.drop(crunchbase[~crunchbase.founded_at.str.match('\\d+\\/+\\d+\\/+\\d',na=True)].index,inplace=True)"
   ]
  },
  {
   "cell_type": "code",
   "execution_count": 19,
   "metadata": {
    "ExecuteTime": {
     "end_time": "2021-05-23T14:11:39.268932Z",
     "start_time": "2021-05-23T14:11:39.253972Z"
    },
    "code_folding": [],
    "hidden": true
   },
   "outputs": [],
   "source": [
    "# 把投资轮数中非数字删掉\n",
    "# crunchbase.drop(crunchbase[~crunchbase.funding_rounds.str.match('^[0-9]+$',na=True)].index,inplace=True)\n",
    "# crunchbase['funding_rounds'] = crunchbase['funding_rounds'].astype(float)"
   ]
  },
  {
   "cell_type": "code",
   "execution_count": 20,
   "metadata": {
    "ExecuteTime": {
     "end_time": "2021-05-23T14:11:39.919193Z",
     "start_time": "2021-05-23T14:11:39.269931Z"
    },
    "code_folding": [],
    "hidden": true
   },
   "outputs": [],
   "source": [
    "# 提取日期中的年份信息，！！请不要修改，套娃套太多了，看不懂的\n",
    "crunchbase['founded_year']=np.array(crunchbase[crunchbase.founded_at.str.match('\\d+\\/+\\d+\\/+\\d',na=False)].founded_at.str.split('/').values.tolist())[:,2]\n",
    "# 删掉0\n",
    "crunchbase['founded_year'].str.strip('^0$')\n",
    "crunchbase['founded_year'] = crunchbase['founded_year'].astype(float)\n",
    "# 帮助理解这块代码的一些参数\n",
    "# crunchbase.founded_at.str.match('\\d+\\/+\\d+\\/+\\d',na=False)\n",
    "# crunchbase[crunchbase.founded_at.str.match('\\d+\\/+\\d+\\/+\\d',na=False)]\n",
    "# crunchbase[crunchbase.founded_at.str.match('\\d+\\/+\\d+\\/+\\d',na=False)].founded_at.str.split('/')\n",
    "# crunchbase[crunchbase.founded_at.str.match('\\d+\\/+\\d+\\/+\\d',na=False)].founded_at.str.split('/').values\n",
    "# crunchbase[crunchbase.founded_at.str.match('\\d+\\/+\\d+\\/+\\d',na=False)].founded_at.str.split('/').values.tolist()\n",
    "# np.array(crunchbase[crunchbase.founded_at.str.match('\\d+\\/+\\d+\\/+\\d',na=False)].founded_at.str.split('/').values.tolist())\n",
    "# np.array(crunchbase[crunchbase.founded_at.str.match('\\d+\\/+\\d+\\/+\\d',na=False)].founded_at.str.split('/').values.tolist())[:,2]"
   ]
  },
  {
   "cell_type": "code",
   "execution_count": 21,
   "metadata": {
    "ExecuteTime": {
     "end_time": "2021-05-23T14:11:39.950111Z",
     "start_time": "2021-05-23T14:11:39.920192Z"
    },
    "code_folding": [],
    "hidden": true
   },
   "outputs": [],
   "source": [
    "# 把原本企业创建日期删掉\n",
    "crunchbase=crunchbase.drop(\"founded_at\",axis=1)"
   ]
  },
  {
   "cell_type": "code",
   "execution_count": 22,
   "metadata": {
    "ExecuteTime": {
     "end_time": "2021-05-23T14:11:39.966068Z",
     "start_time": "2021-05-23T14:11:39.952105Z"
    },
    "hidden": true
   },
   "outputs": [
    {
     "data": {
      "text/plain": [
       "(196553, 10)"
      ]
     },
     "execution_count": 22,
     "metadata": {},
     "output_type": "execute_result"
    }
   ],
   "source": [
    "crunchbase.shape"
   ]
  },
  {
   "cell_type": "markdown",
   "metadata": {
    "heading_collapsed": true,
    "hidden": true
   },
   "source": [
    "## 洗创始人信息"
   ]
  },
  {
   "cell_type": "code",
   "execution_count": 23,
   "metadata": {
    "ExecuteTime": {
     "end_time": "2021-05-23T14:11:40.074778Z",
     "start_time": "2021-05-23T14:11:39.969060Z"
    },
    "hidden": true
   },
   "outputs": [],
   "source": [
    "people=people[[\"object_id\",\"affiliation_name\"]]\n",
    "people=people.dropna(axis=0,subset = [\"object_id\",\"affiliation_name\"])\n",
    "people=people.drop_duplicates(subset='object_id')"
   ]
  },
  {
   "cell_type": "markdown",
   "metadata": {
    "heading_collapsed": true,
    "hidden": true
   },
   "source": [
    "## 洗IPO数据"
   ]
  },
  {
   "cell_type": "code",
   "execution_count": 24,
   "metadata": {
    "ExecuteTime": {
     "end_time": "2021-05-23T14:11:40.090735Z",
     "start_time": "2021-05-23T14:11:40.076773Z"
    },
    "hidden": true
   },
   "outputs": [],
   "source": [
    "ipoInfo=ipoInfo[[\"object_id\",\"public_at\"]]\n",
    "ipoInfo=ipoInfo.dropna(axis=0,subset = [\"object_id\",\"public_at\"])\n",
    "ipoInfo=ipoInfo.drop_duplicates(subset='object_id')\n",
    "ipoInfo['public_at']=np.array(ipoInfo[ipoInfo.public_at.str.match('\\d+\\/+\\d+\\/+\\d',na=False)].public_at.str.split('/').values.tolist())[:,2]\n",
    "ipoInfo['public_at'].str.strip('^0$')\n",
    "ipoInfo['public_at'] = ipoInfo['public_at'].astype(float)"
   ]
  },
  {
   "cell_type": "markdown",
   "metadata": {
    "heading_collapsed": true,
    "hidden": true
   },
   "source": [
    "## 洗收购信息"
   ]
  },
  {
   "cell_type": "code",
   "execution_count": 25,
   "metadata": {
    "ExecuteTime": {
     "end_time": "2021-05-23T14:11:40.135614Z",
     "start_time": "2021-05-23T14:11:40.091733Z"
    },
    "hidden": true
   },
   "outputs": [],
   "source": [
    "acquisitionsInfo=acquisitionsInfo[[\"acquired_object_id\",\"acquired_at\"]]\n",
    "acquisitionsInfo=acquisitionsInfo.dropna(axis=0,subset = [\"acquired_object_id\",\"acquired_at\"])\n",
    "acquisitionsInfo=acquisitionsInfo.drop_duplicates(subset='acquired_object_id')\n",
    "acquisitionsInfo['acquired_at']=np.array(acquisitionsInfo[acquisitionsInfo.acquired_at.str.match('\\d+\\/+\\d+\\/+\\d',na=False)].acquired_at.str.split('/').values.tolist())[:,2]\n",
    "acquisitionsInfo['acquired_at'].str.strip('^0$')\n",
    "acquisitionsInfo['acquired_at'] = acquisitionsInfo['acquired_at'].astype(float)"
   ]
  },
  {
   "cell_type": "markdown",
   "metadata": {
    "heading_collapsed": true,
    "hidden": true
   },
   "source": [
    "## 洗学位信息"
   ]
  },
  {
   "cell_type": "code",
   "execution_count": 26,
   "metadata": {
    "ExecuteTime": {
     "end_time": "2021-05-23T14:11:40.199473Z",
     "start_time": "2021-05-23T14:11:40.136612Z"
    },
    "hidden": true
   },
   "outputs": [],
   "source": [
    "degreesInfo=degreesInfo[[\"object_id\",\"degree_type\"]]\n",
    "degreesInfo=degreesInfo.dropna(axis=0,subset = [\"object_id\",\"degree_type\"])\n",
    "degreesInfo=degreesInfo.drop_duplicates(subset='object_id')\n",
    "degreesInfo['degree_type'][(degreesInfo['degree_type']!='BS')\n",
    "                           & (degreesInfo['degree_type']!='MBA')\n",
    "                           &(degreesInfo['degree_type']!='BA')\n",
    "                           &(degreesInfo['degree_type']!='MS')\n",
    "                           &(degreesInfo['degree_type']!='PhD')]='unknown'"
   ]
  },
  {
   "cell_type": "code",
   "execution_count": 27,
   "metadata": {
    "ExecuteTime": {
     "end_time": "2021-05-23T14:11:40.215402Z",
     "start_time": "2021-05-23T14:11:40.201439Z"
    },
    "hidden": true
   },
   "outputs": [
    {
     "data": {
      "text/html": [
       "<div>\n",
       "<style scoped>\n",
       "    .dataframe tbody tr th:only-of-type {\n",
       "        vertical-align: middle;\n",
       "    }\n",
       "\n",
       "    .dataframe tbody tr th {\n",
       "        vertical-align: top;\n",
       "    }\n",
       "\n",
       "    .dataframe thead th {\n",
       "        text-align: right;\n",
       "    }\n",
       "</style>\n",
       "<table border=\"1\" class=\"dataframe\">\n",
       "  <thead>\n",
       "    <tr style=\"text-align: right;\">\n",
       "      <th></th>\n",
       "      <th>object_id</th>\n",
       "      <th>degree_type</th>\n",
       "    </tr>\n",
       "  </thead>\n",
       "  <tbody>\n",
       "    <tr>\n",
       "      <th>0</th>\n",
       "      <td>p:6117</td>\n",
       "      <td>MBA</td>\n",
       "    </tr>\n",
       "    <tr>\n",
       "      <th>1</th>\n",
       "      <td>p:6136</td>\n",
       "      <td>BA</td>\n",
       "    </tr>\n",
       "    <tr>\n",
       "      <th>3</th>\n",
       "      <td>p:6005</td>\n",
       "      <td>MS</td>\n",
       "    </tr>\n",
       "    <tr>\n",
       "      <th>4</th>\n",
       "      <td>p:5832</td>\n",
       "      <td>unknown</td>\n",
       "    </tr>\n",
       "    <tr>\n",
       "      <th>5</th>\n",
       "      <td>p:1017</td>\n",
       "      <td>BS</td>\n",
       "    </tr>\n",
       "  </tbody>\n",
       "</table>\n",
       "</div>"
      ],
      "text/plain": [
       "  object_id degree_type\n",
       "0    p:6117         MBA\n",
       "1    p:6136          BA\n",
       "3    p:6005          MS\n",
       "4    p:5832     unknown\n",
       "5    p:1017          BS"
      ]
     },
     "execution_count": 27,
     "metadata": {},
     "output_type": "execute_result"
    }
   ],
   "source": [
    "degreesInfo.head()"
   ]
  },
  {
   "cell_type": "code",
   "execution_count": 28,
   "metadata": {
    "ExecuteTime": {
     "end_time": "2021-05-23T14:11:40.230361Z",
     "start_time": "2021-05-23T14:11:40.216399Z"
    },
    "hidden": true
   },
   "outputs": [],
   "source": [
    "degreesInfoOnehot = pd.get_dummies(degreesInfo['degree_type'])\n",
    "degreesInfo=pd.merge(degreesInfo,degreesInfoOnehot,left_index= True ,right_index= True)\n",
    "degreesInfo=degreesInfo.drop('degree_type',axis=1)"
   ]
  },
  {
   "cell_type": "code",
   "execution_count": 29,
   "metadata": {
    "ExecuteTime": {
     "end_time": "2021-05-23T14:11:40.245322Z",
     "start_time": "2021-05-23T14:11:40.231359Z"
    },
    "hidden": true
   },
   "outputs": [
    {
     "data": {
      "text/html": [
       "<div>\n",
       "<style scoped>\n",
       "    .dataframe tbody tr th:only-of-type {\n",
       "        vertical-align: middle;\n",
       "    }\n",
       "\n",
       "    .dataframe tbody tr th {\n",
       "        vertical-align: top;\n",
       "    }\n",
       "\n",
       "    .dataframe thead th {\n",
       "        text-align: right;\n",
       "    }\n",
       "</style>\n",
       "<table border=\"1\" class=\"dataframe\">\n",
       "  <thead>\n",
       "    <tr style=\"text-align: right;\">\n",
       "      <th></th>\n",
       "      <th>object_id</th>\n",
       "      <th>BA</th>\n",
       "      <th>BS</th>\n",
       "      <th>MBA</th>\n",
       "      <th>MS</th>\n",
       "      <th>PhD</th>\n",
       "      <th>unknown</th>\n",
       "    </tr>\n",
       "  </thead>\n",
       "  <tbody>\n",
       "    <tr>\n",
       "      <th>0</th>\n",
       "      <td>p:6117</td>\n",
       "      <td>0</td>\n",
       "      <td>0</td>\n",
       "      <td>1</td>\n",
       "      <td>0</td>\n",
       "      <td>0</td>\n",
       "      <td>0</td>\n",
       "    </tr>\n",
       "    <tr>\n",
       "      <th>1</th>\n",
       "      <td>p:6136</td>\n",
       "      <td>1</td>\n",
       "      <td>0</td>\n",
       "      <td>0</td>\n",
       "      <td>0</td>\n",
       "      <td>0</td>\n",
       "      <td>0</td>\n",
       "    </tr>\n",
       "    <tr>\n",
       "      <th>3</th>\n",
       "      <td>p:6005</td>\n",
       "      <td>0</td>\n",
       "      <td>0</td>\n",
       "      <td>0</td>\n",
       "      <td>1</td>\n",
       "      <td>0</td>\n",
       "      <td>0</td>\n",
       "    </tr>\n",
       "    <tr>\n",
       "      <th>4</th>\n",
       "      <td>p:5832</td>\n",
       "      <td>0</td>\n",
       "      <td>0</td>\n",
       "      <td>0</td>\n",
       "      <td>0</td>\n",
       "      <td>0</td>\n",
       "      <td>1</td>\n",
       "    </tr>\n",
       "    <tr>\n",
       "      <th>5</th>\n",
       "      <td>p:1017</td>\n",
       "      <td>0</td>\n",
       "      <td>1</td>\n",
       "      <td>0</td>\n",
       "      <td>0</td>\n",
       "      <td>0</td>\n",
       "      <td>0</td>\n",
       "    </tr>\n",
       "  </tbody>\n",
       "</table>\n",
       "</div>"
      ],
      "text/plain": [
       "  object_id  BA  BS  MBA  MS  PhD  unknown\n",
       "0    p:6117   0   0    1   0    0        0\n",
       "1    p:6136   1   0    0   0    0        0\n",
       "3    p:6005   0   0    0   1    0        0\n",
       "4    p:5832   0   0    0   0    0        1\n",
       "5    p:1017   0   1    0   0    0        0"
      ]
     },
     "execution_count": 29,
     "metadata": {},
     "output_type": "execute_result"
    }
   ],
   "source": [
    "degreesInfo.head()"
   ]
  },
  {
   "cell_type": "markdown",
   "metadata": {
    "heading_collapsed": true,
    "hidden": true
   },
   "source": [
    "## 融合后数据处理"
   ]
  },
  {
   "cell_type": "code",
   "execution_count": 30,
   "metadata": {
    "ExecuteTime": {
     "end_time": "2021-05-23T14:11:40.418857Z",
     "start_time": "2021-05-23T14:11:40.246319Z"
    },
    "hidden": true
   },
   "outputs": [],
   "source": [
    "# 先把创始人信息和学位融合\n",
    "master = pd.merge(people, degreesInfo, how='left',left_on=['object_id'], right_on=['object_id'])\n",
    "master['BA']=master['BA'].fillna(0)\n",
    "master['BS']=master['BS'].fillna(0)\n",
    "master['MBA']=master['MBA'].fillna(0)\n",
    "master['MS']=master['MS'].fillna(0)\n",
    "master['PhD']=master['PhD'].fillna(0)\n",
    "master['unknown']=master['unknown'].fillna(1)"
   ]
  },
  {
   "cell_type": "code",
   "execution_count": 31,
   "metadata": {
    "ExecuteTime": {
     "end_time": "2021-05-23T14:11:40.433818Z",
     "start_time": "2021-05-23T14:11:40.419854Z"
    },
    "hidden": true
   },
   "outputs": [
    {
     "data": {
      "text/html": [
       "<div>\n",
       "<style scoped>\n",
       "    .dataframe tbody tr th:only-of-type {\n",
       "        vertical-align: middle;\n",
       "    }\n",
       "\n",
       "    .dataframe tbody tr th {\n",
       "        vertical-align: top;\n",
       "    }\n",
       "\n",
       "    .dataframe thead th {\n",
       "        text-align: right;\n",
       "    }\n",
       "</style>\n",
       "<table border=\"1\" class=\"dataframe\">\n",
       "  <thead>\n",
       "    <tr style=\"text-align: right;\">\n",
       "      <th></th>\n",
       "      <th>object_id</th>\n",
       "      <th>affiliation_name</th>\n",
       "      <th>BA</th>\n",
       "      <th>BS</th>\n",
       "      <th>MBA</th>\n",
       "      <th>MS</th>\n",
       "      <th>PhD</th>\n",
       "      <th>unknown</th>\n",
       "    </tr>\n",
       "  </thead>\n",
       "  <tbody>\n",
       "    <tr>\n",
       "      <th>0</th>\n",
       "      <td>p:2</td>\n",
       "      <td>Blue Nile</td>\n",
       "      <td>0.0000</td>\n",
       "      <td>1.0000</td>\n",
       "      <td>0.0000</td>\n",
       "      <td>0.0000</td>\n",
       "      <td>0.0000</td>\n",
       "      <td>0.0000</td>\n",
       "    </tr>\n",
       "    <tr>\n",
       "      <th>1</th>\n",
       "      <td>p:3</td>\n",
       "      <td>Wetpaint</td>\n",
       "      <td>0.0000</td>\n",
       "      <td>0.0000</td>\n",
       "      <td>0.0000</td>\n",
       "      <td>0.0000</td>\n",
       "      <td>0.0000</td>\n",
       "      <td>1.0000</td>\n",
       "    </tr>\n",
       "    <tr>\n",
       "      <th>2</th>\n",
       "      <td>p:4</td>\n",
       "      <td>Zoho</td>\n",
       "      <td>0.0000</td>\n",
       "      <td>0.0000</td>\n",
       "      <td>0.0000</td>\n",
       "      <td>0.0000</td>\n",
       "      <td>0.0000</td>\n",
       "      <td>1.0000</td>\n",
       "    </tr>\n",
       "    <tr>\n",
       "      <th>3</th>\n",
       "      <td>p:5</td>\n",
       "      <td>Zoho</td>\n",
       "      <td>0.0000</td>\n",
       "      <td>0.0000</td>\n",
       "      <td>0.0000</td>\n",
       "      <td>0.0000</td>\n",
       "      <td>0.0000</td>\n",
       "      <td>1.0000</td>\n",
       "    </tr>\n",
       "    <tr>\n",
       "      <th>4</th>\n",
       "      <td>p:6</td>\n",
       "      <td>i/o Ventures</td>\n",
       "      <td>0.0000</td>\n",
       "      <td>0.0000</td>\n",
       "      <td>0.0000</td>\n",
       "      <td>0.0000</td>\n",
       "      <td>0.0000</td>\n",
       "      <td>1.0000</td>\n",
       "    </tr>\n",
       "  </tbody>\n",
       "</table>\n",
       "</div>"
      ],
      "text/plain": [
       "  object_id affiliation_name     BA     BS    MBA     MS    PhD  unknown\n",
       "0       p:2        Blue Nile 0.0000 1.0000 0.0000 0.0000 0.0000   0.0000\n",
       "1       p:3         Wetpaint 0.0000 0.0000 0.0000 0.0000 0.0000   1.0000\n",
       "2       p:4             Zoho 0.0000 0.0000 0.0000 0.0000 0.0000   1.0000\n",
       "3       p:5             Zoho 0.0000 0.0000 0.0000 0.0000 0.0000   1.0000\n",
       "4       p:6     i/o Ventures 0.0000 0.0000 0.0000 0.0000 0.0000   1.0000"
      ]
     },
     "execution_count": 31,
     "metadata": {},
     "output_type": "execute_result"
    }
   ],
   "source": [
    "master.head()"
   ]
  },
  {
   "cell_type": "code",
   "execution_count": 32,
   "metadata": {
    "ExecuteTime": {
     "end_time": "2021-05-23T14:11:40.651236Z",
     "start_time": "2021-05-23T14:11:40.434815Z"
    },
    "hidden": true
   },
   "outputs": [],
   "source": [
    "# 融合创业者和初创企业的关系为一个数据\n",
    "master=pd.merge(master, crunchbase, how='left',left_on=['affiliation_name'], right_on=['name'])\n",
    "master=master.drop('affiliation_name',axis=1)"
   ]
  },
  {
   "cell_type": "code",
   "execution_count": 33,
   "metadata": {
    "ExecuteTime": {
     "end_time": "2021-05-23T14:11:40.666196Z",
     "start_time": "2021-05-23T14:11:40.652233Z"
    },
    "hidden": true
   },
   "outputs": [
    {
     "data": {
      "text/html": [
       "<div>\n",
       "<style scoped>\n",
       "    .dataframe tbody tr th:only-of-type {\n",
       "        vertical-align: middle;\n",
       "    }\n",
       "\n",
       "    .dataframe tbody tr th {\n",
       "        vertical-align: top;\n",
       "    }\n",
       "\n",
       "    .dataframe thead th {\n",
       "        text-align: right;\n",
       "    }\n",
       "</style>\n",
       "<table border=\"1\" class=\"dataframe\">\n",
       "  <thead>\n",
       "    <tr style=\"text-align: right;\">\n",
       "      <th></th>\n",
       "      <th>object_id</th>\n",
       "      <th>BA</th>\n",
       "      <th>BS</th>\n",
       "      <th>MBA</th>\n",
       "      <th>MS</th>\n",
       "      <th>PhD</th>\n",
       "      <th>unknown</th>\n",
       "      <th>id</th>\n",
       "      <th>name</th>\n",
       "      <th>market</th>\n",
       "      <th>status</th>\n",
       "      <th>country_code</th>\n",
       "      <th>city</th>\n",
       "      <th>funding_rounds</th>\n",
       "      <th>funding_total_usd</th>\n",
       "      <th>relationships</th>\n",
       "      <th>founded_year</th>\n",
       "    </tr>\n",
       "  </thead>\n",
       "  <tbody>\n",
       "    <tr>\n",
       "      <th>0</th>\n",
       "      <td>p:2</td>\n",
       "      <td>0.0000</td>\n",
       "      <td>1.0000</td>\n",
       "      <td>0.0000</td>\n",
       "      <td>0.0000</td>\n",
       "      <td>0.0000</td>\n",
       "      <td>0.0000</td>\n",
       "      <td>c:4993</td>\n",
       "      <td>Blue Nile</td>\n",
       "      <td>web</td>\n",
       "      <td>operating</td>\n",
       "      <td>USA</td>\n",
       "      <td>Seattle</td>\n",
       "      <td>2.0000</td>\n",
       "      <td>49000000.0000</td>\n",
       "      <td>19.0000</td>\n",
       "      <td>1999.0000</td>\n",
       "    </tr>\n",
       "    <tr>\n",
       "      <th>1</th>\n",
       "      <td>p:3</td>\n",
       "      <td>0.0000</td>\n",
       "      <td>0.0000</td>\n",
       "      <td>0.0000</td>\n",
       "      <td>0.0000</td>\n",
       "      <td>0.0000</td>\n",
       "      <td>1.0000</td>\n",
       "      <td>c:1</td>\n",
       "      <td>Wetpaint</td>\n",
       "      <td>web</td>\n",
       "      <td>operating</td>\n",
       "      <td>USA</td>\n",
       "      <td>Seattle</td>\n",
       "      <td>3.0000</td>\n",
       "      <td>39750000.0000</td>\n",
       "      <td>17.0000</td>\n",
       "      <td>2005.0000</td>\n",
       "    </tr>\n",
       "    <tr>\n",
       "      <th>2</th>\n",
       "      <td>p:4</td>\n",
       "      <td>0.0000</td>\n",
       "      <td>0.0000</td>\n",
       "      <td>0.0000</td>\n",
       "      <td>0.0000</td>\n",
       "      <td>0.0000</td>\n",
       "      <td>1.0000</td>\n",
       "      <td>c:3</td>\n",
       "      <td>Zoho</td>\n",
       "      <td>software</td>\n",
       "      <td>operating</td>\n",
       "      <td>USA</td>\n",
       "      <td>Pleasanton</td>\n",
       "      <td>nan</td>\n",
       "      <td>0.0000</td>\n",
       "      <td>18.0000</td>\n",
       "      <td>2005.0000</td>\n",
       "    </tr>\n",
       "    <tr>\n",
       "      <th>3</th>\n",
       "      <td>p:5</td>\n",
       "      <td>0.0000</td>\n",
       "      <td>0.0000</td>\n",
       "      <td>0.0000</td>\n",
       "      <td>0.0000</td>\n",
       "      <td>0.0000</td>\n",
       "      <td>1.0000</td>\n",
       "      <td>c:3</td>\n",
       "      <td>Zoho</td>\n",
       "      <td>software</td>\n",
       "      <td>operating</td>\n",
       "      <td>USA</td>\n",
       "      <td>Pleasanton</td>\n",
       "      <td>nan</td>\n",
       "      <td>0.0000</td>\n",
       "      <td>18.0000</td>\n",
       "      <td>2005.0000</td>\n",
       "    </tr>\n",
       "    <tr>\n",
       "      <th>4</th>\n",
       "      <td>p:6</td>\n",
       "      <td>0.0000</td>\n",
       "      <td>0.0000</td>\n",
       "      <td>0.0000</td>\n",
       "      <td>0.0000</td>\n",
       "      <td>0.0000</td>\n",
       "      <td>1.0000</td>\n",
       "      <td>c:16441</td>\n",
       "      <td>i/o Ventures</td>\n",
       "      <td>other</td>\n",
       "      <td>operating</td>\n",
       "      <td>USA</td>\n",
       "      <td>San Francisco</td>\n",
       "      <td>nan</td>\n",
       "      <td>0.0000</td>\n",
       "      <td>23.0000</td>\n",
       "      <td>2010.0000</td>\n",
       "    </tr>\n",
       "  </tbody>\n",
       "</table>\n",
       "</div>"
      ],
      "text/plain": [
       "  object_id     BA     BS    MBA     MS    PhD  unknown       id  \\\n",
       "0       p:2 0.0000 1.0000 0.0000 0.0000 0.0000   0.0000   c:4993   \n",
       "1       p:3 0.0000 0.0000 0.0000 0.0000 0.0000   1.0000      c:1   \n",
       "2       p:4 0.0000 0.0000 0.0000 0.0000 0.0000   1.0000      c:3   \n",
       "3       p:5 0.0000 0.0000 0.0000 0.0000 0.0000   1.0000      c:3   \n",
       "4       p:6 0.0000 0.0000 0.0000 0.0000 0.0000   1.0000  c:16441   \n",
       "\n",
       "           name    market     status country_code           city  \\\n",
       "0     Blue Nile       web  operating          USA        Seattle   \n",
       "1      Wetpaint       web  operating          USA        Seattle   \n",
       "2          Zoho  software  operating          USA     Pleasanton   \n",
       "3          Zoho  software  operating          USA     Pleasanton   \n",
       "4  i/o Ventures     other  operating          USA  San Francisco   \n",
       "\n",
       "   funding_rounds  funding_total_usd  relationships  founded_year  \n",
       "0          2.0000      49000000.0000        19.0000     1999.0000  \n",
       "1          3.0000      39750000.0000        17.0000     2005.0000  \n",
       "2             nan             0.0000        18.0000     2005.0000  \n",
       "3             nan             0.0000        18.0000     2005.0000  \n",
       "4             nan             0.0000        23.0000     2010.0000  "
      ]
     },
     "execution_count": 33,
     "metadata": {},
     "output_type": "execute_result"
    }
   ],
   "source": [
    "master.head()"
   ]
  },
  {
   "cell_type": "code",
   "execution_count": 34,
   "metadata": {
    "ExecuteTime": {
     "end_time": "2021-05-23T14:11:40.789866Z",
     "start_time": "2021-05-23T14:11:40.667195Z"
    },
    "hidden": true
   },
   "outputs": [],
   "source": [
    "# 统计创业者的任职公司的分布，看哪家公司出来几个人\n",
    "peopleSum=master.groupby(['name']).agg({'object_id': \"nunique\", 'BA':'sum',  'BS':'sum', 'MBA':'sum', 'MS':'sum', 'PhD':'sum','unknown':'sum'})\n",
    "peopleSum=peopleSum.rename(columns = {\"object_id\": \"numEntrepreneurs\"})\n",
    "# 重建一个索引\n",
    "peopleSum = peopleSum.reset_index()"
   ]
  },
  {
   "cell_type": "code",
   "execution_count": 35,
   "metadata": {
    "ExecuteTime": {
     "end_time": "2021-05-23T14:11:40.805822Z",
     "start_time": "2021-05-23T14:11:40.790862Z"
    },
    "hidden": true
   },
   "outputs": [
    {
     "data": {
      "text/html": [
       "<div>\n",
       "<style scoped>\n",
       "    .dataframe tbody tr th:only-of-type {\n",
       "        vertical-align: middle;\n",
       "    }\n",
       "\n",
       "    .dataframe tbody tr th {\n",
       "        vertical-align: top;\n",
       "    }\n",
       "\n",
       "    .dataframe thead th {\n",
       "        text-align: right;\n",
       "    }\n",
       "</style>\n",
       "<table border=\"1\" class=\"dataframe\">\n",
       "  <thead>\n",
       "    <tr style=\"text-align: right;\">\n",
       "      <th></th>\n",
       "      <th>name</th>\n",
       "      <th>numEntrepreneurs</th>\n",
       "      <th>BA</th>\n",
       "      <th>BS</th>\n",
       "      <th>MBA</th>\n",
       "      <th>MS</th>\n",
       "      <th>PhD</th>\n",
       "      <th>unknown</th>\n",
       "    </tr>\n",
       "  </thead>\n",
       "  <tbody>\n",
       "    <tr>\n",
       "      <th>0</th>\n",
       "      <td>! Haz Life</td>\n",
       "      <td>1</td>\n",
       "      <td>0.0000</td>\n",
       "      <td>0.0000</td>\n",
       "      <td>0.0000</td>\n",
       "      <td>0.0000</td>\n",
       "      <td>0.0000</td>\n",
       "      <td>1.0000</td>\n",
       "    </tr>\n",
       "    <tr>\n",
       "      <th>1</th>\n",
       "      <td>#waywire</td>\n",
       "      <td>1</td>\n",
       "      <td>1.0000</td>\n",
       "      <td>0.0000</td>\n",
       "      <td>0.0000</td>\n",
       "      <td>0.0000</td>\n",
       "      <td>0.0000</td>\n",
       "      <td>0.0000</td>\n",
       "    </tr>\n",
       "    <tr>\n",
       "      <th>2</th>\n",
       "      <td>(In)Touch Network</td>\n",
       "      <td>1</td>\n",
       "      <td>0.0000</td>\n",
       "      <td>1.0000</td>\n",
       "      <td>0.0000</td>\n",
       "      <td>0.0000</td>\n",
       "      <td>0.0000</td>\n",
       "      <td>0.0000</td>\n",
       "    </tr>\n",
       "    <tr>\n",
       "      <th>3</th>\n",
       "      <td>(fluff)Friends</td>\n",
       "      <td>1</td>\n",
       "      <td>0.0000</td>\n",
       "      <td>0.0000</td>\n",
       "      <td>0.0000</td>\n",
       "      <td>1.0000</td>\n",
       "      <td>0.0000</td>\n",
       "      <td>0.0000</td>\n",
       "    </tr>\n",
       "    <tr>\n",
       "      <th>4</th>\n",
       "      <td>*faircompanies</td>\n",
       "      <td>2</td>\n",
       "      <td>0.0000</td>\n",
       "      <td>0.0000</td>\n",
       "      <td>0.0000</td>\n",
       "      <td>0.0000</td>\n",
       "      <td>0.0000</td>\n",
       "      <td>2.0000</td>\n",
       "    </tr>\n",
       "  </tbody>\n",
       "</table>\n",
       "</div>"
      ],
      "text/plain": [
       "                name  numEntrepreneurs     BA     BS    MBA     MS    PhD  \\\n",
       "0         ! Haz Life                 1 0.0000 0.0000 0.0000 0.0000 0.0000   \n",
       "1           #waywire                 1 1.0000 0.0000 0.0000 0.0000 0.0000   \n",
       "2  (In)Touch Network                 1 0.0000 1.0000 0.0000 0.0000 0.0000   \n",
       "3     (fluff)Friends                 1 0.0000 0.0000 0.0000 1.0000 0.0000   \n",
       "4     *faircompanies                 2 0.0000 0.0000 0.0000 0.0000 0.0000   \n",
       "\n",
       "   unknown  \n",
       "0   1.0000  \n",
       "1   0.0000  \n",
       "2   0.0000  \n",
       "3   0.0000  \n",
       "4   2.0000  "
      ]
     },
     "execution_count": 35,
     "metadata": {},
     "output_type": "execute_result"
    }
   ],
   "source": [
    "peopleSum.head()"
   ]
  },
  {
   "cell_type": "code",
   "execution_count": 36,
   "metadata": {
    "ExecuteTime": {
     "end_time": "2021-05-23T14:11:40.884612Z",
     "start_time": "2021-05-23T14:11:40.806822Z"
    },
    "hidden": true
   },
   "outputs": [],
   "source": [
    "master=pd.merge(crunchbase, peopleSum, how='right',left_on=['name'], right_on=['name'])"
   ]
  },
  {
   "cell_type": "code",
   "execution_count": 37,
   "metadata": {
    "ExecuteTime": {
     "end_time": "2021-05-23T14:11:40.900569Z",
     "start_time": "2021-05-23T14:11:40.885609Z"
    },
    "hidden": true
   },
   "outputs": [
    {
     "data": {
      "text/html": [
       "<div>\n",
       "<style scoped>\n",
       "    .dataframe tbody tr th:only-of-type {\n",
       "        vertical-align: middle;\n",
       "    }\n",
       "\n",
       "    .dataframe tbody tr th {\n",
       "        vertical-align: top;\n",
       "    }\n",
       "\n",
       "    .dataframe thead th {\n",
       "        text-align: right;\n",
       "    }\n",
       "</style>\n",
       "<table border=\"1\" class=\"dataframe\">\n",
       "  <thead>\n",
       "    <tr style=\"text-align: right;\">\n",
       "      <th></th>\n",
       "      <th>id</th>\n",
       "      <th>name</th>\n",
       "      <th>market</th>\n",
       "      <th>status</th>\n",
       "      <th>country_code</th>\n",
       "      <th>city</th>\n",
       "      <th>funding_rounds</th>\n",
       "      <th>funding_total_usd</th>\n",
       "      <th>relationships</th>\n",
       "      <th>founded_year</th>\n",
       "      <th>numEntrepreneurs</th>\n",
       "      <th>BA</th>\n",
       "      <th>BS</th>\n",
       "      <th>MBA</th>\n",
       "      <th>MS</th>\n",
       "      <th>PhD</th>\n",
       "      <th>unknown</th>\n",
       "    </tr>\n",
       "  </thead>\n",
       "  <tbody>\n",
       "    <tr>\n",
       "      <th>0</th>\n",
       "      <td>c:1</td>\n",
       "      <td>Wetpaint</td>\n",
       "      <td>web</td>\n",
       "      <td>operating</td>\n",
       "      <td>USA</td>\n",
       "      <td>Seattle</td>\n",
       "      <td>3.0000</td>\n",
       "      <td>39750000.0000</td>\n",
       "      <td>17.0000</td>\n",
       "      <td>2005.0000</td>\n",
       "      <td>2</td>\n",
       "      <td>0.0000</td>\n",
       "      <td>0.0000</td>\n",
       "      <td>0.0000</td>\n",
       "      <td>0.0000</td>\n",
       "      <td>0.0000</td>\n",
       "      <td>2.0000</td>\n",
       "    </tr>\n",
       "    <tr>\n",
       "      <th>1</th>\n",
       "      <td>c:10</td>\n",
       "      <td>Flektor</td>\n",
       "      <td>games_video</td>\n",
       "      <td>acquired</td>\n",
       "      <td>USA</td>\n",
       "      <td>Culver City</td>\n",
       "      <td>nan</td>\n",
       "      <td>0.0000</td>\n",
       "      <td>6.0000</td>\n",
       "      <td>0.0000</td>\n",
       "      <td>2</td>\n",
       "      <td>1.0000</td>\n",
       "      <td>0.0000</td>\n",
       "      <td>0.0000</td>\n",
       "      <td>0.0000</td>\n",
       "      <td>0.0000</td>\n",
       "      <td>1.0000</td>\n",
       "    </tr>\n",
       "    <tr>\n",
       "      <th>2</th>\n",
       "      <td>c:100</td>\n",
       "      <td>There</td>\n",
       "      <td>games_video</td>\n",
       "      <td>acquired</td>\n",
       "      <td>USA</td>\n",
       "      <td>San Mateo</td>\n",
       "      <td>nan</td>\n",
       "      <td>0.0000</td>\n",
       "      <td>12.0000</td>\n",
       "      <td>0.0000</td>\n",
       "      <td>4</td>\n",
       "      <td>0.0000</td>\n",
       "      <td>0.0000</td>\n",
       "      <td>0.0000</td>\n",
       "      <td>0.0000</td>\n",
       "      <td>1.0000</td>\n",
       "      <td>3.0000</td>\n",
       "    </tr>\n",
       "    <tr>\n",
       "      <th>3</th>\n",
       "      <td>c:10002</td>\n",
       "      <td>Synergie Media</td>\n",
       "      <td>advertising</td>\n",
       "      <td>operating</td>\n",
       "      <td>MAR</td>\n",
       "      <td>Agadir</td>\n",
       "      <td>nan</td>\n",
       "      <td>0.0000</td>\n",
       "      <td>2.0000</td>\n",
       "      <td>2007.0000</td>\n",
       "      <td>1</td>\n",
       "      <td>0.0000</td>\n",
       "      <td>0.0000</td>\n",
       "      <td>0.0000</td>\n",
       "      <td>1.0000</td>\n",
       "      <td>0.0000</td>\n",
       "      <td>0.0000</td>\n",
       "    </tr>\n",
       "    <tr>\n",
       "      <th>4</th>\n",
       "      <td>c:1001</td>\n",
       "      <td>FriendFeed</td>\n",
       "      <td>web</td>\n",
       "      <td>acquired</td>\n",
       "      <td>USA</td>\n",
       "      <td>Mountain View</td>\n",
       "      <td>1.0000</td>\n",
       "      <td>5000000.0000</td>\n",
       "      <td>14.0000</td>\n",
       "      <td>2007.0000</td>\n",
       "      <td>2</td>\n",
       "      <td>0.0000</td>\n",
       "      <td>1.0000</td>\n",
       "      <td>0.0000</td>\n",
       "      <td>1.0000</td>\n",
       "      <td>0.0000</td>\n",
       "      <td>0.0000</td>\n",
       "    </tr>\n",
       "  </tbody>\n",
       "</table>\n",
       "</div>"
      ],
      "text/plain": [
       "        id            name       market     status country_code  \\\n",
       "0      c:1        Wetpaint          web  operating          USA   \n",
       "1     c:10         Flektor  games_video   acquired          USA   \n",
       "2    c:100           There  games_video   acquired          USA   \n",
       "3  c:10002  Synergie Media  advertising  operating          MAR   \n",
       "4   c:1001      FriendFeed          web   acquired          USA   \n",
       "\n",
       "            city  funding_rounds  funding_total_usd  relationships  \\\n",
       "0        Seattle          3.0000      39750000.0000        17.0000   \n",
       "1    Culver City             nan             0.0000         6.0000   \n",
       "2      San Mateo             nan             0.0000        12.0000   \n",
       "3         Agadir             nan             0.0000         2.0000   \n",
       "4  Mountain View          1.0000       5000000.0000        14.0000   \n",
       "\n",
       "   founded_year  numEntrepreneurs     BA     BS    MBA     MS    PhD  unknown  \n",
       "0     2005.0000                 2 0.0000 0.0000 0.0000 0.0000 0.0000   2.0000  \n",
       "1        0.0000                 2 1.0000 0.0000 0.0000 0.0000 0.0000   1.0000  \n",
       "2        0.0000                 4 0.0000 0.0000 0.0000 0.0000 1.0000   3.0000  \n",
       "3     2007.0000                 1 0.0000 0.0000 0.0000 1.0000 0.0000   0.0000  \n",
       "4     2007.0000                 2 0.0000 1.0000 0.0000 1.0000 0.0000   0.0000  "
      ]
     },
     "execution_count": 37,
     "metadata": {},
     "output_type": "execute_result"
    }
   ],
   "source": [
    "master.head()"
   ]
  },
  {
   "cell_type": "code",
   "execution_count": 38,
   "metadata": {
    "ExecuteTime": {
     "end_time": "2021-05-23T14:11:40.930489Z",
     "start_time": "2021-05-23T14:11:40.901568Z"
    },
    "hidden": true
   },
   "outputs": [],
   "source": [
    "# 再把上市时间融合进去\n",
    "master=pd.merge(master, ipoInfo,how='left',left_on=['id'],right_on=['object_id']).drop(\"object_id\",axis=1)"
   ]
  },
  {
   "cell_type": "code",
   "execution_count": 39,
   "metadata": {
    "ExecuteTime": {
     "end_time": "2021-05-23T14:11:40.978362Z",
     "start_time": "2021-05-23T14:11:40.931486Z"
    },
    "hidden": true
   },
   "outputs": [],
   "source": [
    "# 再把被收购时间融合进去\n",
    "master=pd.merge(master, acquisitionsInfo,how='left',left_on=['id'],right_on=['acquired_object_id']).drop(\"acquired_object_id\",axis=1)"
   ]
  },
  {
   "cell_type": "code",
   "execution_count": 40,
   "metadata": {
    "ExecuteTime": {
     "end_time": "2021-05-23T14:11:40.993322Z",
     "start_time": "2021-05-23T14:11:40.979358Z"
    },
    "code_folding": [],
    "hidden": true
   },
   "outputs": [
    {
     "name": "stdout",
     "output_type": "stream",
     "text": [
      "(196553, 10)\n",
      "(226689, 2)\n",
      "(659, 2)\n",
      "(9383, 2)\n",
      "(22898, 19)\n"
     ]
    }
   ],
   "source": [
    "# 检查一下数据集大小，确保融合是正确的\n",
    "print(crunchbase.shape)\n",
    "print(people.shape)\n",
    "print(ipoInfo.shape)\n",
    "print(acquisitionsInfo.shape)\n",
    "print(master.shape)"
   ]
  },
  {
   "cell_type": "code",
   "execution_count": 41,
   "metadata": {
    "ExecuteTime": {
     "end_time": "2021-05-23T14:11:41.008282Z",
     "start_time": "2021-05-23T14:11:40.995317Z"
    },
    "hidden": true
   },
   "outputs": [
    {
     "data": {
      "text/html": [
       "<div>\n",
       "<style scoped>\n",
       "    .dataframe tbody tr th:only-of-type {\n",
       "        vertical-align: middle;\n",
       "    }\n",
       "\n",
       "    .dataframe tbody tr th {\n",
       "        vertical-align: top;\n",
       "    }\n",
       "\n",
       "    .dataframe thead th {\n",
       "        text-align: right;\n",
       "    }\n",
       "</style>\n",
       "<table border=\"1\" class=\"dataframe\">\n",
       "  <thead>\n",
       "    <tr style=\"text-align: right;\">\n",
       "      <th></th>\n",
       "      <th>id</th>\n",
       "      <th>name</th>\n",
       "      <th>market</th>\n",
       "      <th>status</th>\n",
       "      <th>country_code</th>\n",
       "      <th>city</th>\n",
       "      <th>funding_rounds</th>\n",
       "      <th>funding_total_usd</th>\n",
       "      <th>relationships</th>\n",
       "      <th>founded_year</th>\n",
       "      <th>numEntrepreneurs</th>\n",
       "      <th>BA</th>\n",
       "      <th>BS</th>\n",
       "      <th>MBA</th>\n",
       "      <th>MS</th>\n",
       "      <th>PhD</th>\n",
       "      <th>unknown</th>\n",
       "      <th>public_at</th>\n",
       "      <th>acquired_at</th>\n",
       "    </tr>\n",
       "  </thead>\n",
       "  <tbody>\n",
       "    <tr>\n",
       "      <th>0</th>\n",
       "      <td>c:1</td>\n",
       "      <td>Wetpaint</td>\n",
       "      <td>web</td>\n",
       "      <td>operating</td>\n",
       "      <td>USA</td>\n",
       "      <td>Seattle</td>\n",
       "      <td>3.0000</td>\n",
       "      <td>39750000.0000</td>\n",
       "      <td>17.0000</td>\n",
       "      <td>2005.0000</td>\n",
       "      <td>2</td>\n",
       "      <td>0.0000</td>\n",
       "      <td>0.0000</td>\n",
       "      <td>0.0000</td>\n",
       "      <td>0.0000</td>\n",
       "      <td>0.0000</td>\n",
       "      <td>2.0000</td>\n",
       "      <td>nan</td>\n",
       "      <td>nan</td>\n",
       "    </tr>\n",
       "    <tr>\n",
       "      <th>1</th>\n",
       "      <td>c:10</td>\n",
       "      <td>Flektor</td>\n",
       "      <td>games_video</td>\n",
       "      <td>acquired</td>\n",
       "      <td>USA</td>\n",
       "      <td>Culver City</td>\n",
       "      <td>nan</td>\n",
       "      <td>0.0000</td>\n",
       "      <td>6.0000</td>\n",
       "      <td>0.0000</td>\n",
       "      <td>2</td>\n",
       "      <td>1.0000</td>\n",
       "      <td>0.0000</td>\n",
       "      <td>0.0000</td>\n",
       "      <td>0.0000</td>\n",
       "      <td>0.0000</td>\n",
       "      <td>1.0000</td>\n",
       "      <td>nan</td>\n",
       "      <td>2007.0000</td>\n",
       "    </tr>\n",
       "    <tr>\n",
       "      <th>2</th>\n",
       "      <td>c:100</td>\n",
       "      <td>There</td>\n",
       "      <td>games_video</td>\n",
       "      <td>acquired</td>\n",
       "      <td>USA</td>\n",
       "      <td>San Mateo</td>\n",
       "      <td>nan</td>\n",
       "      <td>0.0000</td>\n",
       "      <td>12.0000</td>\n",
       "      <td>0.0000</td>\n",
       "      <td>4</td>\n",
       "      <td>0.0000</td>\n",
       "      <td>0.0000</td>\n",
       "      <td>0.0000</td>\n",
       "      <td>0.0000</td>\n",
       "      <td>1.0000</td>\n",
       "      <td>3.0000</td>\n",
       "      <td>nan</td>\n",
       "      <td>2005.0000</td>\n",
       "    </tr>\n",
       "    <tr>\n",
       "      <th>3</th>\n",
       "      <td>c:10002</td>\n",
       "      <td>Synergie Media</td>\n",
       "      <td>advertising</td>\n",
       "      <td>operating</td>\n",
       "      <td>MAR</td>\n",
       "      <td>Agadir</td>\n",
       "      <td>nan</td>\n",
       "      <td>0.0000</td>\n",
       "      <td>2.0000</td>\n",
       "      <td>2007.0000</td>\n",
       "      <td>1</td>\n",
       "      <td>0.0000</td>\n",
       "      <td>0.0000</td>\n",
       "      <td>0.0000</td>\n",
       "      <td>1.0000</td>\n",
       "      <td>0.0000</td>\n",
       "      <td>0.0000</td>\n",
       "      <td>nan</td>\n",
       "      <td>nan</td>\n",
       "    </tr>\n",
       "    <tr>\n",
       "      <th>4</th>\n",
       "      <td>c:1001</td>\n",
       "      <td>FriendFeed</td>\n",
       "      <td>web</td>\n",
       "      <td>acquired</td>\n",
       "      <td>USA</td>\n",
       "      <td>Mountain View</td>\n",
       "      <td>1.0000</td>\n",
       "      <td>5000000.0000</td>\n",
       "      <td>14.0000</td>\n",
       "      <td>2007.0000</td>\n",
       "      <td>2</td>\n",
       "      <td>0.0000</td>\n",
       "      <td>1.0000</td>\n",
       "      <td>0.0000</td>\n",
       "      <td>1.0000</td>\n",
       "      <td>0.0000</td>\n",
       "      <td>0.0000</td>\n",
       "      <td>nan</td>\n",
       "      <td>2009.0000</td>\n",
       "    </tr>\n",
       "  </tbody>\n",
       "</table>\n",
       "</div>"
      ],
      "text/plain": [
       "        id            name       market     status country_code  \\\n",
       "0      c:1        Wetpaint          web  operating          USA   \n",
       "1     c:10         Flektor  games_video   acquired          USA   \n",
       "2    c:100           There  games_video   acquired          USA   \n",
       "3  c:10002  Synergie Media  advertising  operating          MAR   \n",
       "4   c:1001      FriendFeed          web   acquired          USA   \n",
       "\n",
       "            city  funding_rounds  funding_total_usd  relationships  \\\n",
       "0        Seattle          3.0000      39750000.0000        17.0000   \n",
       "1    Culver City             nan             0.0000         6.0000   \n",
       "2      San Mateo             nan             0.0000        12.0000   \n",
       "3         Agadir             nan             0.0000         2.0000   \n",
       "4  Mountain View          1.0000       5000000.0000        14.0000   \n",
       "\n",
       "   founded_year  numEntrepreneurs     BA     BS    MBA     MS    PhD  unknown  \\\n",
       "0     2005.0000                 2 0.0000 0.0000 0.0000 0.0000 0.0000   2.0000   \n",
       "1        0.0000                 2 1.0000 0.0000 0.0000 0.0000 0.0000   1.0000   \n",
       "2        0.0000                 4 0.0000 0.0000 0.0000 0.0000 1.0000   3.0000   \n",
       "3     2007.0000                 1 0.0000 0.0000 0.0000 1.0000 0.0000   0.0000   \n",
       "4     2007.0000                 2 0.0000 1.0000 0.0000 1.0000 0.0000   0.0000   \n",
       "\n",
       "   public_at  acquired_at  \n",
       "0        nan          nan  \n",
       "1        nan    2007.0000  \n",
       "2        nan    2005.0000  \n",
       "3        nan          nan  \n",
       "4        nan    2009.0000  "
      ]
     },
     "execution_count": 41,
     "metadata": {},
     "output_type": "execute_result"
    }
   ],
   "source": [
    "master.head()"
   ]
  },
  {
   "cell_type": "code",
   "execution_count": 42,
   "metadata": {
    "ExecuteTime": {
     "end_time": "2021-05-23T14:11:41.038202Z",
     "start_time": "2021-05-23T14:11:41.009278Z"
    },
    "code_folding": [],
    "hidden": true
   },
   "outputs": [],
   "source": [
    "# 企业成功的定义！对企业的运营状况onehot特征化\n",
    "\n",
    "master['success']=0\n",
    "master['success'][(master['status'] == 'ipo') & (master['public_at']-master['founded_year']<=5)]=1\n",
    "master['success'][(master['status'] == 'acquired') & (master['acquired_at']-master['founded_year']<=5)]=1"
   ]
  },
  {
   "cell_type": "code",
   "execution_count": 43,
   "metadata": {
    "ExecuteTime": {
     "end_time": "2021-05-23T14:11:41.054159Z",
     "start_time": "2021-05-23T14:11:41.039199Z"
    },
    "hidden": true
   },
   "outputs": [
    {
     "data": {
      "text/plain": [
       "783"
      ]
     },
     "execution_count": 43,
     "metadata": {},
     "output_type": "execute_result"
    }
   ],
   "source": [
    "master.success.sum()"
   ]
  },
  {
   "cell_type": "markdown",
   "metadata": {
    "heading_collapsed": true,
    "hidden": true
   },
   "source": [
    "## 只关注2000年金融危机后的数据"
   ]
  },
  {
   "cell_type": "code",
   "execution_count": 44,
   "metadata": {
    "ExecuteTime": {
     "end_time": "2021-05-23T14:11:41.070116Z",
     "start_time": "2021-05-23T14:11:41.056154Z"
    },
    "code_folding": [],
    "hidden": true
   },
   "outputs": [],
   "source": [
    "# 根据2000年金融危机，所以我们定义2000年以后成立的企业是初创公司，第一次数据锐减，从196553~76432\n",
    "master['startup'] = 0\n",
    "master['startup'][(master['founded_year'] > 2000)] = 1\n",
    "startups = master[(master['startup'] == 1)]"
   ]
  },
  {
   "cell_type": "code",
   "execution_count": 45,
   "metadata": {
    "ExecuteTime": {
     "end_time": "2021-05-23T14:11:41.086073Z",
     "start_time": "2021-05-23T14:11:41.071114Z"
    },
    "hidden": true
   },
   "outputs": [
    {
     "data": {
      "text/plain": [
       "(12175, 21)"
      ]
     },
     "execution_count": 45,
     "metadata": {},
     "output_type": "execute_result"
    }
   ],
   "source": [
    "startups.shape"
   ]
  },
  {
   "cell_type": "code",
   "execution_count": 46,
   "metadata": {
    "ExecuteTime": {
     "end_time": "2021-05-23T14:11:41.102031Z",
     "start_time": "2021-05-23T14:11:41.087070Z"
    },
    "hidden": true
   },
   "outputs": [
    {
     "data": {
      "text/html": [
       "<div>\n",
       "<style scoped>\n",
       "    .dataframe tbody tr th:only-of-type {\n",
       "        vertical-align: middle;\n",
       "    }\n",
       "\n",
       "    .dataframe tbody tr th {\n",
       "        vertical-align: top;\n",
       "    }\n",
       "\n",
       "    .dataframe thead th {\n",
       "        text-align: right;\n",
       "    }\n",
       "</style>\n",
       "<table border=\"1\" class=\"dataframe\">\n",
       "  <thead>\n",
       "    <tr style=\"text-align: right;\">\n",
       "      <th></th>\n",
       "      <th>id</th>\n",
       "      <th>name</th>\n",
       "      <th>market</th>\n",
       "      <th>status</th>\n",
       "      <th>country_code</th>\n",
       "      <th>city</th>\n",
       "      <th>funding_rounds</th>\n",
       "      <th>funding_total_usd</th>\n",
       "      <th>relationships</th>\n",
       "      <th>founded_year</th>\n",
       "      <th>...</th>\n",
       "      <th>BA</th>\n",
       "      <th>BS</th>\n",
       "      <th>MBA</th>\n",
       "      <th>MS</th>\n",
       "      <th>PhD</th>\n",
       "      <th>unknown</th>\n",
       "      <th>public_at</th>\n",
       "      <th>acquired_at</th>\n",
       "      <th>success</th>\n",
       "      <th>startup</th>\n",
       "    </tr>\n",
       "  </thead>\n",
       "  <tbody>\n",
       "    <tr>\n",
       "      <th>0</th>\n",
       "      <td>c:1</td>\n",
       "      <td>Wetpaint</td>\n",
       "      <td>web</td>\n",
       "      <td>operating</td>\n",
       "      <td>USA</td>\n",
       "      <td>Seattle</td>\n",
       "      <td>3.0000</td>\n",
       "      <td>39750000.0000</td>\n",
       "      <td>17.0000</td>\n",
       "      <td>2005.0000</td>\n",
       "      <td>...</td>\n",
       "      <td>0.0000</td>\n",
       "      <td>0.0000</td>\n",
       "      <td>0.0000</td>\n",
       "      <td>0.0000</td>\n",
       "      <td>0.0000</td>\n",
       "      <td>2.0000</td>\n",
       "      <td>nan</td>\n",
       "      <td>nan</td>\n",
       "      <td>0</td>\n",
       "      <td>1</td>\n",
       "    </tr>\n",
       "    <tr>\n",
       "      <th>3</th>\n",
       "      <td>c:10002</td>\n",
       "      <td>Synergie Media</td>\n",
       "      <td>advertising</td>\n",
       "      <td>operating</td>\n",
       "      <td>MAR</td>\n",
       "      <td>Agadir</td>\n",
       "      <td>nan</td>\n",
       "      <td>0.0000</td>\n",
       "      <td>2.0000</td>\n",
       "      <td>2007.0000</td>\n",
       "      <td>...</td>\n",
       "      <td>0.0000</td>\n",
       "      <td>0.0000</td>\n",
       "      <td>0.0000</td>\n",
       "      <td>1.0000</td>\n",
       "      <td>0.0000</td>\n",
       "      <td>0.0000</td>\n",
       "      <td>nan</td>\n",
       "      <td>nan</td>\n",
       "      <td>0</td>\n",
       "      <td>1</td>\n",
       "    </tr>\n",
       "    <tr>\n",
       "      <th>4</th>\n",
       "      <td>c:1001</td>\n",
       "      <td>FriendFeed</td>\n",
       "      <td>web</td>\n",
       "      <td>acquired</td>\n",
       "      <td>USA</td>\n",
       "      <td>Mountain View</td>\n",
       "      <td>1.0000</td>\n",
       "      <td>5000000.0000</td>\n",
       "      <td>14.0000</td>\n",
       "      <td>2007.0000</td>\n",
       "      <td>...</td>\n",
       "      <td>0.0000</td>\n",
       "      <td>1.0000</td>\n",
       "      <td>0.0000</td>\n",
       "      <td>1.0000</td>\n",
       "      <td>0.0000</td>\n",
       "      <td>0.0000</td>\n",
       "      <td>nan</td>\n",
       "      <td>2009.0000</td>\n",
       "      <td>1</td>\n",
       "      <td>1</td>\n",
       "    </tr>\n",
       "    <tr>\n",
       "      <th>5</th>\n",
       "      <td>c:10011</td>\n",
       "      <td>PoetryVisualized.com</td>\n",
       "      <td>games_video</td>\n",
       "      <td>operating</td>\n",
       "      <td>USA</td>\n",
       "      <td>Julian</td>\n",
       "      <td>nan</td>\n",
       "      <td>0.0000</td>\n",
       "      <td>3.0000</td>\n",
       "      <td>2008.0000</td>\n",
       "      <td>...</td>\n",
       "      <td>0.0000</td>\n",
       "      <td>0.0000</td>\n",
       "      <td>0.0000</td>\n",
       "      <td>0.0000</td>\n",
       "      <td>0.0000</td>\n",
       "      <td>2.0000</td>\n",
       "      <td>nan</td>\n",
       "      <td>nan</td>\n",
       "      <td>0</td>\n",
       "      <td>1</td>\n",
       "    </tr>\n",
       "    <tr>\n",
       "      <th>6</th>\n",
       "      <td>c:10014</td>\n",
       "      <td>Mobclix</td>\n",
       "      <td>mobile</td>\n",
       "      <td>acquired</td>\n",
       "      <td>USA</td>\n",
       "      <td>Palo Alto</td>\n",
       "      <td>1.0000</td>\n",
       "      <td>0.0000</td>\n",
       "      <td>9.0000</td>\n",
       "      <td>2008.0000</td>\n",
       "      <td>...</td>\n",
       "      <td>0.0000</td>\n",
       "      <td>0.0000</td>\n",
       "      <td>0.0000</td>\n",
       "      <td>1.0000</td>\n",
       "      <td>0.0000</td>\n",
       "      <td>4.0000</td>\n",
       "      <td>nan</td>\n",
       "      <td>2010.0000</td>\n",
       "      <td>1</td>\n",
       "      <td>1</td>\n",
       "    </tr>\n",
       "  </tbody>\n",
       "</table>\n",
       "<p>5 rows × 21 columns</p>\n",
       "</div>"
      ],
      "text/plain": [
       "        id                  name       market     status country_code  \\\n",
       "0      c:1              Wetpaint          web  operating          USA   \n",
       "3  c:10002        Synergie Media  advertising  operating          MAR   \n",
       "4   c:1001            FriendFeed          web   acquired          USA   \n",
       "5  c:10011  PoetryVisualized.com  games_video  operating          USA   \n",
       "6  c:10014               Mobclix       mobile   acquired          USA   \n",
       "\n",
       "            city  funding_rounds  funding_total_usd  relationships  \\\n",
       "0        Seattle          3.0000      39750000.0000        17.0000   \n",
       "3         Agadir             nan             0.0000         2.0000   \n",
       "4  Mountain View          1.0000       5000000.0000        14.0000   \n",
       "5         Julian             nan             0.0000         3.0000   \n",
       "6      Palo Alto          1.0000             0.0000         9.0000   \n",
       "\n",
       "   founded_year  ...     BA     BS    MBA     MS    PhD  unknown  public_at  \\\n",
       "0     2005.0000  ... 0.0000 0.0000 0.0000 0.0000 0.0000   2.0000        nan   \n",
       "3     2007.0000  ... 0.0000 0.0000 0.0000 1.0000 0.0000   0.0000        nan   \n",
       "4     2007.0000  ... 0.0000 1.0000 0.0000 1.0000 0.0000   0.0000        nan   \n",
       "5     2008.0000  ... 0.0000 0.0000 0.0000 0.0000 0.0000   2.0000        nan   \n",
       "6     2008.0000  ... 0.0000 0.0000 0.0000 1.0000 0.0000   4.0000        nan   \n",
       "\n",
       "   acquired_at  success  startup  \n",
       "0          nan        0        1  \n",
       "3          nan        0        1  \n",
       "4    2009.0000        1        1  \n",
       "5          nan        0        1  \n",
       "6    2010.0000        1        1  \n",
       "\n",
       "[5 rows x 21 columns]"
      ]
     },
     "execution_count": 46,
     "metadata": {},
     "output_type": "execute_result"
    }
   ],
   "source": [
    "startups.head()"
   ]
  },
  {
   "cell_type": "code",
   "execution_count": 47,
   "metadata": {
    "ExecuteTime": {
     "end_time": "2021-05-23T14:11:41.116991Z",
     "start_time": "2021-05-23T14:11:41.103030Z"
    },
    "hidden": true
   },
   "outputs": [
    {
     "data": {
      "text/plain": [
       "729"
      ]
     },
     "execution_count": 47,
     "metadata": {},
     "output_type": "execute_result"
    }
   ],
   "source": [
    "startups.success.sum()"
   ]
  },
  {
   "cell_type": "code",
   "execution_count": 48,
   "metadata": {
    "ExecuteTime": {
     "end_time": "2021-05-23T14:11:41.132948Z",
     "start_time": "2021-05-23T14:11:41.117987Z"
    },
    "code_folding": [],
    "hidden": true
   },
   "outputs": [],
   "source": [
    "# 我们的数据是到2013年截止的，计算运营时间\n",
    "startups['age'] = 2013 - startups['founded_year']"
   ]
  },
  {
   "cell_type": "code",
   "execution_count": 49,
   "metadata": {
    "ExecuteTime": {
     "end_time": "2021-05-23T14:11:41.331417Z",
     "start_time": "2021-05-23T14:11:41.133946Z"
    },
    "code_folding": [],
    "hidden": true
   },
   "outputs": [],
   "source": [
    "# 保存数据\n",
    "startups.to_csv('startups.csv')"
   ]
  },
  {
   "cell_type": "markdown",
   "metadata": {
    "heading_collapsed": true
   },
   "source": [
    "# 数据分析"
   ]
  },
  {
   "cell_type": "code",
   "execution_count": 50,
   "metadata": {
    "ExecuteTime": {
     "end_time": "2021-05-23T14:11:41.361338Z",
     "start_time": "2021-05-23T14:11:41.333411Z"
    },
    "code_folding": [],
    "hidden": true
   },
   "outputs": [
    {
     "data": {
      "text/html": [
       "<div>\n",
       "<style scoped>\n",
       "    .dataframe tbody tr th:only-of-type {\n",
       "        vertical-align: middle;\n",
       "    }\n",
       "\n",
       "    .dataframe tbody tr th {\n",
       "        vertical-align: top;\n",
       "    }\n",
       "\n",
       "    .dataframe thead th {\n",
       "        text-align: right;\n",
       "    }\n",
       "</style>\n",
       "<table border=\"1\" class=\"dataframe\">\n",
       "  <thead>\n",
       "    <tr style=\"text-align: right;\">\n",
       "      <th></th>\n",
       "      <th>funding_rounds</th>\n",
       "      <th>funding_total_usd</th>\n",
       "      <th>relationships</th>\n",
       "      <th>founded_year</th>\n",
       "      <th>numEntrepreneurs</th>\n",
       "      <th>BA</th>\n",
       "      <th>BS</th>\n",
       "      <th>MBA</th>\n",
       "      <th>MS</th>\n",
       "      <th>PhD</th>\n",
       "      <th>unknown</th>\n",
       "      <th>public_at</th>\n",
       "      <th>acquired_at</th>\n",
       "      <th>success</th>\n",
       "      <th>startup</th>\n",
       "    </tr>\n",
       "  </thead>\n",
       "  <tbody>\n",
       "    <tr>\n",
       "      <th>funding_rounds</th>\n",
       "      <td>1.0000</td>\n",
       "      <td>0.3831</td>\n",
       "      <td>0.1652</td>\n",
       "      <td>0.1205</td>\n",
       "      <td>0.1351</td>\n",
       "      <td>0.1135</td>\n",
       "      <td>0.1072</td>\n",
       "      <td>0.0987</td>\n",
       "      <td>0.0580</td>\n",
       "      <td>0.0351</td>\n",
       "      <td>0.1294</td>\n",
       "      <td>0.3613</td>\n",
       "      <td>0.1356</td>\n",
       "      <td>-0.0135</td>\n",
       "      <td>0.0926</td>\n",
       "    </tr>\n",
       "    <tr>\n",
       "      <th>funding_total_usd</th>\n",
       "      <td>0.3831</td>\n",
       "      <td>1.0000</td>\n",
       "      <td>0.1793</td>\n",
       "      <td>0.0910</td>\n",
       "      <td>0.2155</td>\n",
       "      <td>0.1614</td>\n",
       "      <td>0.1458</td>\n",
       "      <td>0.1664</td>\n",
       "      <td>0.1017</td>\n",
       "      <td>0.0817</td>\n",
       "      <td>0.1863</td>\n",
       "      <td>0.2118</td>\n",
       "      <td>0.0346</td>\n",
       "      <td>0.0285</td>\n",
       "      <td>0.0544</td>\n",
       "    </tr>\n",
       "    <tr>\n",
       "      <th>relationships</th>\n",
       "      <td>0.1652</td>\n",
       "      <td>0.1793</td>\n",
       "      <td>1.0000</td>\n",
       "      <td>0.0961</td>\n",
       "      <td>0.7342</td>\n",
       "      <td>0.4614</td>\n",
       "      <td>0.6348</td>\n",
       "      <td>0.5639</td>\n",
       "      <td>0.4024</td>\n",
       "      <td>0.3367</td>\n",
       "      <td>0.5787</td>\n",
       "      <td>-0.3680</td>\n",
       "      <td>-0.1706</td>\n",
       "      <td>0.0811</td>\n",
       "      <td>-0.0003</td>\n",
       "    </tr>\n",
       "    <tr>\n",
       "      <th>founded_year</th>\n",
       "      <td>0.1205</td>\n",
       "      <td>0.0910</td>\n",
       "      <td>0.0961</td>\n",
       "      <td>1.0000</td>\n",
       "      <td>0.0971</td>\n",
       "      <td>0.0554</td>\n",
       "      <td>0.0590</td>\n",
       "      <td>0.0500</td>\n",
       "      <td>0.0312</td>\n",
       "      <td>0.0187</td>\n",
       "      <td>0.1044</td>\n",
       "      <td>0.1954</td>\n",
       "      <td>0.1610</td>\n",
       "      <td>0.1512</td>\n",
       "      <td>0.8579</td>\n",
       "    </tr>\n",
       "    <tr>\n",
       "      <th>numEntrepreneurs</th>\n",
       "      <td>0.1351</td>\n",
       "      <td>0.2155</td>\n",
       "      <td>0.7342</td>\n",
       "      <td>0.0971</td>\n",
       "      <td>1.0000</td>\n",
       "      <td>0.6124</td>\n",
       "      <td>0.7703</td>\n",
       "      <td>0.6383</td>\n",
       "      <td>0.5133</td>\n",
       "      <td>0.3763</td>\n",
       "      <td>0.8892</td>\n",
       "      <td>-0.1012</td>\n",
       "      <td>-0.0677</td>\n",
       "      <td>0.0821</td>\n",
       "      <td>0.0449</td>\n",
       "    </tr>\n",
       "    <tr>\n",
       "      <th>BA</th>\n",
       "      <td>0.1135</td>\n",
       "      <td>0.1614</td>\n",
       "      <td>0.4614</td>\n",
       "      <td>0.0554</td>\n",
       "      <td>0.6124</td>\n",
       "      <td>1.0000</td>\n",
       "      <td>0.4389</td>\n",
       "      <td>0.3521</td>\n",
       "      <td>0.2503</td>\n",
       "      <td>0.1899</td>\n",
       "      <td>0.3934</td>\n",
       "      <td>-0.0805</td>\n",
       "      <td>-0.0483</td>\n",
       "      <td>0.0694</td>\n",
       "      <td>0.0195</td>\n",
       "    </tr>\n",
       "    <tr>\n",
       "      <th>BS</th>\n",
       "      <td>0.1072</td>\n",
       "      <td>0.1458</td>\n",
       "      <td>0.6348</td>\n",
       "      <td>0.0590</td>\n",
       "      <td>0.7703</td>\n",
       "      <td>0.4389</td>\n",
       "      <td>1.0000</td>\n",
       "      <td>0.4745</td>\n",
       "      <td>0.3874</td>\n",
       "      <td>0.2959</td>\n",
       "      <td>0.5039</td>\n",
       "      <td>-0.1264</td>\n",
       "      <td>-0.0412</td>\n",
       "      <td>0.0608</td>\n",
       "      <td>0.0198</td>\n",
       "    </tr>\n",
       "    <tr>\n",
       "      <th>MBA</th>\n",
       "      <td>0.0987</td>\n",
       "      <td>0.1664</td>\n",
       "      <td>0.5639</td>\n",
       "      <td>0.0500</td>\n",
       "      <td>0.6383</td>\n",
       "      <td>0.3521</td>\n",
       "      <td>0.4745</td>\n",
       "      <td>1.0000</td>\n",
       "      <td>0.3245</td>\n",
       "      <td>0.2475</td>\n",
       "      <td>0.4306</td>\n",
       "      <td>-0.1126</td>\n",
       "      <td>-0.0492</td>\n",
       "      <td>0.0562</td>\n",
       "      <td>-0.0034</td>\n",
       "    </tr>\n",
       "    <tr>\n",
       "      <th>MS</th>\n",
       "      <td>0.0580</td>\n",
       "      <td>0.1017</td>\n",
       "      <td>0.4024</td>\n",
       "      <td>0.0312</td>\n",
       "      <td>0.5133</td>\n",
       "      <td>0.2503</td>\n",
       "      <td>0.3874</td>\n",
       "      <td>0.3245</td>\n",
       "      <td>1.0000</td>\n",
       "      <td>0.1763</td>\n",
       "      <td>0.3242</td>\n",
       "      <td>-0.1222</td>\n",
       "      <td>-0.0342</td>\n",
       "      <td>0.0199</td>\n",
       "      <td>0.0014</td>\n",
       "    </tr>\n",
       "    <tr>\n",
       "      <th>PhD</th>\n",
       "      <td>0.0351</td>\n",
       "      <td>0.0817</td>\n",
       "      <td>0.3367</td>\n",
       "      <td>0.0187</td>\n",
       "      <td>0.3763</td>\n",
       "      <td>0.1899</td>\n",
       "      <td>0.2959</td>\n",
       "      <td>0.2475</td>\n",
       "      <td>0.1763</td>\n",
       "      <td>1.0000</td>\n",
       "      <td>0.2509</td>\n",
       "      <td>-0.1238</td>\n",
       "      <td>-0.0378</td>\n",
       "      <td>0.0265</td>\n",
       "      <td>-0.0041</td>\n",
       "    </tr>\n",
       "    <tr>\n",
       "      <th>unknown</th>\n",
       "      <td>0.1294</td>\n",
       "      <td>0.1863</td>\n",
       "      <td>0.5787</td>\n",
       "      <td>0.1044</td>\n",
       "      <td>0.8892</td>\n",
       "      <td>0.3934</td>\n",
       "      <td>0.5039</td>\n",
       "      <td>0.4306</td>\n",
       "      <td>0.3242</td>\n",
       "      <td>0.2509</td>\n",
       "      <td>1.0000</td>\n",
       "      <td>-0.0758</td>\n",
       "      <td>-0.0477</td>\n",
       "      <td>0.0725</td>\n",
       "      <td>0.0649</td>\n",
       "    </tr>\n",
       "    <tr>\n",
       "      <th>public_at</th>\n",
       "      <td>0.3613</td>\n",
       "      <td>0.2118</td>\n",
       "      <td>-0.3680</td>\n",
       "      <td>0.1954</td>\n",
       "      <td>-0.1012</td>\n",
       "      <td>-0.0805</td>\n",
       "      <td>-0.1264</td>\n",
       "      <td>-0.1126</td>\n",
       "      <td>-0.1222</td>\n",
       "      <td>-0.1238</td>\n",
       "      <td>-0.0758</td>\n",
       "      <td>1.0000</td>\n",
       "      <td>0.3417</td>\n",
       "      <td>-0.1244</td>\n",
       "      <td>0.4903</td>\n",
       "    </tr>\n",
       "    <tr>\n",
       "      <th>acquired_at</th>\n",
       "      <td>0.1356</td>\n",
       "      <td>0.0346</td>\n",
       "      <td>-0.1706</td>\n",
       "      <td>0.1610</td>\n",
       "      <td>-0.0677</td>\n",
       "      <td>-0.0483</td>\n",
       "      <td>-0.0412</td>\n",
       "      <td>-0.0492</td>\n",
       "      <td>-0.0342</td>\n",
       "      <td>-0.0378</td>\n",
       "      <td>-0.0477</td>\n",
       "      <td>0.3417</td>\n",
       "      <td>1.0000</td>\n",
       "      <td>0.0978</td>\n",
       "      <td>0.3332</td>\n",
       "    </tr>\n",
       "    <tr>\n",
       "      <th>success</th>\n",
       "      <td>-0.0135</td>\n",
       "      <td>0.0285</td>\n",
       "      <td>0.0811</td>\n",
       "      <td>0.1512</td>\n",
       "      <td>0.0821</td>\n",
       "      <td>0.0694</td>\n",
       "      <td>0.0608</td>\n",
       "      <td>0.0562</td>\n",
       "      <td>0.0199</td>\n",
       "      <td>0.0265</td>\n",
       "      <td>0.0725</td>\n",
       "      <td>-0.1244</td>\n",
       "      <td>0.0978</td>\n",
       "      <td>1.0000</td>\n",
       "      <td>0.1506</td>\n",
       "    </tr>\n",
       "    <tr>\n",
       "      <th>startup</th>\n",
       "      <td>0.0926</td>\n",
       "      <td>0.0544</td>\n",
       "      <td>-0.0003</td>\n",
       "      <td>0.8579</td>\n",
       "      <td>0.0449</td>\n",
       "      <td>0.0195</td>\n",
       "      <td>0.0198</td>\n",
       "      <td>-0.0034</td>\n",
       "      <td>0.0014</td>\n",
       "      <td>-0.0041</td>\n",
       "      <td>0.0649</td>\n",
       "      <td>0.4903</td>\n",
       "      <td>0.3332</td>\n",
       "      <td>0.1506</td>\n",
       "      <td>1.0000</td>\n",
       "    </tr>\n",
       "  </tbody>\n",
       "</table>\n",
       "</div>"
      ],
      "text/plain": [
       "                   funding_rounds  funding_total_usd  relationships  \\\n",
       "funding_rounds             1.0000             0.3831         0.1652   \n",
       "funding_total_usd          0.3831             1.0000         0.1793   \n",
       "relationships              0.1652             0.1793         1.0000   \n",
       "founded_year               0.1205             0.0910         0.0961   \n",
       "numEntrepreneurs           0.1351             0.2155         0.7342   \n",
       "BA                         0.1135             0.1614         0.4614   \n",
       "BS                         0.1072             0.1458         0.6348   \n",
       "MBA                        0.0987             0.1664         0.5639   \n",
       "MS                         0.0580             0.1017         0.4024   \n",
       "PhD                        0.0351             0.0817         0.3367   \n",
       "unknown                    0.1294             0.1863         0.5787   \n",
       "public_at                  0.3613             0.2118        -0.3680   \n",
       "acquired_at                0.1356             0.0346        -0.1706   \n",
       "success                   -0.0135             0.0285         0.0811   \n",
       "startup                    0.0926             0.0544        -0.0003   \n",
       "\n",
       "                   founded_year  numEntrepreneurs      BA      BS     MBA  \\\n",
       "funding_rounds           0.1205            0.1351  0.1135  0.1072  0.0987   \n",
       "funding_total_usd        0.0910            0.2155  0.1614  0.1458  0.1664   \n",
       "relationships            0.0961            0.7342  0.4614  0.6348  0.5639   \n",
       "founded_year             1.0000            0.0971  0.0554  0.0590  0.0500   \n",
       "numEntrepreneurs         0.0971            1.0000  0.6124  0.7703  0.6383   \n",
       "BA                       0.0554            0.6124  1.0000  0.4389  0.3521   \n",
       "BS                       0.0590            0.7703  0.4389  1.0000  0.4745   \n",
       "MBA                      0.0500            0.6383  0.3521  0.4745  1.0000   \n",
       "MS                       0.0312            0.5133  0.2503  0.3874  0.3245   \n",
       "PhD                      0.0187            0.3763  0.1899  0.2959  0.2475   \n",
       "unknown                  0.1044            0.8892  0.3934  0.5039  0.4306   \n",
       "public_at                0.1954           -0.1012 -0.0805 -0.1264 -0.1126   \n",
       "acquired_at              0.1610           -0.0677 -0.0483 -0.0412 -0.0492   \n",
       "success                  0.1512            0.0821  0.0694  0.0608  0.0562   \n",
       "startup                  0.8579            0.0449  0.0195  0.0198 -0.0034   \n",
       "\n",
       "                       MS     PhD  unknown  public_at  acquired_at  success  \\\n",
       "funding_rounds     0.0580  0.0351   0.1294     0.3613       0.1356  -0.0135   \n",
       "funding_total_usd  0.1017  0.0817   0.1863     0.2118       0.0346   0.0285   \n",
       "relationships      0.4024  0.3367   0.5787    -0.3680      -0.1706   0.0811   \n",
       "founded_year       0.0312  0.0187   0.1044     0.1954       0.1610   0.1512   \n",
       "numEntrepreneurs   0.5133  0.3763   0.8892    -0.1012      -0.0677   0.0821   \n",
       "BA                 0.2503  0.1899   0.3934    -0.0805      -0.0483   0.0694   \n",
       "BS                 0.3874  0.2959   0.5039    -0.1264      -0.0412   0.0608   \n",
       "MBA                0.3245  0.2475   0.4306    -0.1126      -0.0492   0.0562   \n",
       "MS                 1.0000  0.1763   0.3242    -0.1222      -0.0342   0.0199   \n",
       "PhD                0.1763  1.0000   0.2509    -0.1238      -0.0378   0.0265   \n",
       "unknown            0.3242  0.2509   1.0000    -0.0758      -0.0477   0.0725   \n",
       "public_at         -0.1222 -0.1238  -0.0758     1.0000       0.3417  -0.1244   \n",
       "acquired_at       -0.0342 -0.0378  -0.0477     0.3417       1.0000   0.0978   \n",
       "success            0.0199  0.0265   0.0725    -0.1244       0.0978   1.0000   \n",
       "startup            0.0014 -0.0041   0.0649     0.4903       0.3332   0.1506   \n",
       "\n",
       "                   startup  \n",
       "funding_rounds      0.0926  \n",
       "funding_total_usd   0.0544  \n",
       "relationships      -0.0003  \n",
       "founded_year        0.8579  \n",
       "numEntrepreneurs    0.0449  \n",
       "BA                  0.0195  \n",
       "BS                  0.0198  \n",
       "MBA                -0.0034  \n",
       "MS                  0.0014  \n",
       "PhD                -0.0041  \n",
       "unknown             0.0649  \n",
       "public_at           0.4903  \n",
       "acquired_at         0.3332  \n",
       "success             0.1506  \n",
       "startup             1.0000  "
      ]
     },
     "execution_count": 50,
     "metadata": {},
     "output_type": "execute_result"
    }
   ],
   "source": [
    "# 对数据类型是数字的特征（包括刚特征化的企业运营状况）计算相关系数\n",
    "master.corr()"
   ]
  },
  {
   "cell_type": "code",
   "execution_count": 51,
   "metadata": {
    "ExecuteTime": {
     "end_time": "2021-05-23T14:11:41.423172Z",
     "start_time": "2021-05-23T14:11:41.362334Z"
    },
    "code_folding": [],
    "hidden": true
   },
   "outputs": [
    {
     "data": {
      "text/html": [
       "<div>\n",
       "<style scoped>\n",
       "    .dataframe tbody tr th:only-of-type {\n",
       "        vertical-align: middle;\n",
       "    }\n",
       "\n",
       "    .dataframe tbody tr th {\n",
       "        vertical-align: top;\n",
       "    }\n",
       "\n",
       "    .dataframe thead th {\n",
       "        text-align: right;\n",
       "    }\n",
       "</style>\n",
       "<table border=\"1\" class=\"dataframe\">\n",
       "  <thead>\n",
       "    <tr style=\"text-align: right;\">\n",
       "      <th></th>\n",
       "      <th>count</th>\n",
       "      <th>mean</th>\n",
       "      <th>std</th>\n",
       "      <th>min</th>\n",
       "      <th>25%</th>\n",
       "      <th>50%</th>\n",
       "      <th>75%</th>\n",
       "      <th>max</th>\n",
       "    </tr>\n",
       "  </thead>\n",
       "  <tbody>\n",
       "    <tr>\n",
       "      <th>funding_rounds</th>\n",
       "      <td>6369.0000</td>\n",
       "      <td>2.0722</td>\n",
       "      <td>1.5070</td>\n",
       "      <td>1.0000</td>\n",
       "      <td>1.0000</td>\n",
       "      <td>2.0000</td>\n",
       "      <td>3.0000</td>\n",
       "      <td>15.0000</td>\n",
       "    </tr>\n",
       "    <tr>\n",
       "      <th>funding_total_usd</th>\n",
       "      <td>22898.0000</td>\n",
       "      <td>4985194.9232</td>\n",
       "      <td>37493214.1605</td>\n",
       "      <td>0.0000</td>\n",
       "      <td>0.0000</td>\n",
       "      <td>0.0000</td>\n",
       "      <td>0.0000</td>\n",
       "      <td>2425700000.0000</td>\n",
       "    </tr>\n",
       "    <tr>\n",
       "      <th>relationships</th>\n",
       "      <td>22816.0000</td>\n",
       "      <td>5.4897</td>\n",
       "      <td>20.3314</td>\n",
       "      <td>1.0000</td>\n",
       "      <td>1.0000</td>\n",
       "      <td>2.0000</td>\n",
       "      <td>5.0000</td>\n",
       "      <td>1189.0000</td>\n",
       "    </tr>\n",
       "    <tr>\n",
       "      <th>founded_year</th>\n",
       "      <td>22898.0000</td>\n",
       "      <td>1219.8994</td>\n",
       "      <td>979.4770</td>\n",
       "      <td>0.0000</td>\n",
       "      <td>0.0000</td>\n",
       "      <td>2003.0000</td>\n",
       "      <td>2009.0000</td>\n",
       "      <td>2013.0000</td>\n",
       "    </tr>\n",
       "    <tr>\n",
       "      <th>numEntrepreneurs</th>\n",
       "      <td>22898.0000</td>\n",
       "      <td>1.5105</td>\n",
       "      <td>2.7657</td>\n",
       "      <td>1.0000</td>\n",
       "      <td>1.0000</td>\n",
       "      <td>1.0000</td>\n",
       "      <td>1.0000</td>\n",
       "      <td>244.0000</td>\n",
       "    </tr>\n",
       "    <tr>\n",
       "      <th>BA</th>\n",
       "      <td>22898.0000</td>\n",
       "      <td>0.1331</td>\n",
       "      <td>0.4875</td>\n",
       "      <td>0.0000</td>\n",
       "      <td>0.0000</td>\n",
       "      <td>0.0000</td>\n",
       "      <td>0.0000</td>\n",
       "      <td>23.0000</td>\n",
       "    </tr>\n",
       "    <tr>\n",
       "      <th>BS</th>\n",
       "      <td>22898.0000</td>\n",
       "      <td>0.2097</td>\n",
       "      <td>0.7546</td>\n",
       "      <td>0.0000</td>\n",
       "      <td>0.0000</td>\n",
       "      <td>0.0000</td>\n",
       "      <td>0.0000</td>\n",
       "      <td>55.0000</td>\n",
       "    </tr>\n",
       "    <tr>\n",
       "      <th>MBA</th>\n",
       "      <td>22898.0000</td>\n",
       "      <td>0.0924</td>\n",
       "      <td>0.4133</td>\n",
       "      <td>0.0000</td>\n",
       "      <td>0.0000</td>\n",
       "      <td>0.0000</td>\n",
       "      <td>0.0000</td>\n",
       "      <td>24.0000</td>\n",
       "    </tr>\n",
       "    <tr>\n",
       "      <th>MS</th>\n",
       "      <td>22898.0000</td>\n",
       "      <td>0.0781</td>\n",
       "      <td>0.3357</td>\n",
       "      <td>0.0000</td>\n",
       "      <td>0.0000</td>\n",
       "      <td>0.0000</td>\n",
       "      <td>0.0000</td>\n",
       "      <td>21.0000</td>\n",
       "    </tr>\n",
       "    <tr>\n",
       "      <th>PhD</th>\n",
       "      <td>22898.0000</td>\n",
       "      <td>0.0229</td>\n",
       "      <td>0.1727</td>\n",
       "      <td>0.0000</td>\n",
       "      <td>0.0000</td>\n",
       "      <td>0.0000</td>\n",
       "      <td>0.0000</td>\n",
       "      <td>7.0000</td>\n",
       "    </tr>\n",
       "    <tr>\n",
       "      <th>unknown</th>\n",
       "      <td>22898.0000</td>\n",
       "      <td>0.9745</td>\n",
       "      <td>1.5573</td>\n",
       "      <td>0.0000</td>\n",
       "      <td>0.0000</td>\n",
       "      <td>1.0000</td>\n",
       "      <td>1.0000</td>\n",
       "      <td>116.0000</td>\n",
       "    </tr>\n",
       "    <tr>\n",
       "      <th>public_at</th>\n",
       "      <td>227.0000</td>\n",
       "      <td>2002.5771</td>\n",
       "      <td>10.0682</td>\n",
       "      <td>1969.0000</td>\n",
       "      <td>1998.0000</td>\n",
       "      <td>2006.0000</td>\n",
       "      <td>2011.0000</td>\n",
       "      <td>2013.0000</td>\n",
       "    </tr>\n",
       "    <tr>\n",
       "      <th>acquired_at</th>\n",
       "      <td>1576.0000</td>\n",
       "      <td>2009.9416</td>\n",
       "      <td>2.9232</td>\n",
       "      <td>1974.0000</td>\n",
       "      <td>2009.0000</td>\n",
       "      <td>2010.0000</td>\n",
       "      <td>2012.0000</td>\n",
       "      <td>2013.0000</td>\n",
       "    </tr>\n",
       "    <tr>\n",
       "      <th>success</th>\n",
       "      <td>22898.0000</td>\n",
       "      <td>0.0342</td>\n",
       "      <td>0.1817</td>\n",
       "      <td>0.0000</td>\n",
       "      <td>0.0000</td>\n",
       "      <td>0.0000</td>\n",
       "      <td>0.0000</td>\n",
       "      <td>1.0000</td>\n",
       "    </tr>\n",
       "    <tr>\n",
       "      <th>startup</th>\n",
       "      <td>22898.0000</td>\n",
       "      <td>0.5317</td>\n",
       "      <td>0.4990</td>\n",
       "      <td>0.0000</td>\n",
       "      <td>0.0000</td>\n",
       "      <td>1.0000</td>\n",
       "      <td>1.0000</td>\n",
       "      <td>1.0000</td>\n",
       "    </tr>\n",
       "  </tbody>\n",
       "</table>\n",
       "</div>"
      ],
      "text/plain": [
       "                       count         mean           std       min       25%  \\\n",
       "funding_rounds     6369.0000       2.0722        1.5070    1.0000    1.0000   \n",
       "funding_total_usd 22898.0000 4985194.9232 37493214.1605    0.0000    0.0000   \n",
       "relationships     22816.0000       5.4897       20.3314    1.0000    1.0000   \n",
       "founded_year      22898.0000    1219.8994      979.4770    0.0000    0.0000   \n",
       "numEntrepreneurs  22898.0000       1.5105        2.7657    1.0000    1.0000   \n",
       "BA                22898.0000       0.1331        0.4875    0.0000    0.0000   \n",
       "BS                22898.0000       0.2097        0.7546    0.0000    0.0000   \n",
       "MBA               22898.0000       0.0924        0.4133    0.0000    0.0000   \n",
       "MS                22898.0000       0.0781        0.3357    0.0000    0.0000   \n",
       "PhD               22898.0000       0.0229        0.1727    0.0000    0.0000   \n",
       "unknown           22898.0000       0.9745        1.5573    0.0000    0.0000   \n",
       "public_at           227.0000    2002.5771       10.0682 1969.0000 1998.0000   \n",
       "acquired_at        1576.0000    2009.9416        2.9232 1974.0000 2009.0000   \n",
       "success           22898.0000       0.0342        0.1817    0.0000    0.0000   \n",
       "startup           22898.0000       0.5317        0.4990    0.0000    0.0000   \n",
       "\n",
       "                        50%       75%             max  \n",
       "funding_rounds       2.0000    3.0000         15.0000  \n",
       "funding_total_usd    0.0000    0.0000 2425700000.0000  \n",
       "relationships        2.0000    5.0000       1189.0000  \n",
       "founded_year      2003.0000 2009.0000       2013.0000  \n",
       "numEntrepreneurs     1.0000    1.0000        244.0000  \n",
       "BA                   0.0000    0.0000         23.0000  \n",
       "BS                   0.0000    0.0000         55.0000  \n",
       "MBA                  0.0000    0.0000         24.0000  \n",
       "MS                   0.0000    0.0000         21.0000  \n",
       "PhD                  0.0000    0.0000          7.0000  \n",
       "unknown              1.0000    1.0000        116.0000  \n",
       "public_at         2006.0000 2011.0000       2013.0000  \n",
       "acquired_at       2010.0000 2012.0000       2013.0000  \n",
       "success              0.0000    0.0000          1.0000  \n",
       "startup              1.0000    1.0000          1.0000  "
      ]
     },
     "execution_count": 51,
     "metadata": {},
     "output_type": "execute_result"
    }
   ],
   "source": [
    "# 统计一下刚才这些数字特征\n",
    "master.describe().transpose()"
   ]
  },
  {
   "cell_type": "code",
   "execution_count": 52,
   "metadata": {
    "ExecuteTime": {
     "end_time": "2021-05-23T14:11:41.484010Z",
     "start_time": "2021-05-23T14:11:41.424169Z"
    },
    "hidden": true
   },
   "outputs": [
    {
     "data": {
      "text/html": [
       "<div>\n",
       "<style scoped>\n",
       "    .dataframe tbody tr th:only-of-type {\n",
       "        vertical-align: middle;\n",
       "    }\n",
       "\n",
       "    .dataframe tbody tr th {\n",
       "        vertical-align: top;\n",
       "    }\n",
       "\n",
       "    .dataframe thead th {\n",
       "        text-align: right;\n",
       "    }\n",
       "</style>\n",
       "<table border=\"1\" class=\"dataframe\">\n",
       "  <thead>\n",
       "    <tr style=\"text-align: right;\">\n",
       "      <th></th>\n",
       "      <th>count</th>\n",
       "      <th>mean</th>\n",
       "      <th>std</th>\n",
       "      <th>min</th>\n",
       "      <th>25%</th>\n",
       "      <th>50%</th>\n",
       "      <th>75%</th>\n",
       "      <th>max</th>\n",
       "    </tr>\n",
       "  </thead>\n",
       "  <tbody>\n",
       "    <tr>\n",
       "      <th>funding_rounds</th>\n",
       "      <td>5319.0000</td>\n",
       "      <td>2.1342</td>\n",
       "      <td>1.5288</td>\n",
       "      <td>1.0000</td>\n",
       "      <td>1.0000</td>\n",
       "      <td>2.0000</td>\n",
       "      <td>3.0000</td>\n",
       "      <td>15.0000</td>\n",
       "    </tr>\n",
       "    <tr>\n",
       "      <th>funding_total_usd</th>\n",
       "      <td>12175.0000</td>\n",
       "      <td>6898876.2523</td>\n",
       "      <td>43671569.5409</td>\n",
       "      <td>0.0000</td>\n",
       "      <td>0.0000</td>\n",
       "      <td>0.0000</td>\n",
       "      <td>1250000.0000</td>\n",
       "      <td>2425700000.0000</td>\n",
       "    </tr>\n",
       "    <tr>\n",
       "      <th>relationships</th>\n",
       "      <td>12150.0000</td>\n",
       "      <td>5.4834</td>\n",
       "      <td>8.5932</td>\n",
       "      <td>1.0000</td>\n",
       "      <td>2.0000</td>\n",
       "      <td>3.0000</td>\n",
       "      <td>6.0000</td>\n",
       "      <td>473.0000</td>\n",
       "    </tr>\n",
       "    <tr>\n",
       "      <th>founded_year</th>\n",
       "      <td>12175.0000</td>\n",
       "      <td>2008.4537</td>\n",
       "      <td>2.9159</td>\n",
       "      <td>2001.0000</td>\n",
       "      <td>2007.0000</td>\n",
       "      <td>2009.0000</td>\n",
       "      <td>2011.0000</td>\n",
       "      <td>2013.0000</td>\n",
       "    </tr>\n",
       "    <tr>\n",
       "      <th>numEntrepreneurs</th>\n",
       "      <td>12175.0000</td>\n",
       "      <td>1.6269</td>\n",
       "      <td>1.7883</td>\n",
       "      <td>1.0000</td>\n",
       "      <td>1.0000</td>\n",
       "      <td>1.0000</td>\n",
       "      <td>2.0000</td>\n",
       "      <td>63.0000</td>\n",
       "    </tr>\n",
       "    <tr>\n",
       "      <th>BA</th>\n",
       "      <td>12175.0000</td>\n",
       "      <td>0.1420</td>\n",
       "      <td>0.4728</td>\n",
       "      <td>0.0000</td>\n",
       "      <td>0.0000</td>\n",
       "      <td>0.0000</td>\n",
       "      <td>0.0000</td>\n",
       "      <td>22.0000</td>\n",
       "    </tr>\n",
       "    <tr>\n",
       "      <th>BS</th>\n",
       "      <td>12175.0000</td>\n",
       "      <td>0.2237</td>\n",
       "      <td>0.5328</td>\n",
       "      <td>0.0000</td>\n",
       "      <td>0.0000</td>\n",
       "      <td>0.0000</td>\n",
       "      <td>0.0000</td>\n",
       "      <td>14.0000</td>\n",
       "    </tr>\n",
       "    <tr>\n",
       "      <th>MBA</th>\n",
       "      <td>12175.0000</td>\n",
       "      <td>0.0911</td>\n",
       "      <td>0.3364</td>\n",
       "      <td>0.0000</td>\n",
       "      <td>0.0000</td>\n",
       "      <td>0.0000</td>\n",
       "      <td>0.0000</td>\n",
       "      <td>6.0000</td>\n",
       "    </tr>\n",
       "    <tr>\n",
       "      <th>MS</th>\n",
       "      <td>12175.0000</td>\n",
       "      <td>0.0785</td>\n",
       "      <td>0.2966</td>\n",
       "      <td>0.0000</td>\n",
       "      <td>0.0000</td>\n",
       "      <td>0.0000</td>\n",
       "      <td>0.0000</td>\n",
       "      <td>5.0000</td>\n",
       "    </tr>\n",
       "    <tr>\n",
       "      <th>PhD</th>\n",
       "      <td>12175.0000</td>\n",
       "      <td>0.0223</td>\n",
       "      <td>0.1588</td>\n",
       "      <td>0.0000</td>\n",
       "      <td>0.0000</td>\n",
       "      <td>0.0000</td>\n",
       "      <td>0.0000</td>\n",
       "      <td>3.0000</td>\n",
       "    </tr>\n",
       "    <tr>\n",
       "      <th>unknown</th>\n",
       "      <td>12175.0000</td>\n",
       "      <td>1.0694</td>\n",
       "      <td>1.2973</td>\n",
       "      <td>0.0000</td>\n",
       "      <td>0.0000</td>\n",
       "      <td>1.0000</td>\n",
       "      <td>1.0000</td>\n",
       "      <td>37.0000</td>\n",
       "    </tr>\n",
       "    <tr>\n",
       "      <th>public_at</th>\n",
       "      <td>62.0000</td>\n",
       "      <td>2010.6129</td>\n",
       "      <td>2.9273</td>\n",
       "      <td>2001.0000</td>\n",
       "      <td>2010.0000</td>\n",
       "      <td>2012.0000</td>\n",
       "      <td>2013.0000</td>\n",
       "      <td>2013.0000</td>\n",
       "    </tr>\n",
       "    <tr>\n",
       "      <th>acquired_at</th>\n",
       "      <td>970.0000</td>\n",
       "      <td>2010.7113</td>\n",
       "      <td>2.1490</td>\n",
       "      <td>1974.0000</td>\n",
       "      <td>2010.0000</td>\n",
       "      <td>2011.0000</td>\n",
       "      <td>2012.0000</td>\n",
       "      <td>2013.0000</td>\n",
       "    </tr>\n",
       "    <tr>\n",
       "      <th>success</th>\n",
       "      <td>12175.0000</td>\n",
       "      <td>0.0599</td>\n",
       "      <td>0.2373</td>\n",
       "      <td>0.0000</td>\n",
       "      <td>0.0000</td>\n",
       "      <td>0.0000</td>\n",
       "      <td>0.0000</td>\n",
       "      <td>1.0000</td>\n",
       "    </tr>\n",
       "    <tr>\n",
       "      <th>startup</th>\n",
       "      <td>12175.0000</td>\n",
       "      <td>1.0000</td>\n",
       "      <td>0.0000</td>\n",
       "      <td>1.0000</td>\n",
       "      <td>1.0000</td>\n",
       "      <td>1.0000</td>\n",
       "      <td>1.0000</td>\n",
       "      <td>1.0000</td>\n",
       "    </tr>\n",
       "    <tr>\n",
       "      <th>age</th>\n",
       "      <td>12175.0000</td>\n",
       "      <td>4.5463</td>\n",
       "      <td>2.9159</td>\n",
       "      <td>0.0000</td>\n",
       "      <td>2.0000</td>\n",
       "      <td>4.0000</td>\n",
       "      <td>6.0000</td>\n",
       "      <td>12.0000</td>\n",
       "    </tr>\n",
       "  </tbody>\n",
       "</table>\n",
       "</div>"
      ],
      "text/plain": [
       "                       count         mean           std       min       25%  \\\n",
       "funding_rounds     5319.0000       2.1342        1.5288    1.0000    1.0000   \n",
       "funding_total_usd 12175.0000 6898876.2523 43671569.5409    0.0000    0.0000   \n",
       "relationships     12150.0000       5.4834        8.5932    1.0000    2.0000   \n",
       "founded_year      12175.0000    2008.4537        2.9159 2001.0000 2007.0000   \n",
       "numEntrepreneurs  12175.0000       1.6269        1.7883    1.0000    1.0000   \n",
       "BA                12175.0000       0.1420        0.4728    0.0000    0.0000   \n",
       "BS                12175.0000       0.2237        0.5328    0.0000    0.0000   \n",
       "MBA               12175.0000       0.0911        0.3364    0.0000    0.0000   \n",
       "MS                12175.0000       0.0785        0.2966    0.0000    0.0000   \n",
       "PhD               12175.0000       0.0223        0.1588    0.0000    0.0000   \n",
       "unknown           12175.0000       1.0694        1.2973    0.0000    0.0000   \n",
       "public_at            62.0000    2010.6129        2.9273 2001.0000 2010.0000   \n",
       "acquired_at         970.0000    2010.7113        2.1490 1974.0000 2010.0000   \n",
       "success           12175.0000       0.0599        0.2373    0.0000    0.0000   \n",
       "startup           12175.0000       1.0000        0.0000    1.0000    1.0000   \n",
       "age               12175.0000       4.5463        2.9159    0.0000    2.0000   \n",
       "\n",
       "                        50%          75%             max  \n",
       "funding_rounds       2.0000       3.0000         15.0000  \n",
       "funding_total_usd    0.0000 1250000.0000 2425700000.0000  \n",
       "relationships        3.0000       6.0000        473.0000  \n",
       "founded_year      2009.0000    2011.0000       2013.0000  \n",
       "numEntrepreneurs     1.0000       2.0000         63.0000  \n",
       "BA                   0.0000       0.0000         22.0000  \n",
       "BS                   0.0000       0.0000         14.0000  \n",
       "MBA                  0.0000       0.0000          6.0000  \n",
       "MS                   0.0000       0.0000          5.0000  \n",
       "PhD                  0.0000       0.0000          3.0000  \n",
       "unknown              1.0000       1.0000         37.0000  \n",
       "public_at         2012.0000    2013.0000       2013.0000  \n",
       "acquired_at       2011.0000    2012.0000       2013.0000  \n",
       "success              0.0000       0.0000          1.0000  \n",
       "startup              1.0000       1.0000          1.0000  \n",
       "age                  4.0000       6.0000         12.0000  "
      ]
     },
     "execution_count": 52,
     "metadata": {},
     "output_type": "execute_result"
    }
   ],
   "source": [
    "# 统计一下初创公司的数值信息\n",
    "startups.describe().transpose()"
   ]
  },
  {
   "cell_type": "markdown",
   "metadata": {},
   "source": [
    "# 画初创企业的图"
   ]
  },
  {
   "cell_type": "markdown",
   "metadata": {
    "heading_collapsed": true
   },
   "source": [
    "##  画出初创企业的前10个分布国家"
   ]
  },
  {
   "cell_type": "code",
   "execution_count": 53,
   "metadata": {
    "ExecuteTime": {
     "end_time": "2021-05-23T14:11:41.513928Z",
     "start_time": "2021-05-23T14:11:41.485006Z"
    },
    "code_folding": [],
    "hidden": true
   },
   "outputs": [
    {
     "data": {
      "text/html": [
       "<div>\n",
       "<style scoped>\n",
       "    .dataframe tbody tr th:only-of-type {\n",
       "        vertical-align: middle;\n",
       "    }\n",
       "\n",
       "    .dataframe tbody tr th {\n",
       "        vertical-align: top;\n",
       "    }\n",
       "\n",
       "    .dataframe thead th {\n",
       "        text-align: right;\n",
       "    }\n",
       "</style>\n",
       "<table border=\"1\" class=\"dataframe\">\n",
       "  <thead>\n",
       "    <tr style=\"text-align: right;\">\n",
       "      <th></th>\n",
       "      <th>country_code</th>\n",
       "      <th>name</th>\n",
       "      <th>success</th>\n",
       "      <th>fail</th>\n",
       "      <th>success_per</th>\n",
       "    </tr>\n",
       "  </thead>\n",
       "  <tbody>\n",
       "    <tr>\n",
       "      <th>0</th>\n",
       "      <td>USA</td>\n",
       "      <td>6559</td>\n",
       "      <td>540</td>\n",
       "      <td>6019</td>\n",
       "      <td>0.0823</td>\n",
       "    </tr>\n",
       "    <tr>\n",
       "      <th>1</th>\n",
       "      <td>GBR</td>\n",
       "      <td>708</td>\n",
       "      <td>32</td>\n",
       "      <td>676</td>\n",
       "      <td>0.0452</td>\n",
       "    </tr>\n",
       "    <tr>\n",
       "      <th>2</th>\n",
       "      <td>CAN</td>\n",
       "      <td>377</td>\n",
       "      <td>29</td>\n",
       "      <td>348</td>\n",
       "      <td>0.0769</td>\n",
       "    </tr>\n",
       "    <tr>\n",
       "      <th>3</th>\n",
       "      <td>IND</td>\n",
       "      <td>267</td>\n",
       "      <td>3</td>\n",
       "      <td>264</td>\n",
       "      <td>0.0112</td>\n",
       "    </tr>\n",
       "    <tr>\n",
       "      <th>4</th>\n",
       "      <td>DEU</td>\n",
       "      <td>233</td>\n",
       "      <td>9</td>\n",
       "      <td>224</td>\n",
       "      <td>0.0386</td>\n",
       "    </tr>\n",
       "    <tr>\n",
       "      <th>5</th>\n",
       "      <td>FRA</td>\n",
       "      <td>202</td>\n",
       "      <td>6</td>\n",
       "      <td>196</td>\n",
       "      <td>0.0297</td>\n",
       "    </tr>\n",
       "    <tr>\n",
       "      <th>6</th>\n",
       "      <td>ISR</td>\n",
       "      <td>162</td>\n",
       "      <td>10</td>\n",
       "      <td>152</td>\n",
       "      <td>0.0617</td>\n",
       "    </tr>\n",
       "    <tr>\n",
       "      <th>7</th>\n",
       "      <td>ESP</td>\n",
       "      <td>149</td>\n",
       "      <td>4</td>\n",
       "      <td>145</td>\n",
       "      <td>0.0268</td>\n",
       "    </tr>\n",
       "    <tr>\n",
       "      <th>8</th>\n",
       "      <td>AUS</td>\n",
       "      <td>136</td>\n",
       "      <td>1</td>\n",
       "      <td>135</td>\n",
       "      <td>0.0074</td>\n",
       "    </tr>\n",
       "    <tr>\n",
       "      <th>9</th>\n",
       "      <td>NLD</td>\n",
       "      <td>105</td>\n",
       "      <td>3</td>\n",
       "      <td>102</td>\n",
       "      <td>0.0286</td>\n",
       "    </tr>\n",
       "  </tbody>\n",
       "</table>\n",
       "</div>"
      ],
      "text/plain": [
       "  country_code  name  success  fail  success_per\n",
       "0          USA  6559      540  6019       0.0823\n",
       "1          GBR   708       32   676       0.0452\n",
       "2          CAN   377       29   348       0.0769\n",
       "3          IND   267        3   264       0.0112\n",
       "4          DEU   233        9   224       0.0386\n",
       "5          FRA   202        6   196       0.0297\n",
       "6          ISR   162       10   152       0.0617\n",
       "7          ESP   149        4   145       0.0268\n",
       "8          AUS   136        1   135       0.0074\n",
       "9          NLD   105        3   102       0.0286"
      ]
     },
     "execution_count": 53,
     "metadata": {},
     "output_type": "execute_result"
    }
   ],
   "source": [
    "# 数据处理\n",
    "countries_startups = startups.groupby(['country_code']).agg({'name': 'nunique',\n",
    "                                                    'success': \"sum\"}).sort_values(by=\"name\",ascending=False)\n",
    "\n",
    "countries_startups['fail'] = countries_startups['name'] - countries_startups['success']\n",
    "countries_startups['success_per'] = countries_startups['success'] / countries_startups['name']\n",
    "\n",
    "countries_startups=countries_startups.head(10)\n",
    "countries_startups.reset_index(inplace=True)\n",
    "countries_startups"
   ]
  },
  {
   "cell_type": "code",
   "execution_count": 54,
   "metadata": {
    "ExecuteTime": {
     "end_time": "2021-05-23T14:11:43.342041Z",
     "start_time": "2021-05-23T14:11:41.515925Z"
    },
    "code_folding": [],
    "hidden": true
   },
   "outputs": [
    {
     "data": {
      "image/png": "[encoded data removed]",
      "text/plain": [
       "<Figure size 640x480 with 2 Axes>"
      ]
     },
     "metadata": {},
     "output_type": "display_data"
    }
   ],
   "source": [
    "# 画图\n",
    "labels = countries_startups.country_code\n",
    "success_means = countries_startups.success\n",
    "fail_means = countries_startups.fail\n",
    "y2=countries_startups.success_per\n",
    "\n",
    "\n",
    "width = 0.35       # the width of the bars: can also be len(x) sequence\n",
    "fig, ax = plt.subplots()\n",
    "ax2 = ax.twinx()\n",
    "\n",
    "ax.bar(labels,success_means, width, label='success')\n",
    "ax.bar(labels, fail_means, width, bottom=success_means,\n",
    "       label='Fail')\n",
    "ax.set_xlabel('Country')\n",
    "ax.set_ylabel('Startups Num')\n",
    "\n",
    "\n",
    "ax2.set_ylabel('success Rate', color='g')\n",
    "ax2.plot(labels, y2, 'g--')\n",
    "ax.set_title('Number of Startups per Country')\n",
    "ax.legend()\n",
    "# fig.show()\n",
    "fig.savefig('Number_of_Startups_per_Country.png', dpi=1000, transparent=True)"
   ]
  },
  {
   "cell_type": "markdown",
   "metadata": {
    "heading_collapsed": true
   },
   "source": [
    "## 画出初创企业的前十个分布城市"
   ]
  },
  {
   "cell_type": "code",
   "execution_count": 55,
   "metadata": {
    "ExecuteTime": {
     "end_time": "2021-05-23T14:11:43.371960Z",
     "start_time": "2021-05-23T14:11:43.343039Z"
    },
    "hidden": true
   },
   "outputs": [
    {
     "data": {
      "text/html": [
       "<div>\n",
       "<style scoped>\n",
       "    .dataframe tbody tr th:only-of-type {\n",
       "        vertical-align: middle;\n",
       "    }\n",
       "\n",
       "    .dataframe tbody tr th {\n",
       "        vertical-align: top;\n",
       "    }\n",
       "\n",
       "    .dataframe thead th {\n",
       "        text-align: right;\n",
       "    }\n",
       "</style>\n",
       "<table border=\"1\" class=\"dataframe\">\n",
       "  <thead>\n",
       "    <tr style=\"text-align: right;\">\n",
       "      <th></th>\n",
       "      <th>city</th>\n",
       "      <th>name</th>\n",
       "      <th>success</th>\n",
       "      <th>fail</th>\n",
       "      <th>success_per</th>\n",
       "    </tr>\n",
       "  </thead>\n",
       "  <tbody>\n",
       "    <tr>\n",
       "      <th>0</th>\n",
       "      <td>San Francisco</td>\n",
       "      <td>1027</td>\n",
       "      <td>138</td>\n",
       "      <td>889</td>\n",
       "      <td>0.1344</td>\n",
       "    </tr>\n",
       "    <tr>\n",
       "      <th>1</th>\n",
       "      <td>New York</td>\n",
       "      <td>741</td>\n",
       "      <td>61</td>\n",
       "      <td>680</td>\n",
       "      <td>0.0823</td>\n",
       "    </tr>\n",
       "    <tr>\n",
       "      <th>2</th>\n",
       "      <td>London</td>\n",
       "      <td>417</td>\n",
       "      <td>17</td>\n",
       "      <td>400</td>\n",
       "      <td>0.0408</td>\n",
       "    </tr>\n",
       "    <tr>\n",
       "      <th>3</th>\n",
       "      <td>Palo Alto</td>\n",
       "      <td>202</td>\n",
       "      <td>26</td>\n",
       "      <td>176</td>\n",
       "      <td>0.1287</td>\n",
       "    </tr>\n",
       "    <tr>\n",
       "      <th>4</th>\n",
       "      <td>Los Angeles</td>\n",
       "      <td>190</td>\n",
       "      <td>15</td>\n",
       "      <td>175</td>\n",
       "      <td>0.0789</td>\n",
       "    </tr>\n",
       "    <tr>\n",
       "      <th>5</th>\n",
       "      <td>Seattle</td>\n",
       "      <td>175</td>\n",
       "      <td>23</td>\n",
       "      <td>152</td>\n",
       "      <td>0.1314</td>\n",
       "    </tr>\n",
       "    <tr>\n",
       "      <th>6</th>\n",
       "      <td>Mountain View</td>\n",
       "      <td>148</td>\n",
       "      <td>25</td>\n",
       "      <td>123</td>\n",
       "      <td>0.1689</td>\n",
       "    </tr>\n",
       "    <tr>\n",
       "      <th>7</th>\n",
       "      <td>Chicago</td>\n",
       "      <td>147</td>\n",
       "      <td>10</td>\n",
       "      <td>137</td>\n",
       "      <td>0.0680</td>\n",
       "    </tr>\n",
       "    <tr>\n",
       "      <th>8</th>\n",
       "      <td>Austin</td>\n",
       "      <td>137</td>\n",
       "      <td>9</td>\n",
       "      <td>128</td>\n",
       "      <td>0.0657</td>\n",
       "    </tr>\n",
       "    <tr>\n",
       "      <th>9</th>\n",
       "      <td>Paris</td>\n",
       "      <td>120</td>\n",
       "      <td>5</td>\n",
       "      <td>115</td>\n",
       "      <td>0.0417</td>\n",
       "    </tr>\n",
       "  </tbody>\n",
       "</table>\n",
       "</div>"
      ],
      "text/plain": [
       "            city  name  success  fail  success_per\n",
       "0  San Francisco  1027      138   889       0.1344\n",
       "1       New York   741       61   680       0.0823\n",
       "2         London   417       17   400       0.0408\n",
       "3      Palo Alto   202       26   176       0.1287\n",
       "4    Los Angeles   190       15   175       0.0789\n",
       "5        Seattle   175       23   152       0.1314\n",
       "6  Mountain View   148       25   123       0.1689\n",
       "7        Chicago   147       10   137       0.0680\n",
       "8         Austin   137        9   128       0.0657\n",
       "9          Paris   120        5   115       0.0417"
      ]
     },
     "execution_count": 55,
     "metadata": {},
     "output_type": "execute_result"
    }
   ],
   "source": [
    "# 数据处理\n",
    "cities_startups = startups.groupby(['city']).agg({'name': 'nunique',\n",
    "                                                    'success': \"sum\"}).sort_values(by=\"name\",ascending=False)\n",
    "\n",
    "cities_startups['fail'] = cities_startups['name'] - cities_startups['success']\n",
    "cities_startups['success_per'] = cities_startups['success'] / cities_startups['name']\n",
    "\n",
    "cities_startups=cities_startups.head(10)\n",
    "cities_startups.reset_index(inplace=True)\n",
    "cities_startups"
   ]
  },
  {
   "cell_type": "code",
   "execution_count": 56,
   "metadata": {
    "ExecuteTime": {
     "end_time": "2021-05-23T14:11:45.085408Z",
     "start_time": "2021-05-23T14:11:43.373956Z"
    },
    "hidden": true
   },
   "outputs": [
    {
     "data": {
      "image/png": "[encoded data removed]",
      "text/plain": [
       "<Figure size 640x480 with 2 Axes>"
      ]
     },
     "metadata": {},
     "output_type": "display_data"
    }
   ],
   "source": [
    "# 画图\n",
    "labels = cities_startups.city\n",
    "success_means = cities_startups.success\n",
    "fail_means = cities_startups.fail\n",
    "y2=cities_startups.success_per\n",
    "\n",
    "\n",
    "width = 0.35       # the width of the bars: can also be len(x) sequence\n",
    "fig, ax = plt.subplots()\n",
    "ax2 = ax.twinx()\n",
    "\n",
    "ax.bar(labels,success_means, width, label='success')\n",
    "ax.bar(labels, fail_means, width, bottom=success_means,\n",
    "       label='Fail')\n",
    "ax.set_xlabel('City')\n",
    "ax.set_ylabel('Startups Num')\n",
    "\n",
    "\n",
    "ax.set_xticklabels(ax.get_xticklabels(), rotation=40, ha=\"right\") # ha表示文字的哪个位置是对应坐标轴的位置参考\n",
    "\n",
    "ax2.set_ylabel('success Rate', color='g')\n",
    "ax2.plot(labels, y2, 'g--')\n",
    "ax.set_title('Number of Startups per City')\n",
    "ax.legend()\n",
    "# fig.show()\n",
    "fig.savefig('Number_of_Startups_per_City.png', dpi=1000, transparent=True)"
   ]
  },
  {
   "cell_type": "markdown",
   "metadata": {
    "heading_collapsed": true
   },
   "source": [
    "## 画前15个行业分布的初创公司"
   ]
  },
  {
   "cell_type": "code",
   "execution_count": 57,
   "metadata": {
    "ExecuteTime": {
     "end_time": "2021-05-23T14:11:45.115300Z",
     "start_time": "2021-05-23T14:11:45.086376Z"
    },
    "hidden": true
   },
   "outputs": [
    {
     "data": {
      "text/html": [
       "<div>\n",
       "<style scoped>\n",
       "    .dataframe tbody tr th:only-of-type {\n",
       "        vertical-align: middle;\n",
       "    }\n",
       "\n",
       "    .dataframe tbody tr th {\n",
       "        vertical-align: top;\n",
       "    }\n",
       "\n",
       "    .dataframe thead th {\n",
       "        text-align: right;\n",
       "    }\n",
       "</style>\n",
       "<table border=\"1\" class=\"dataframe\">\n",
       "  <thead>\n",
       "    <tr style=\"text-align: right;\">\n",
       "      <th></th>\n",
       "      <th>market</th>\n",
       "      <th>name</th>\n",
       "      <th>success</th>\n",
       "      <th>fail</th>\n",
       "      <th>success_per</th>\n",
       "    </tr>\n",
       "  </thead>\n",
       "  <tbody>\n",
       "    <tr>\n",
       "      <th>0</th>\n",
       "      <td>web</td>\n",
       "      <td>2338</td>\n",
       "      <td>186</td>\n",
       "      <td>2152</td>\n",
       "      <td>0.0796</td>\n",
       "    </tr>\n",
       "    <tr>\n",
       "      <th>1</th>\n",
       "      <td>software</td>\n",
       "      <td>1783</td>\n",
       "      <td>87</td>\n",
       "      <td>1696</td>\n",
       "      <td>0.0488</td>\n",
       "    </tr>\n",
       "    <tr>\n",
       "      <th>2</th>\n",
       "      <td>mobile</td>\n",
       "      <td>967</td>\n",
       "      <td>69</td>\n",
       "      <td>898</td>\n",
       "      <td>0.0714</td>\n",
       "    </tr>\n",
       "    <tr>\n",
       "      <th>3</th>\n",
       "      <td>advertising</td>\n",
       "      <td>855</td>\n",
       "      <td>64</td>\n",
       "      <td>791</td>\n",
       "      <td>0.0749</td>\n",
       "    </tr>\n",
       "    <tr>\n",
       "      <th>4</th>\n",
       "      <td>games_video</td>\n",
       "      <td>796</td>\n",
       "      <td>63</td>\n",
       "      <td>733</td>\n",
       "      <td>0.0791</td>\n",
       "    </tr>\n",
       "    <tr>\n",
       "      <th>5</th>\n",
       "      <td>ecommerce</td>\n",
       "      <td>794</td>\n",
       "      <td>40</td>\n",
       "      <td>754</td>\n",
       "      <td>0.0504</td>\n",
       "    </tr>\n",
       "    <tr>\n",
       "      <th>6</th>\n",
       "      <td>enterprise</td>\n",
       "      <td>677</td>\n",
       "      <td>55</td>\n",
       "      <td>622</td>\n",
       "      <td>0.0812</td>\n",
       "    </tr>\n",
       "    <tr>\n",
       "      <th>7</th>\n",
       "      <td>other</td>\n",
       "      <td>634</td>\n",
       "      <td>19</td>\n",
       "      <td>615</td>\n",
       "      <td>0.0300</td>\n",
       "    </tr>\n",
       "    <tr>\n",
       "      <th>8</th>\n",
       "      <td>consulting</td>\n",
       "      <td>404</td>\n",
       "      <td>6</td>\n",
       "      <td>398</td>\n",
       "      <td>0.0149</td>\n",
       "    </tr>\n",
       "    <tr>\n",
       "      <th>9</th>\n",
       "      <td>public_relations</td>\n",
       "      <td>287</td>\n",
       "      <td>7</td>\n",
       "      <td>280</td>\n",
       "      <td>0.0244</td>\n",
       "    </tr>\n",
       "  </tbody>\n",
       "</table>\n",
       "</div>"
      ],
      "text/plain": [
       "             market  name  success  fail  success_per\n",
       "0               web  2338      186  2152       0.0796\n",
       "1          software  1783       87  1696       0.0488\n",
       "2            mobile   967       69   898       0.0714\n",
       "3       advertising   855       64   791       0.0749\n",
       "4       games_video   796       63   733       0.0791\n",
       "5         ecommerce   794       40   754       0.0504\n",
       "6        enterprise   677       55   622       0.0812\n",
       "7             other   634       19   615       0.0300\n",
       "8        consulting   404        6   398       0.0149\n",
       "9  public_relations   287        7   280       0.0244"
      ]
     },
     "execution_count": 57,
     "metadata": {},
     "output_type": "execute_result"
    }
   ],
   "source": [
    "# 数据处理\n",
    "industry_startups = startups.groupby(['market']).agg({'name': 'nunique',\n",
    "                                                    'success': \"sum\"}).sort_values(by=\"name\",ascending=False)\n",
    "\n",
    "industry_startups['fail'] = industry_startups['name'] - industry_startups['success']\n",
    "industry_startups['success_per'] = industry_startups['success'] / industry_startups['name']\n",
    "\n",
    "industry_startups=industry_startups.head(10)\n",
    "industry_startups.reset_index(inplace=True)\n",
    "industry_startups"
   ]
  },
  {
   "cell_type": "code",
   "execution_count": 58,
   "metadata": {
    "ExecuteTime": {
     "end_time": "2021-05-23T14:11:46.844675Z",
     "start_time": "2021-05-23T14:11:45.117294Z"
    },
    "hidden": true
   },
   "outputs": [
    {
     "data": {
      "image/png": "[encoded data removed]",
      "text/plain": [
       "<Figure size 640x480 with 2 Axes>"
      ]
     },
     "metadata": {},
     "output_type": "display_data"
    }
   ],
   "source": [
    "# 画图\n",
    "labels = industry_startups.market\n",
    "success_means = industry_startups.success\n",
    "fail_means = industry_startups.fail\n",
    "y2=industry_startups.success_per\n",
    "\n",
    "\n",
    "width = 0.35       # the width of the bars: can also be len(x) sequence\n",
    "fig, ax = plt.subplots()\n",
    "ax2 = ax.twinx()\n",
    "\n",
    "ax.bar(labels,success_means, width, label='success')\n",
    "ax.bar(labels, fail_means, width, bottom=success_means,\n",
    "       label='Fail')\n",
    "ax.set_xlabel('Market')\n",
    "ax.set_ylabel('Startups Num')\n",
    "\n",
    "\n",
    "ax.set_xticklabels(ax.get_xticklabels(), rotation=40, ha=\"right\") # ha表示文字的哪个位置是对应坐标轴的位置参考\n",
    "\n",
    "ax2.set_ylabel('success Rate', color='g')\n",
    "ax2.plot(labels, y2, 'g--')\n",
    "ax.set_title('Number of Startups per Market')\n",
    "ax.legend()\n",
    "# fig.show()\n",
    "fig.savefig('Number_of_Startups_per_Market.png', dpi=1000, transparent=True)"
   ]
  },
  {
   "cell_type": "markdown",
   "metadata": {
    "heading_collapsed": true
   },
   "source": [
    "## 画教育信息的图"
   ]
  },
  {
   "cell_type": "code",
   "execution_count": 59,
   "metadata": {
    "ExecuteTime": {
     "end_time": "2021-05-23T14:11:46.874594Z",
     "start_time": "2021-05-23T14:11:46.846669Z"
    },
    "hidden": true
   },
   "outputs": [
    {
     "data": {
      "text/html": [
       "<div>\n",
       "<style scoped>\n",
       "    .dataframe tbody tr th:only-of-type {\n",
       "        vertical-align: middle;\n",
       "    }\n",
       "\n",
       "    .dataframe tbody tr th {\n",
       "        vertical-align: top;\n",
       "    }\n",
       "\n",
       "    .dataframe thead th {\n",
       "        text-align: right;\n",
       "    }\n",
       "</style>\n",
       "<table border=\"1\" class=\"dataframe\">\n",
       "  <thead>\n",
       "    <tr style=\"text-align: right;\">\n",
       "      <th></th>\n",
       "      <th>id</th>\n",
       "      <th>name</th>\n",
       "      <th>market</th>\n",
       "      <th>status</th>\n",
       "      <th>country_code</th>\n",
       "      <th>city</th>\n",
       "      <th>funding_rounds</th>\n",
       "      <th>funding_total_usd</th>\n",
       "      <th>relationships</th>\n",
       "      <th>founded_year</th>\n",
       "      <th>...</th>\n",
       "      <th>BS</th>\n",
       "      <th>MBA</th>\n",
       "      <th>MS</th>\n",
       "      <th>PhD</th>\n",
       "      <th>unknown</th>\n",
       "      <th>public_at</th>\n",
       "      <th>acquired_at</th>\n",
       "      <th>success</th>\n",
       "      <th>startup</th>\n",
       "      <th>age</th>\n",
       "    </tr>\n",
       "  </thead>\n",
       "  <tbody>\n",
       "    <tr>\n",
       "      <th>0</th>\n",
       "      <td>c:1</td>\n",
       "      <td>Wetpaint</td>\n",
       "      <td>web</td>\n",
       "      <td>operating</td>\n",
       "      <td>USA</td>\n",
       "      <td>Seattle</td>\n",
       "      <td>3.0000</td>\n",
       "      <td>39750000.0000</td>\n",
       "      <td>17.0000</td>\n",
       "      <td>2005.0000</td>\n",
       "      <td>...</td>\n",
       "      <td>0.0000</td>\n",
       "      <td>0.0000</td>\n",
       "      <td>0.0000</td>\n",
       "      <td>0.0000</td>\n",
       "      <td>2.0000</td>\n",
       "      <td>nan</td>\n",
       "      <td>nan</td>\n",
       "      <td>0</td>\n",
       "      <td>1</td>\n",
       "      <td>8.0000</td>\n",
       "    </tr>\n",
       "    <tr>\n",
       "      <th>3</th>\n",
       "      <td>c:10002</td>\n",
       "      <td>Synergie Media</td>\n",
       "      <td>advertising</td>\n",
       "      <td>operating</td>\n",
       "      <td>MAR</td>\n",
       "      <td>Agadir</td>\n",
       "      <td>nan</td>\n",
       "      <td>0.0000</td>\n",
       "      <td>2.0000</td>\n",
       "      <td>2007.0000</td>\n",
       "      <td>...</td>\n",
       "      <td>0.0000</td>\n",
       "      <td>0.0000</td>\n",
       "      <td>1.0000</td>\n",
       "      <td>0.0000</td>\n",
       "      <td>0.0000</td>\n",
       "      <td>nan</td>\n",
       "      <td>nan</td>\n",
       "      <td>0</td>\n",
       "      <td>1</td>\n",
       "      <td>6.0000</td>\n",
       "    </tr>\n",
       "    <tr>\n",
       "      <th>4</th>\n",
       "      <td>c:1001</td>\n",
       "      <td>FriendFeed</td>\n",
       "      <td>web</td>\n",
       "      <td>acquired</td>\n",
       "      <td>USA</td>\n",
       "      <td>Mountain View</td>\n",
       "      <td>1.0000</td>\n",
       "      <td>5000000.0000</td>\n",
       "      <td>14.0000</td>\n",
       "      <td>2007.0000</td>\n",
       "      <td>...</td>\n",
       "      <td>1.0000</td>\n",
       "      <td>0.0000</td>\n",
       "      <td>1.0000</td>\n",
       "      <td>0.0000</td>\n",
       "      <td>0.0000</td>\n",
       "      <td>nan</td>\n",
       "      <td>2009.0000</td>\n",
       "      <td>1</td>\n",
       "      <td>1</td>\n",
       "      <td>6.0000</td>\n",
       "    </tr>\n",
       "    <tr>\n",
       "      <th>5</th>\n",
       "      <td>c:10011</td>\n",
       "      <td>PoetryVisualized.com</td>\n",
       "      <td>games_video</td>\n",
       "      <td>operating</td>\n",
       "      <td>USA</td>\n",
       "      <td>Julian</td>\n",
       "      <td>nan</td>\n",
       "      <td>0.0000</td>\n",
       "      <td>3.0000</td>\n",
       "      <td>2008.0000</td>\n",
       "      <td>...</td>\n",
       "      <td>0.0000</td>\n",
       "      <td>0.0000</td>\n",
       "      <td>0.0000</td>\n",
       "      <td>0.0000</td>\n",
       "      <td>2.0000</td>\n",
       "      <td>nan</td>\n",
       "      <td>nan</td>\n",
       "      <td>0</td>\n",
       "      <td>1</td>\n",
       "      <td>5.0000</td>\n",
       "    </tr>\n",
       "    <tr>\n",
       "      <th>6</th>\n",
       "      <td>c:10014</td>\n",
       "      <td>Mobclix</td>\n",
       "      <td>mobile</td>\n",
       "      <td>acquired</td>\n",
       "      <td>USA</td>\n",
       "      <td>Palo Alto</td>\n",
       "      <td>1.0000</td>\n",
       "      <td>0.0000</td>\n",
       "      <td>9.0000</td>\n",
       "      <td>2008.0000</td>\n",
       "      <td>...</td>\n",
       "      <td>0.0000</td>\n",
       "      <td>0.0000</td>\n",
       "      <td>1.0000</td>\n",
       "      <td>0.0000</td>\n",
       "      <td>4.0000</td>\n",
       "      <td>nan</td>\n",
       "      <td>2010.0000</td>\n",
       "      <td>1</td>\n",
       "      <td>1</td>\n",
       "      <td>5.0000</td>\n",
       "    </tr>\n",
       "  </tbody>\n",
       "</table>\n",
       "<p>5 rows × 22 columns</p>\n",
       "</div>"
      ],
      "text/plain": [
       "        id                  name       market     status country_code  \\\n",
       "0      c:1              Wetpaint          web  operating          USA   \n",
       "3  c:10002        Synergie Media  advertising  operating          MAR   \n",
       "4   c:1001            FriendFeed          web   acquired          USA   \n",
       "5  c:10011  PoetryVisualized.com  games_video  operating          USA   \n",
       "6  c:10014               Mobclix       mobile   acquired          USA   \n",
       "\n",
       "            city  funding_rounds  funding_total_usd  relationships  \\\n",
       "0        Seattle          3.0000      39750000.0000        17.0000   \n",
       "3         Agadir             nan             0.0000         2.0000   \n",
       "4  Mountain View          1.0000       5000000.0000        14.0000   \n",
       "5         Julian             nan             0.0000         3.0000   \n",
       "6      Palo Alto          1.0000             0.0000         9.0000   \n",
       "\n",
       "   founded_year  ...     BS    MBA     MS    PhD  unknown  public_at  \\\n",
       "0     2005.0000  ... 0.0000 0.0000 0.0000 0.0000   2.0000        nan   \n",
       "3     2007.0000  ... 0.0000 0.0000 1.0000 0.0000   0.0000        nan   \n",
       "4     2007.0000  ... 1.0000 0.0000 1.0000 0.0000   0.0000        nan   \n",
       "5     2008.0000  ... 0.0000 0.0000 0.0000 0.0000   2.0000        nan   \n",
       "6     2008.0000  ... 0.0000 0.0000 1.0000 0.0000   4.0000        nan   \n",
       "\n",
       "   acquired_at  success  startup    age  \n",
       "0          nan        0        1 8.0000  \n",
       "3          nan        0        1 6.0000  \n",
       "4    2009.0000        1        1 6.0000  \n",
       "5          nan        0        1 5.0000  \n",
       "6    2010.0000        1        1 5.0000  \n",
       "\n",
       "[5 rows x 22 columns]"
      ]
     },
     "execution_count": 59,
     "metadata": {},
     "output_type": "execute_result"
    }
   ],
   "source": [
    "startups.head()"
   ]
  },
  {
   "cell_type": "code",
   "execution_count": 60,
   "metadata": {
    "ExecuteTime": {
     "end_time": "2021-05-23T14:11:46.904514Z",
     "start_time": "2021-05-23T14:11:46.876590Z"
    },
    "hidden": true
   },
   "outputs": [
    {
     "data": {
      "text/html": [
       "<div>\n",
       "<style scoped>\n",
       "    .dataframe tbody tr th:only-of-type {\n",
       "        vertical-align: middle;\n",
       "    }\n",
       "\n",
       "    .dataframe tbody tr th {\n",
       "        vertical-align: top;\n",
       "    }\n",
       "\n",
       "    .dataframe thead th {\n",
       "        text-align: right;\n",
       "    }\n",
       "</style>\n",
       "<table border=\"1\" class=\"dataframe\">\n",
       "  <thead>\n",
       "    <tr style=\"text-align: right;\">\n",
       "      <th></th>\n",
       "      <th>success</th>\n",
       "      <th>BS</th>\n",
       "      <th>BA</th>\n",
       "      <th>MBA</th>\n",
       "      <th>MS</th>\n",
       "      <th>PhD</th>\n",
       "      <th>unknown</th>\n",
       "    </tr>\n",
       "  </thead>\n",
       "  <tbody>\n",
       "    <tr>\n",
       "      <th>0</th>\n",
       "      <td>0</td>\n",
       "      <td>2471.0000</td>\n",
       "      <td>1544.0000</td>\n",
       "      <td>997.0000</td>\n",
       "      <td>900.0000</td>\n",
       "      <td>247.0000</td>\n",
       "      <td>12003.0000</td>\n",
       "    </tr>\n",
       "    <tr>\n",
       "      <th>1</th>\n",
       "      <td>1</td>\n",
       "      <td>253.0000</td>\n",
       "      <td>185.0000</td>\n",
       "      <td>112.0000</td>\n",
       "      <td>56.0000</td>\n",
       "      <td>24.0000</td>\n",
       "      <td>1017.0000</td>\n",
       "    </tr>\n",
       "  </tbody>\n",
       "</table>\n",
       "</div>"
      ],
      "text/plain": [
       "   success        BS        BA      MBA       MS      PhD    unknown\n",
       "0        0 2471.0000 1544.0000 997.0000 900.0000 247.0000 12003.0000\n",
       "1        1  253.0000  185.0000 112.0000  56.0000  24.0000  1017.0000"
      ]
     },
     "execution_count": 60,
     "metadata": {},
     "output_type": "execute_result"
    }
   ],
   "source": [
    "# 数据处理\n",
    "edu_info = startups.groupby(['success']).agg({'BS': 'sum','BA': 'sum','MBA': 'sum','MS': 'sum','PhD': 'sum','unknown': 'sum'})\n",
    "\n",
    "edu_info.reset_index(inplace=True)\n",
    "edu_info"
   ]
  },
  {
   "cell_type": "code",
   "execution_count": 61,
   "metadata": {
    "ExecuteTime": {
     "end_time": "2021-05-23T14:11:50.444077Z",
     "start_time": "2021-05-23T14:11:46.906509Z"
    },
    "hidden": true
   },
   "outputs": [
    {
     "data": {
      "image/png": "[encoded data removed]",
      "text/plain": [
       "<Figure size 800x1200 with 1 Axes>"
      ]
     },
     "metadata": {},
     "output_type": "display_data"
    }
   ],
   "source": [
    "# 画图(有unknown)\n",
    "labels = ['fail','success']\n",
    "BS_means = edu_info.BS\n",
    "BA_means = edu_info.BA\n",
    "MS_means = edu_info.MS\n",
    "MBA_means = edu_info.MBA\n",
    "PhD_means = edu_info.PhD\n",
    "unknown_means = edu_info.unknown\n",
    "\n",
    "\n",
    "width = 0.35       # the width of the bars: can also be len(x) sequence\n",
    "fig, ax = plt.subplots(figsize=(8,12))\n",
    "\n",
    "ax.bar(labels,BS_means, width, label='BS')\n",
    "ax.bar(labels, BA_means, width, bottom=BS_means,label='BA')\n",
    "ax.bar(labels, MS_means, width, bottom=BS_means+BA_means,label='MS')\n",
    "ax.bar(labels, MBA_means, width, bottom=BS_means+BA_means+MS_means,label='MBA')\n",
    "ax.bar(labels, PhD_means, width, bottom=BS_means+BA_means+MS_means+MBA_means,label='PhD')\n",
    "ax.bar(labels, unknown_means, width, bottom=BS_means+BA_means+MS_means+MBA_means+PhD_means,label='unknown')\n",
    "\n",
    "\n",
    "ax.set_xlabel('Status of Startups')\n",
    "ax.set_ylabel('Num of Entrepreneurs with Different Education Levels')\n",
    "ax.set_title('Relationships between Education Levels and success')\n",
    "ax.legend()\n",
    "# fig.show()\n",
    "fig.savefig('Relationships_between_Education_Levels_and_success(with unknown).png', dpi=1000, transparent=True)"
   ]
  },
  {
   "cell_type": "code",
   "execution_count": 62,
   "metadata": {
    "ExecuteTime": {
     "end_time": "2021-05-23T14:11:53.839969Z",
     "start_time": "2021-05-23T14:11:50.445046Z"
    },
    "code_folding": [],
    "hidden": true
   },
   "outputs": [
    {
     "data": {
      "image/png": "[encoded data removed]",
      "text/plain": [
       "<Figure size 800x1200 with 1 Axes>"
      ]
     },
     "metadata": {},
     "output_type": "display_data"
    }
   ],
   "source": [
    "# 画图(无unknown)\n",
    "labels = ['fail','success']\n",
    "BS_means = edu_info.BS\n",
    "BA_means = edu_info.BA\n",
    "MS_means = edu_info.MS\n",
    "MBA_means = edu_info.MBA\n",
    "PhD_means = edu_info.PhD\n",
    "unknown_means = edu_info.unknown\n",
    "\n",
    "\n",
    "width = 0.35       # the width of the bars: can also be len(x) sequence\n",
    "fig, ax = plt.subplots(figsize=(8,12))\n",
    "\n",
    "ax.bar(labels,BS_means, width, label='BS')\n",
    "ax.bar(labels, BA_means, width, bottom=BS_means,label='BA')\n",
    "ax.bar(labels, MS_means, width, bottom=BS_means+BA_means,label='MS')\n",
    "ax.bar(labels, MBA_means, width, bottom=BS_means+BA_means+MS_means,label='MBA')\n",
    "ax.bar(labels, PhD_means, width, bottom=BS_means+BA_means+MS_means+MBA_means,label='PhD')\n",
    "\n",
    "\n",
    "ax.set_xlabel('Status of Startups')\n",
    "ax.set_ylabel('Num of Entrepreneurs with Different Education Levels')\n",
    "\n",
    "\n",
    "ax.set_title('Relationships between Education Levels and success')\n",
    "ax.legend()\n",
    "# fig.show()\n",
    "fig.savefig('Relationships_between_Education_Levels_and_success(without unknown).png', dpi=1000, transparent=True)"
   ]
  },
  {
   "cell_type": "markdown",
   "metadata": {
    "heading_collapsed": true
   },
   "source": [
    "## 画每年的初创公司密度分布"
   ]
  },
  {
   "cell_type": "code",
   "execution_count": 63,
   "metadata": {
    "ExecuteTime": {
     "end_time": "2021-05-23T14:11:54.630854Z",
     "start_time": "2021-05-23T14:11:53.840965Z"
    },
    "hidden": true
   },
   "outputs": [
    {
     "data": {
      "image/png": "[encoded data removed]",
      "text/plain": [
       "<Figure size 1600x800 with 1 Axes>"
      ]
     },
     "metadata": {},
     "output_type": "display_data"
    }
   ],
   "source": [
    "plt.figure(figsize=(16,8))\n",
    "sns.kdeplot(startups['founded_year'], color=\"black\", legend=False)\n",
    "plt.xlabel('founded year',fontsize=14)\n",
    "plt.ylabel('density',fontsize=14)\n",
    "plt.tight_layout()\n",
    "plt.title('Proportion of companies by founding year')\n",
    "plt.savefig('year_of_founding.png', dpi=300, transparent=True)"
   ]
  },
  {
   "cell_type": "markdown",
   "metadata": {
    "heading_collapsed": true
   },
   "source": [
    "# 为了正确选择特征处理数据"
   ]
  },
  {
   "cell_type": "code",
   "execution_count": 64,
   "metadata": {
    "ExecuteTime": {
     "end_time": "2021-05-23T14:11:54.645843Z",
     "start_time": "2021-05-23T14:11:54.631851Z"
    },
    "code_folding": [],
    "hidden": true
   },
   "outputs": [],
   "source": [
    "# 选一些参数参与训练，并且将含有缺失值的数据行删除，第二次数据锐减，这里可以调整\n",
    "startups_new=startups.drop(['id','name','status','public_at','acquired_at'], axis=1)\n",
    "startups_new=startups_new.dropna(axis=0,subset = ['market', \n",
    "                   'country_code',\n",
    "                   'city',\n",
    "                   'funding_rounds', \n",
    "                   'funding_total_usd',\n",
    "                    'relationships',\n",
    "                   'founded_year', \n",
    "                   'numEntrepreneurs',\n",
    "                   'relationships'\n",
    "                          ])"
   ]
  },
  {
   "cell_type": "code",
   "execution_count": 65,
   "metadata": {
    "ExecuteTime": {
     "end_time": "2021-05-23T14:11:54.661770Z",
     "start_time": "2021-05-23T14:11:54.646811Z"
    },
    "code_folding": [],
    "hidden": true
   },
   "outputs": [
    {
     "data": {
      "text/plain": [
       "0    4498\n",
       "1     492\n",
       "Name: success, dtype: int64"
      ]
     },
     "execution_count": 65,
     "metadata": {},
     "output_type": "execute_result"
    }
   ],
   "source": [
    "# 看一眼剩下的数据规模和成功企业比例\n",
    "startups_new.success.value_counts()"
   ]
  },
  {
   "cell_type": "code",
   "execution_count": 66,
   "metadata": {
    "ExecuteTime": {
     "end_time": "2021-05-23T14:11:54.677728Z",
     "start_time": "2021-05-23T14:11:54.663765Z"
    },
    "code_folding": [],
    "hidden": true
   },
   "outputs": [],
   "source": [
    "# 提取标签\n",
    "st_status = startups_new[['success']]"
   ]
  },
  {
   "cell_type": "code",
   "execution_count": 67,
   "metadata": {
    "ExecuteTime": {
     "end_time": "2021-05-23T14:11:54.693713Z",
     "start_time": "2021-05-23T14:11:54.678726Z"
    },
    "code_folding": [],
    "hidden": true
   },
   "outputs": [],
   "source": [
    "# 提取特征\n",
    "st_features = startups_new.drop('success',axis=1)"
   ]
  },
  {
   "cell_type": "code",
   "execution_count": 68,
   "metadata": {
    "ExecuteTime": {
     "end_time": "2021-05-23T14:11:54.723639Z",
     "start_time": "2021-05-23T14:11:54.698672Z"
    },
    "code_folding": [],
    "hidden": true
   },
   "outputs": [],
   "source": [
    "# 利用pandas的方法实现one hot encode\n",
    "st_features = pd.get_dummies(st_features)"
   ]
  },
  {
   "cell_type": "code",
   "execution_count": 69,
   "metadata": {
    "ExecuteTime": {
     "end_time": "2021-05-23T14:11:54.738595Z",
     "start_time": "2021-05-23T14:11:54.725601Z"
    },
    "code_folding": [],
    "hidden": true
   },
   "outputs": [],
   "source": [
    "# 把label和特征合并在一起\n",
    "st_master = pd.concat([st_status,st_features],axis=1)"
   ]
  },
  {
   "cell_type": "code",
   "execution_count": 70,
   "metadata": {
    "ExecuteTime": {
     "end_time": "2021-05-23T14:11:54.753525Z",
     "start_time": "2021-05-23T14:11:54.740560Z"
    },
    "hidden": true
   },
   "outputs": [],
   "source": [
    "# 初步设置训练集\n",
    "# 后面的列是特征\n",
    "X_log_success = st_master.drop('success',axis=1)\n",
    "# 第一列是label\n",
    "y_log_success = st_master['success']"
   ]
  },
  {
   "cell_type": "code",
   "execution_count": 71,
   "metadata": {
    "ExecuteTime": {
     "end_time": "2021-05-23T14:11:54.814363Z",
     "start_time": "2021-05-23T14:11:54.754523Z"
    },
    "code_folding": [],
    "hidden": true
   },
   "outputs": [],
   "source": [
    "# 特征提取，从我们手动添加的特征中提取5个相关程度最高的特征\n",
    "selector_f = SelectKBest(f_regression, k='all')\n",
    "selector_f.fit(X_log_success, y_log_success)\n",
    "\n",
    "name_var = [X_log_success.columns]\n",
    "var_score = selector_f.scores_\n",
    "\n",
    "kbest = pd.DataFrame(var_score, name_var).sort_values(by=0, ascending=False).head(20).reset_index()\n",
    "kbest.columns = ['var', 'score']"
   ]
  },
  {
   "cell_type": "code",
   "execution_count": 72,
   "metadata": {
    "ExecuteTime": {
     "end_time": "2021-05-23T14:11:54.829323Z",
     "start_time": "2021-05-23T14:11:54.815360Z"
    },
    "hidden": true
   },
   "outputs": [],
   "source": [
    "f_reg_var = kbest['var'].tolist()"
   ]
  },
  {
   "cell_type": "code",
   "execution_count": 73,
   "metadata": {
    "ExecuteTime": {
     "end_time": "2021-05-23T14:11:54.845280Z",
     "start_time": "2021-05-23T14:11:54.830321Z"
    },
    "hidden": true
   },
   "outputs": [
    {
     "data": {
      "text/plain": [
       "['country_code_USA',\n",
       " 'city_San Francisco',\n",
       " 'market_web',\n",
       " 'founded_year',\n",
       " 'age',\n",
       " 'numEntrepreneurs',\n",
       " 'city_Cupertino',\n",
       " 'unknown',\n",
       " 'city_Mountain View',\n",
       " 'city_Dulles',\n",
       " 'city_San Bruno',\n",
       " 'city_Menlo Park',\n",
       " 'BS',\n",
       " 'city_Rijswijk',\n",
       " 'city_North Hollywood',\n",
       " 'city_Motebelluna',\n",
       " 'city_Ferndale',\n",
       " 'city_Kitchener, ON',\n",
       " 'city_Temecula',\n",
       " 'city_South Pasadena']"
      ]
     },
     "execution_count": 73,
     "metadata": {},
     "output_type": "execute_result"
    }
   ],
   "source": [
    "# 前几个相关性高的特征\n",
    "f_reg_var"
   ]
  },
  {
   "cell_type": "markdown",
   "metadata": {
    "heading_collapsed": true
   },
   "source": [
    "# 根据相关性选用特征重新进行数据处理"
   ]
  },
  {
   "cell_type": "code",
   "execution_count": 74,
   "metadata": {
    "ExecuteTime": {
     "end_time": "2021-05-23T14:11:54.860241Z",
     "start_time": "2021-05-23T14:11:54.846278Z"
    },
    "hidden": true
   },
   "outputs": [
    {
     "data": {
      "text/html": [
       "<div>\n",
       "<style scoped>\n",
       "    .dataframe tbody tr th:only-of-type {\n",
       "        vertical-align: middle;\n",
       "    }\n",
       "\n",
       "    .dataframe tbody tr th {\n",
       "        vertical-align: top;\n",
       "    }\n",
       "\n",
       "    .dataframe thead th {\n",
       "        text-align: right;\n",
       "    }\n",
       "</style>\n",
       "<table border=\"1\" class=\"dataframe\">\n",
       "  <thead>\n",
       "    <tr style=\"text-align: right;\">\n",
       "      <th></th>\n",
       "      <th>market</th>\n",
       "      <th>country_code</th>\n",
       "      <th>city</th>\n",
       "      <th>funding_rounds</th>\n",
       "      <th>funding_total_usd</th>\n",
       "      <th>relationships</th>\n",
       "      <th>founded_year</th>\n",
       "      <th>numEntrepreneurs</th>\n",
       "      <th>BA</th>\n",
       "      <th>BS</th>\n",
       "      <th>MBA</th>\n",
       "      <th>MS</th>\n",
       "      <th>PhD</th>\n",
       "      <th>unknown</th>\n",
       "      <th>success</th>\n",
       "      <th>startup</th>\n",
       "      <th>age</th>\n",
       "    </tr>\n",
       "  </thead>\n",
       "  <tbody>\n",
       "    <tr>\n",
       "      <th>0</th>\n",
       "      <td>web</td>\n",
       "      <td>USA</td>\n",
       "      <td>Seattle</td>\n",
       "      <td>3.0000</td>\n",
       "      <td>39750000.0000</td>\n",
       "      <td>17.0000</td>\n",
       "      <td>2005.0000</td>\n",
       "      <td>2</td>\n",
       "      <td>0.0000</td>\n",
       "      <td>0.0000</td>\n",
       "      <td>0.0000</td>\n",
       "      <td>0.0000</td>\n",
       "      <td>0.0000</td>\n",
       "      <td>2.0000</td>\n",
       "      <td>0</td>\n",
       "      <td>1</td>\n",
       "      <td>8.0000</td>\n",
       "    </tr>\n",
       "    <tr>\n",
       "      <th>4</th>\n",
       "      <td>web</td>\n",
       "      <td>USA</td>\n",
       "      <td>Mountain View</td>\n",
       "      <td>1.0000</td>\n",
       "      <td>5000000.0000</td>\n",
       "      <td>14.0000</td>\n",
       "      <td>2007.0000</td>\n",
       "      <td>2</td>\n",
       "      <td>0.0000</td>\n",
       "      <td>1.0000</td>\n",
       "      <td>0.0000</td>\n",
       "      <td>1.0000</td>\n",
       "      <td>0.0000</td>\n",
       "      <td>0.0000</td>\n",
       "      <td>1</td>\n",
       "      <td>1</td>\n",
       "      <td>6.0000</td>\n",
       "    </tr>\n",
       "    <tr>\n",
       "      <th>6</th>\n",
       "      <td>mobile</td>\n",
       "      <td>USA</td>\n",
       "      <td>Palo Alto</td>\n",
       "      <td>1.0000</td>\n",
       "      <td>0.0000</td>\n",
       "      <td>9.0000</td>\n",
       "      <td>2008.0000</td>\n",
       "      <td>5</td>\n",
       "      <td>0.0000</td>\n",
       "      <td>0.0000</td>\n",
       "      <td>0.0000</td>\n",
       "      <td>1.0000</td>\n",
       "      <td>0.0000</td>\n",
       "      <td>4.0000</td>\n",
       "      <td>1</td>\n",
       "      <td>1</td>\n",
       "      <td>5.0000</td>\n",
       "    </tr>\n",
       "    <tr>\n",
       "      <th>7</th>\n",
       "      <td>health</td>\n",
       "      <td>USA</td>\n",
       "      <td>San Francisco</td>\n",
       "      <td>5.0000</td>\n",
       "      <td>68069200.0000</td>\n",
       "      <td>14.0000</td>\n",
       "      <td>2007.0000</td>\n",
       "      <td>5</td>\n",
       "      <td>0.0000</td>\n",
       "      <td>1.0000</td>\n",
       "      <td>0.0000</td>\n",
       "      <td>1.0000</td>\n",
       "      <td>0.0000</td>\n",
       "      <td>3.0000</td>\n",
       "      <td>0</td>\n",
       "      <td>1</td>\n",
       "      <td>6.0000</td>\n",
       "    </tr>\n",
       "    <tr>\n",
       "      <th>9</th>\n",
       "      <td>analytics</td>\n",
       "      <td>USA</td>\n",
       "      <td>San Francisco</td>\n",
       "      <td>3.0000</td>\n",
       "      <td>33000000.0000</td>\n",
       "      <td>19.0000</td>\n",
       "      <td>2006.0000</td>\n",
       "      <td>4</td>\n",
       "      <td>1.0000</td>\n",
       "      <td>0.0000</td>\n",
       "      <td>0.0000</td>\n",
       "      <td>0.0000</td>\n",
       "      <td>0.0000</td>\n",
       "      <td>3.0000</td>\n",
       "      <td>0</td>\n",
       "      <td>1</td>\n",
       "      <td>7.0000</td>\n",
       "    </tr>\n",
       "  </tbody>\n",
       "</table>\n",
       "</div>"
      ],
      "text/plain": [
       "      market country_code           city  funding_rounds  funding_total_usd  \\\n",
       "0        web          USA        Seattle          3.0000      39750000.0000   \n",
       "4        web          USA  Mountain View          1.0000       5000000.0000   \n",
       "6     mobile          USA      Palo Alto          1.0000             0.0000   \n",
       "7     health          USA  San Francisco          5.0000      68069200.0000   \n",
       "9  analytics          USA  San Francisco          3.0000      33000000.0000   \n",
       "\n",
       "   relationships  founded_year  numEntrepreneurs     BA     BS    MBA     MS  \\\n",
       "0        17.0000     2005.0000                 2 0.0000 0.0000 0.0000 0.0000   \n",
       "4        14.0000     2007.0000                 2 0.0000 1.0000 0.0000 1.0000   \n",
       "6         9.0000     2008.0000                 5 0.0000 0.0000 0.0000 1.0000   \n",
       "7        14.0000     2007.0000                 5 0.0000 1.0000 0.0000 1.0000   \n",
       "9        19.0000     2006.0000                 4 1.0000 0.0000 0.0000 0.0000   \n",
       "\n",
       "     PhD  unknown  success  startup    age  \n",
       "0 0.0000   2.0000        0        1 8.0000  \n",
       "4 0.0000   0.0000        1        1 6.0000  \n",
       "6 0.0000   4.0000        1        1 5.0000  \n",
       "7 0.0000   3.0000        0        1 6.0000  \n",
       "9 0.0000   3.0000        0        1 7.0000  "
      ]
     },
     "execution_count": 74,
     "metadata": {},
     "output_type": "execute_result"
    }
   ],
   "source": [
    "startups_new.head()"
   ]
  },
  {
   "cell_type": "code",
   "execution_count": 75,
   "metadata": {
    "ExecuteTime": {
     "end_time": "2021-05-23T14:11:54.875200Z",
     "start_time": "2021-05-23T14:11:54.861237Z"
    },
    "hidden": true
   },
   "outputs": [],
   "source": [
    "startups_new=startups.drop(['id','name','status','public_at','acquired_at','funding_rounds','funding_total_usd','relationships'], axis=1)\n",
    "startups_new=startups_new.dropna(axis=0,subset = ['market', \n",
    "                   'country_code',\n",
    "                   'city',\n",
    "                   'founded_year', \n",
    "                   'numEntrepreneurs',\n",
    "                          ])"
   ]
  },
  {
   "cell_type": "code",
   "execution_count": 76,
   "metadata": {
    "ExecuteTime": {
     "end_time": "2021-05-23T14:11:54.890160Z",
     "start_time": "2021-05-23T14:11:54.876198Z"
    },
    "code_folding": [],
    "hidden": true
   },
   "outputs": [],
   "source": [
    "# 提取标签\n",
    "st_status = startups_new[['success']]"
   ]
  },
  {
   "cell_type": "code",
   "execution_count": 77,
   "metadata": {
    "ExecuteTime": {
     "end_time": "2021-05-23T14:11:54.905120Z",
     "start_time": "2021-05-23T14:11:54.892155Z"
    },
    "code_folding": [],
    "hidden": true
   },
   "outputs": [],
   "source": [
    "# 提取特征\n",
    "st_features = startups_new.drop('success',axis=1)"
   ]
  },
  {
   "cell_type": "code",
   "execution_count": 78,
   "metadata": {
    "ExecuteTime": {
     "end_time": "2021-05-23T14:11:54.984906Z",
     "start_time": "2021-05-23T14:11:54.906118Z"
    },
    "code_folding": [],
    "hidden": true
   },
   "outputs": [],
   "source": [
    "# 利用pandas的方法实现one hot encode\n",
    "st_features = pd.get_dummies(st_features)"
   ]
  },
  {
   "cell_type": "code",
   "execution_count": 79,
   "metadata": {
    "ExecuteTime": {
     "end_time": "2021-05-23T14:11:55.016822Z",
     "start_time": "2021-05-23T14:11:54.985905Z"
    },
    "code_folding": [],
    "hidden": true
   },
   "outputs": [],
   "source": [
    "# 把label和特征合并在一起\n",
    "st_master = pd.concat([st_status,st_features],axis=1)"
   ]
  },
  {
   "cell_type": "code",
   "execution_count": 80,
   "metadata": {
    "ExecuteTime": {
     "end_time": "2021-05-23T14:11:55.126528Z",
     "start_time": "2021-05-23T14:11:55.017820Z"
    },
    "code_folding": [],
    "hidden": true
   },
   "outputs": [],
   "source": [
    "# 数据均衡，调整正反例数据比例，对多的数据进行下采样，用于避免机器学习时产生误差\n",
    "\n",
    "# 区分哪个标签的数量多\n",
    "if st_master.success.mean()<0.5:\n",
    "    success_majority = st_master[st_master.success==0]\n",
    "    success_minority = st_master[st_master.success==1]\n",
    "else:\n",
    "    success_majority = st_master[st_master.success==1]\n",
    "    success_minority = st_master[st_master.success==0]\n",
    "    \n",
    "# 对数量多的标签数据进行下采样\n",
    "success_majority_downsampled = resample(success_majority, \n",
    "                                 replace=False,    # 采样后不替换原数据\n",
    "                                 n_samples=success_minority.success.count(),\n",
    "                                 random_state=123) # 固定随机种子确保每次运行实验结果都相同\n",
    " \n",
    "# 把降采样后的标签与小规模标签数据融合\n",
    "success_downsampled = pd.concat([success_majority_downsampled, success_minority])"
   ]
  },
  {
   "cell_type": "code",
   "execution_count": 81,
   "metadata": {
    "ExecuteTime": {
     "end_time": "2021-05-23T14:11:55.142485Z",
     "start_time": "2021-05-23T14:11:55.127525Z"
    },
    "code_folding": [],
    "hidden": true
   },
   "outputs": [
    {
     "data": {
      "text/plain": [
       "1    648\n",
       "0    648\n",
       "Name: success, dtype: int64"
      ]
     },
     "execution_count": 81,
     "metadata": {},
     "output_type": "execute_result"
    }
   ],
   "source": [
    "# 看一眼最终的数据集大小\n",
    "success_downsampled.success.value_counts()"
   ]
  },
  {
   "cell_type": "code",
   "execution_count": 82,
   "metadata": {
    "ExecuteTime": {
     "end_time": "2021-05-23T14:11:55.158443Z",
     "start_time": "2021-05-23T14:11:55.143483Z"
    },
    "hidden": true
   },
   "outputs": [],
   "source": [
    "# 初步设置训练集\n",
    "# 后面的列是特征\n",
    "X_log_success = success_downsampled.drop('success',axis=1)\n",
    "# 第一列是label\n",
    "y_log_success = success_downsampled['success']"
   ]
  },
  {
   "cell_type": "code",
   "execution_count": 83,
   "metadata": {
    "ExecuteTime": {
     "end_time": "2021-05-23T14:11:55.204320Z",
     "start_time": "2021-05-23T14:11:55.159440Z"
    },
    "code_folding": [],
    "hidden": true
   },
   "outputs": [],
   "source": [
    "# 特征提取，从我们手动添加的特征中提取5个相关程度最高的特征\n",
    "selector_f = SelectKBest(f_regression, k='all')\n",
    "selector_f.fit(X_log_success, y_log_success)\n",
    "\n",
    "name_var = [X_log_success.columns]\n",
    "var_score = selector_f.scores_\n",
    "\n",
    "kbest = pd.DataFrame(var_score, name_var).sort_values(by=0, ascending=False).head(20).reset_index()\n",
    "kbest.columns = ['var', 'score']"
   ]
  },
  {
   "cell_type": "code",
   "execution_count": 84,
   "metadata": {
    "ExecuteTime": {
     "end_time": "2021-05-23T14:11:55.219280Z",
     "start_time": "2021-05-23T14:11:55.205317Z"
    },
    "hidden": true
   },
   "outputs": [],
   "source": [
    "f_reg_var = kbest['var'].tolist()"
   ]
  },
  {
   "cell_type": "code",
   "execution_count": 85,
   "metadata": {
    "ExecuteTime": {
     "end_time": "2021-05-23T14:11:55.234240Z",
     "start_time": "2021-05-23T14:11:55.220278Z"
    },
    "hidden": true
   },
   "outputs": [
    {
     "data": {
      "text/plain": [
       "['country_code_USA',\n",
       " 'city_San Francisco',\n",
       " 'numEntrepreneurs',\n",
       " 'BS',\n",
       " 'unknown',\n",
       " 'age',\n",
       " 'founded_year',\n",
       " 'market_consulting',\n",
       " 'market_biotech',\n",
       " 'BA',\n",
       " 'market_mobile',\n",
       " 'market_public_relations',\n",
       " 'country_code_AUS',\n",
       " 'market_cleantech',\n",
       " 'country_code_IND',\n",
       " 'city_San Mateo',\n",
       " 'MBA',\n",
       " 'market_real_estate',\n",
       " 'city_Mountain View',\n",
       " 'country_code_GBR']"
      ]
     },
     "execution_count": 85,
     "metadata": {},
     "output_type": "execute_result"
    }
   ],
   "source": [
    "# # 最终采用的特征\n",
    "f_reg_var"
   ]
  },
  {
   "cell_type": "markdown",
   "metadata": {
    "heading_collapsed": true
   },
   "source": [
    "# 训练用数据集准备"
   ]
  },
  {
   "cell_type": "code",
   "execution_count": 86,
   "metadata": {
    "ExecuteTime": {
     "end_time": "2021-05-23T14:11:55.295078Z",
     "start_time": "2021-05-23T14:11:55.235237Z"
    },
    "hidden": true
   },
   "outputs": [
    {
     "name": "stdout",
     "output_type": "stream",
     "text": [
      "Warning: Maximum number of iterations has been exceeded.\n",
      "         Current function value: 0.616150\n",
      "         Iterations: 35\n",
      "                           Logit Regression Results                           \n",
      "==============================================================================\n",
      "Dep. Variable:                success   No. Observations:                 1296\n",
      "Model:                          Logit   Df Residuals:                     1276\n",
      "Method:                           MLE   Df Model:                           19\n",
      "Date:                Sun, 23 May 2021   Pseudo R-squ.:                  0.1111\n",
      "Time:                        22:11:55   Log-Likelihood:                -798.53\n",
      "converged:                      False   LL-Null:                       -898.32\n",
      "Covariance Type:            nonrobust   LLR p-value:                 4.135e-32\n",
      "===========================================================================================\n",
      "                              coef    std err          z      P>|z|      [0.025      0.975]\n",
      "-------------------------------------------------------------------------------------------\n",
      "country_code_USA            0.5017      0.157      3.202      0.001       0.195       0.809\n",
      "city_San Francisco          0.8428      0.184      4.581      0.000       0.482       1.203\n",
      "numEntrepreneurs           -0.1401      0.184     -0.760      0.447      -0.502       0.221\n",
      "BS                          0.5503      0.224      2.460      0.014       0.112       0.989\n",
      "unknown                     0.3118      0.194      1.607      0.108      -0.069       0.692\n",
      "age                         0.0686      0.023      2.977      0.003       0.023       0.114\n",
      "founded_year               -0.0006   8.91e-05     -6.664      0.000      -0.001      -0.000\n",
      "market_consulting          -1.6380      0.569     -2.878      0.004      -2.754      -0.522\n",
      "market_biotech            -58.4027   1.39e+12   -4.2e-11      1.000   -2.72e+12    2.72e+12\n",
      "BA                          0.5827      0.236      2.465      0.014       0.119       1.046\n",
      "market_mobile               0.5277      0.229      2.305      0.021       0.079       0.976\n",
      "market_public_relations    -1.3446      0.473     -2.842      0.004      -2.272      -0.417\n",
      "country_code_AUS          -22.4674   3.63e+04     -0.001      1.000   -7.12e+04    7.11e+04\n",
      "market_cleantech           -2.2663      1.066     -2.125      0.034      -4.356      -0.176\n",
      "country_code_IND           -0.6741      0.666     -1.012      0.311      -1.979       0.631\n",
      "city_San Mateo              1.6271      0.780      2.085      0.037       0.098       3.156\n",
      "MBA                         0.3465      0.256      1.354      0.176      -0.155       0.848\n",
      "market_real_estate        -31.2157    9.2e+05  -3.39e-05      1.000    -1.8e+06     1.8e+06\n",
      "city_Mountain View          0.7348      0.386      1.903      0.057      -0.022       1.492\n",
      "country_code_GBR           -0.0165      0.280     -0.059      0.953      -0.564       0.532\n",
      "===========================================================================================\n"
     ]
    },
    {
     "name": "stderr",
     "output_type": "stream",
     "text": [
      "l:\\anaconda3\\envs\\cs277\\lib\\site-packages\\statsmodels\\base\\model.py:568: ConvergenceWarning: Maximum Likelihood optimization failed to converge. Check mle_retvals\n",
      "  ConvergenceWarning)\n"
     ]
    }
   ],
   "source": [
    "success_log = sm.Logit(success_downsampled['success'], success_downsampled[f_reg_var]).fit()\n",
    "print(success_log.summary())"
   ]
  },
  {
   "cell_type": "code",
   "execution_count": 87,
   "metadata": {
    "ExecuteTime": {
     "end_time": "2021-05-23T14:11:55.325026Z",
     "start_time": "2021-05-23T14:11:55.296075Z"
    },
    "hidden": true
   },
   "outputs": [
    {
     "name": "stdout",
     "output_type": "stream",
     "text": [
      "(907, 20) (907,)\n",
      "(389, 20) (389,)\n"
     ]
    }
   ],
   "source": [
    "master_success = sklearn.utils.resample(success_downsampled, random_state=3) #  此处的随机数对结果影响较大\n",
    "\n",
    "# 重新确定训练特征和label\n",
    "X_success = master_success[f_reg_var]\n",
    "\n",
    "y_success = master_success['success']\n",
    "\n",
    "# 分训练集和测试集\n",
    "X_success_train, X_success_test, y_success_train, y_success_test = train_test_split(X_success, \n",
    "                                                                                        y_success,\n",
    "                                                                                        test_size=0.3,\n",
    "                                                                                        random_state=5)\n",
    "\n",
    "print(X_success_train.shape, y_success_train.shape)\n",
    "print(X_success_test.shape, y_success_test.shape)"
   ]
  },
  {
   "cell_type": "markdown",
   "metadata": {
    "heading_collapsed": true
   },
   "source": [
    "# 训练模型"
   ]
  },
  {
   "cell_type": "code",
   "execution_count": 88,
   "metadata": {
    "ExecuteTime": {
     "end_time": "2021-05-23T14:11:55.371872Z",
     "start_time": "2021-05-23T14:11:55.325994Z"
    },
    "hidden": true
   },
   "outputs": [],
   "source": [
    "# 逻辑回归训练\n",
    "logit = LogisticRegression()\n",
    "model_logit = logit.fit(X_success_train, y_success_train)"
   ]
  },
  {
   "cell_type": "code",
   "execution_count": 89,
   "metadata": {
    "ExecuteTime": {
     "end_time": "2021-05-23T14:11:55.970272Z",
     "start_time": "2021-05-23T14:11:55.373868Z"
    },
    "hidden": true
   },
   "outputs": [],
   "source": [
    "#随机森林\n",
    "from sklearn.ensemble import RandomForestClassifier\n",
    "rf = RandomForestClassifier (random_state = 42)\n",
    "model_rf = rf.fit(X_success_train, y_success_train)"
   ]
  },
  {
   "cell_type": "code",
   "execution_count": 90,
   "metadata": {
    "ExecuteTime": {
     "end_time": "2021-05-23T14:11:56.050058Z",
     "start_time": "2021-05-23T14:11:55.971269Z"
    },
    "hidden": true
   },
   "outputs": [],
   "source": [
    "#SVM\n",
    "from sklearn import svm\n",
    "model_svm = svm.SVC(C=2, kernel='linear', gamma=8)\n",
    "model_svm = model_svm.fit(X_success_train, y_success_train)"
   ]
  },
  {
   "cell_type": "code",
   "execution_count": 91,
   "metadata": {
    "ExecuteTime": {
     "end_time": "2021-05-23T14:11:56.654442Z",
     "start_time": "2021-05-23T14:11:56.051055Z"
    },
    "hidden": true
   },
   "outputs": [
    {
     "name": "stdout",
     "output_type": "stream",
     "text": [
      "[22:11:56] WARNING: C:/Users/Administrator/workspace/xgboost-win64_release_1.4.0/src/learner.cc:1095: Starting in XGBoost 1.3.0, the default evaluation metric used with the objective 'binary:logistic' was changed from 'error' to 'logloss'. Explicitly set eval_metric if you'd like to restore the old behavior.\n"
     ]
    }
   ],
   "source": [
    "#XGBoost\n",
    "import xgboost as xgb\n",
    "\n",
    "xgb_classifier = xgb.XGBClassifier()\n",
    "model_xgb = xgb_classifier.fit(X_success_train, y_success_train)"
   ]
  },
  {
   "cell_type": "markdown",
   "metadata": {
    "heading_collapsed": true
   },
   "source": [
    "# 进行预测"
   ]
  },
  {
   "cell_type": "code",
   "execution_count": 92,
   "metadata": {
    "ExecuteTime": {
     "end_time": "2021-05-23T14:11:56.669402Z",
     "start_time": "2021-05-23T14:11:56.655439Z"
    },
    "code_folding": [],
    "hidden": true
   },
   "outputs": [
    {
     "name": "stdout",
     "output_type": "stream",
     "text": [
      "Score: 0.6786632390745502\n"
     ]
    }
   ],
   "source": [
    "# 逻辑回归预测\n",
    "prediction_logit = model_logit.predict(X_success_test)\n",
    "print(\"Score:\", model_logit.score(X_success_test, y_success_test))"
   ]
  },
  {
   "cell_type": "code",
   "execution_count": 93,
   "metadata": {
    "ExecuteTime": {
     "end_time": "2021-05-23T14:11:56.729243Z",
     "start_time": "2021-05-23T14:11:56.671397Z"
    },
    "hidden": true
   },
   "outputs": [
    {
     "name": "stdout",
     "output_type": "stream",
     "text": [
      "Score: 0.7557840616966581\n"
     ]
    }
   ],
   "source": [
    "#随机森林预测\n",
    "predictions_rf = model_rf.predict(X_success_test)\n",
    "print(\"Score:\", model_rf.score(X_success_test, y_success_test))"
   ]
  },
  {
   "cell_type": "code",
   "execution_count": 94,
   "metadata": {
    "ExecuteTime": {
     "end_time": "2021-05-23T14:11:56.760160Z",
     "start_time": "2021-05-23T14:11:56.730240Z"
    },
    "hidden": true
   },
   "outputs": [
    {
     "name": "stdout",
     "output_type": "stream",
     "text": [
      "Score: 0.6580976863753213\n"
     ]
    }
   ],
   "source": [
    "#SVM预测\n",
    "predictions_svm = model_svm.predict(X_success_test)\n",
    "print(\"Score:\", model_svm.score(X_success_test, y_success_test))"
   ]
  },
  {
   "cell_type": "code",
   "execution_count": 95,
   "metadata": {
    "ExecuteTime": {
     "end_time": "2021-05-23T14:11:56.776116Z",
     "start_time": "2021-05-23T14:11:56.761157Z"
    },
    "hidden": true
   },
   "outputs": [
    {
     "name": "stdout",
     "output_type": "stream",
     "text": [
      "Score: 0.7223650385604113\n"
     ]
    }
   ],
   "source": [
    "#XGBoost 预测\n",
    "predictions_xgb = model_xgb.predict(X_success_test)\n",
    "print(\"Score:\", model_xgb.score(X_success_test, y_success_test))"
   ]
  },
  {
   "cell_type": "markdown",
   "metadata": {},
   "source": [
    "# 使用指标衡量预测结果好坏"
   ]
  },
  {
   "cell_type": "code",
   "execution_count": 96,
   "metadata": {
    "ExecuteTime": {
     "end_time": "2021-05-23T14:11:57.857226Z",
     "start_time": "2021-05-23T14:11:56.778111Z"
    },
    "code_folding": []
   },
   "outputs": [
    {
     "name": "stdout",
     "output_type": "stream",
     "text": [
      "10-fold cross validation average accuracy: 0.640\n",
      "10-fold cross validation average precision: 0.644\n",
      "10-fold cross validation average recall: 0.568\n"
     ]
    }
   ],
   "source": [
    "# 其他衡量指标\n",
    "kfold = model_selection.KFold(n_splits=10, random_state=5)\n",
    "results_logit_acc = model_selection.cross_val_score(logit, X_success_train, y_success_train, cv=kfold, scoring='accuracy')\n",
    "results_logit_pre = model_selection.cross_val_score(logit, X_success_train, y_success_train, cv=kfold, scoring='precision')\n",
    "results_logit_rec = model_selection.cross_val_score(logit, X_success_train, y_success_train, cv=kfold, scoring='recall')\n",
    "\n",
    "print(\"10-fold cross validation average accuracy: %.3f\" % (results_logit_acc.mean()))\n",
    "print(\"10-fold cross validation average precision: %.3f\" % (results_logit_pre.mean()))\n",
    "print(\"10-fold cross validation average recall: %.3f\" % (results_logit_rec.mean()))"
   ]
  },
  {
   "cell_type": "markdown",
   "metadata": {},
   "source": [
    "# 画混淆矩阵"
   ]
  },
  {
   "cell_type": "code",
   "execution_count": 97,
   "metadata": {
    "ExecuteTime": {
     "end_time": "2021-05-23T14:11:57.872187Z",
     "start_time": "2021-05-23T14:11:57.858225Z"
    },
    "code_folding": [
     0
    ]
   },
   "outputs": [],
   "source": [
    "#绘制混淆矩阵函数\n",
    "def plot_confusion_matrix(cm, classes,\n",
    "                          normalize=False,\n",
    "                          title='Confusion matrix',\n",
    "                          cmap=plt.cm.Blues):\n",
    "    \"\"\"\n",
    "    This function prints and plots the confusion matrix.\n",
    "    Normalization can be applied by setting `normalize=True`.\n",
    "    \"\"\"\n",
    "    if normalize:\n",
    "        cm = cm.astype('float') / cm.sum(axis=1)[:, np.newaxis]\n",
    "        print(\"Normalized confusion matrix\")\n",
    "    else:\n",
    "        print('Confusion matrix, without normalization')\n",
    "\n",
    "    print(cm)\n",
    "\n",
    "    plt.imshow(cm, interpolation='nearest', cmap=cmap)\n",
    "    plt.title(title)\n",
    "    plt.colorbar(fraction=0.046, pad=0.04)\n",
    "    tick_marks = np.arange(len(classes))\n",
    "    plt.xticks(tick_marks, classes, rotation=45)\n",
    "    plt.yticks(tick_marks, classes)\n",
    "\n",
    "    fmt = '.2f' if normalize else 'd'\n",
    "    thresh = cm.max() / 2.\n",
    "    for i, j in itertools.product(range(cm.shape[0]), range(cm.shape[1])):\n",
    "        plt.text(j, i, format(cm[i, j], fmt),\n",
    "                 horizontalalignment=\"center\",\n",
    "                 color=\"white\" if cm[i, j] > thresh else \"black\")\n",
    "\n",
    "    plt.tight_layout()\n",
    "    plt.ylabel('True label')\n",
    "    plt.xlabel('Predicted label')"
   ]
  },
  {
   "cell_type": "code",
   "execution_count": 108,
   "metadata": {
    "ExecuteTime": {
     "end_time": "2021-05-23T14:15:34.888641Z",
     "start_time": "2021-05-23T14:15:34.591436Z"
    }
   },
   "outputs": [
    {
     "name": "stdout",
     "output_type": "stream",
     "text": [
      "Normalized confusion matrix\n",
      "[[0.80829016 0.19170984]\n",
      " [0.44897959 0.55102041]]\n"
     ]
    },
    {
     "data": {
      "image/png": "[encoded data removed]",
      "text/plain": [
       "<Figure size 400x400 with 2 Axes>"
      ]
     },
     "metadata": {},
     "output_type": "display_data"
    }
   ],
   "source": [
    "# 逻辑回归混淆矩阵\n",
    "confusion_matrix_log = confusion_matrix(y_success_test, prediction_logit)\n",
    "class_names=[\"fail\",\"success\"]    \n",
    "\n",
    "# Plot non-normalized confusion matrix\n",
    "#plt.figure(figsize=(8,8))\n",
    "#plot_confusion_matrix(confusion_matrix_log, classes=class_names,\n",
    "#                      title='Confusion matrix, without normalization')\n",
    "\n",
    "# Plot normalized confusion matrix\n",
    "plt.figure(figsize=(4,4))\n",
    "plot_confusion_matrix(confusion_matrix_log, classes=class_names, normalize=True)\n",
    "plt.savefig('confusion_matrix_logistic_regression.png', dpi=300, transparent=True)\n",
    "plt.show()"
   ]
  },
  {
   "cell_type": "code",
   "execution_count": 109,
   "metadata": {
    "ExecuteTime": {
     "end_time": "2021-05-23T14:15:35.179891Z",
     "start_time": "2021-05-23T14:15:34.889638Z"
    }
   },
   "outputs": [
    {
     "name": "stdout",
     "output_type": "stream",
     "text": [
      "Normalized confusion matrix\n",
      "[[0.74611399 0.25388601]\n",
      " [0.23469388 0.76530612]]\n"
     ]
    },
    {
     "data": {
      "image/png": "[encoded data removed]",
      "text/plain": [
       "<Figure size 400x400 with 2 Axes>"
      ]
     },
     "metadata": {},
     "output_type": "display_data"
    }
   ],
   "source": [
    "# 随机森林混淆矩阵\n",
    "confusion_matrix_log_rf = confusion_matrix(y_success_test, predictions_rf)\n",
    "class_names_rf=[\"fail\",\"success\"]    \n",
    "\n",
    "# Plot non-normalized confusion matrix\n",
    "#plt.figure(figsize=(8,8))\n",
    "#plot_confusion_matrix(confusion_matrix_log, classes=class_names,\n",
    "#                      title='Confusion matrix, without normalization')\n",
    "\n",
    "# Plot normalized confusion matrix\n",
    "plt.figure(figsize=(4,4))\n",
    "plot_confusion_matrix(confusion_matrix_log_rf, classes=class_names_rf, normalize=True)\n",
    "plt.savefig('confusion_matrix_rf.png', dpi=300, transparent=True)\n",
    "plt.show()"
   ]
  },
  {
   "cell_type": "code",
   "execution_count": 110,
   "metadata": {
    "ExecuteTime": {
     "end_time": "2021-05-23T14:15:35.474075Z",
     "start_time": "2021-05-23T14:15:35.180859Z"
    }
   },
   "outputs": [
    {
     "name": "stdout",
     "output_type": "stream",
     "text": [
      "Normalized confusion matrix\n",
      "[[0.48186528 0.51813472]\n",
      " [0.16836735 0.83163265]]\n"
     ]
    },
    {
     "data": {
      "image/png": "[encoded data removed]",
      "text/plain": [
       "<Figure size 400x400 with 2 Axes>"
      ]
     },
     "metadata": {},
     "output_type": "display_data"
    }
   ],
   "source": [
    "# SVM混淆矩阵\n",
    "confusion_matrix_log_svm = confusion_matrix(y_success_test, predictions_svm)\n",
    "class_names_svm=[\"fail\",\"success\"]    \n",
    "\n",
    "# Plot non-normalized confusion matrix\n",
    "#plt.figure(figsize=(8,8))\n",
    "#plot_confusion_matrix(confusion_matrix_log, classes=class_names,\n",
    "#                      title='Confusion matrix, without normalization')\n",
    "\n",
    "# Plot normalized confusion matrix\n",
    "plt.figure(figsize=(4,4))\n",
    "plot_confusion_matrix(confusion_matrix_log_svm, classes=class_names_svm, normalize=True)\n",
    "plt.savefig('confusion_matrix_svm.png', dpi=300, transparent=True)\n",
    "plt.show()"
   ]
  },
  {
   "cell_type": "code",
   "execution_count": 111,
   "metadata": {
    "ExecuteTime": {
     "end_time": "2021-05-23T14:15:35.761308Z",
     "start_time": "2021-05-23T14:15:35.475073Z"
    }
   },
   "outputs": [
    {
     "name": "stdout",
     "output_type": "stream",
     "text": [
      "Normalized confusion matrix\n",
      "[[0.70466321 0.29533679]\n",
      " [0.26020408 0.73979592]]\n"
     ]
    },
    {
     "data": {
      "image/png": "[encoded data removed]",
      "text/plain": [
       "<Figure size 400x400 with 2 Axes>"
      ]
     },
     "metadata": {},
     "output_type": "display_data"
    }
   ],
   "source": [
    "# XGBoost混淆矩阵\n",
    "confusion_matrix_log_xgb = confusion_matrix(y_success_test, predictions_xgb)\n",
    "class_names_xgb=[\"fail\",\"success\"]    \n",
    "\n",
    "# Plot non-normalized confusion matrix\n",
    "#plt.figure(figsize=(8,8))\n",
    "#plot_confusion_matrix(confusion_matrix_log, classes=class_names,\n",
    "#                      title='Confusion matrix, without normalization')\n",
    "\n",
    "# Plot normalized confusion matrix\n",
    "plt.figure(figsize=(4,4))\n",
    "plot_confusion_matrix(confusion_matrix_log_xgb, classes=class_names_xgb, normalize=True)\n",
    "plt.savefig('confusion_matrix_xgb.png', dpi=300, transparent=True)\n",
    "plt.show()"
   ]
  },
  {
   "cell_type": "code",
   "execution_count": null,
   "metadata": {},
   "outputs": [],
   "source": []
  }
 ],
 "metadata": {
  "kernelspec": {
   "display_name": "Python 3",
   "language": "python",
   "name": "python3"
  },
  "language_info": {
   "codemirror_mode": {
    "name": "ipython",
    "version": 3
   },
   "file_extension": ".py",
   "mimetype": "text/x-python",
   "name": "python",
   "nbconvert_exporter": "python",
   "pygments_lexer": "ipython3",
   "version": "3.6.12"
  }
 },
 "nbformat": 4,
 "nbformat_minor": 2
}
